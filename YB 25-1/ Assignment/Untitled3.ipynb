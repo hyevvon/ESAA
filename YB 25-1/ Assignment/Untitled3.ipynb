{
  "nbformat": 4,
  "nbformat_minor": 0,
  "metadata": {
    "colab": {
      "provenance": [],
      "authorship_tag": "ABX9TyMk+u89V9B1YaMRWhW3/Nch"
    },
    "kernelspec": {
      "name": "python3",
      "display_name": "Python 3"
    },
    "language_info": {
      "name": "python"
    }
  },
  "cells": [
    {
      "cell_type": "markdown",
      "source": [
        "# [개념 필사]"
      ],
      "metadata": {
        "id": "IZEEDKEvJ7Y4"
      }
    },
    {
      "cell_type": "markdown",
      "source": [
        "# CHAPTER 04 <분류>\n",
        "\n",
        "## 3. 앙상블 학습\n",
        "\n",
        "\n",
        "> 개요\n",
        "\n",
        "앙상블학습을 통한 분류: 여러 개의 분류기로부터의 예측을 결합함으로써 보다 정확한 최종 예측을 도출하는 기법\n",
        "\n",
        "정형데이터 분류 시에 유용\n",
        "\n",
        "항상 단일(기반) 분류기보다 성능 좋은 것 아님, BUT 단일 알고리즘보다 성능 뛰어날 확률 높음 (머신러닝 모델은 높은 유연성 중요)\n",
        "\n",
        "학습 유형\n",
        "* 보팅(**서로 다른** 알고리즘 결합)\n",
        "* 배깅(**동일한** 알고리즘 결합,다른 샘플링) - 부트스트래핑 분할 방식 / 중헙 허용\n",
        "* 부스팅 - 여러 분류기 순차적 학습, 앞에서 틀린 데이터에 대해 가중치 부여하면서 학습 진행\n",
        "* 스태깅 - 여러 모델의 예측 결괏값을 다시 학습 데이터로 만들어서 메타 모델로 재학습 시켜 결과 예측  \n",
        "\n",
        "\n",
        "랜덤포레스트(배깅), 그래디언트 부스팅(> XGBoost, LightGBM)\n",
        "\n",
        "> 보팅 ; 하드 보팅, 소프트 보팅\n",
        "\n",
        "(1) 하드 보팅: 다수결\n",
        "\n",
        "(2) 소프트 보팅: 분류기들의 레이블 값 결정 확률을 평균내서 가장 높은 레이블 값을 선택 / 비교적 예측 성능 좋음 -> 더 많이 사용\n",
        "```\n",
        "VotingClassifier : 보팅 방식의 앙상블 구현한 클래스\n",
        "- estimators: 보팅에 사용될 여러 개의 분류기 객체 리스트, 튜플로 입력\n",
        "- voting: 'hard'(디폴트), 'soft' 지정\n",
        "```\n",
        "\n",
        "## 4. 랜덤 포레스트\n",
        "\n",
        "> 특징: 배깅의 대표적 알고리즘, 빠른 수행 속도, 기반 알고리즘으로 결정 트리 사용\n",
        "\n",
        "부트스트래핑: 여러 개의 데이터셋을 중첩되게 분리하는 것 / 개별 트리가 학습하는 데이터셋은 중첩되게 샘플링된 데이터 / 서브세트 데이터 개수 = 전체 데이터 개수 (중첩)\n",
        "\n",
        "> 하이퍼 파라미터 및 튜닝\n",
        "* n_estimators: 랜덤 포레스트에서 결정 트리 개수 지정, 10개 (디폴트)\n",
        "* max_features: 결정트리 인자와 동일 / 디폴트값이 'auto' (sqrt)\n",
        "* max_depth, min_samples_leaf, min_samples_split\n",
        "\n",
        "\n",
        "```\n",
        "RandomForestClassifier\n",
        "```\n",
        "\n",
        "## 5. GBM (Gradient Boosting Machine)\n",
        "\n",
        "> 부스팅 알고리즘: 여러 개의 약한 학습기를 순차적으로 학습-예측하면서 잘못 예측한 데이터에 가중치 부여를 통해 오류를 개선해 나가며 학습하는 방식 / 과적합에 강함\n",
        "\n",
        "(1) 에이다 부스트(Adaptive boosting): 약한 학습기가 순차적으로 오류 값에 대해 가중치를 부여한 예측 결정 기준을 **모두 결합** 해 예측 수행\n",
        "\n",
        "(2) 그래디언트 부스트: 에이다 부스트와 유사하지만, 가중치 업데이트에 '경사 하강법' 사용 / 회귀 가능 / 일반적으로 랜덤포레스트 보다 예측 성능 좋음 BUT 수행 시간 오래 걸림\n",
        "\n",
        "* 경사 하강법: 오류식(실제값-예측값) h(x)=y-F(x) 를 최소화하는 방향으로, 반복적으로 가중치 값을 업데이트 하는 것\n",
        "\n",
        "\n",
        "```\n",
        "GradientBoostingClassifier\n",
        "```\n",
        "\n",
        "\n",
        "> 하이퍼 파라미터\n",
        "* loss: 경사 하강법에서 사용할 비용 함수 지정 / 'deviance' 디폴트\n",
        "* learning_rate: GBM 학습 진행마다 적용되는 학습률 / Weak learner가 순차적으로 오류 값을 보정해 나가는 데 적용하는 계수, 0~1 / n_estimators 와 상호 보완적으로 조합해 사용해야함 / 0.1 디폴트\n",
        "* n_estimators: weak learner의 개수 / 100 디폴트\n",
        "* subsample: weak learner가 학습에 사용하는 데이터 샘플링 비율 / 1 디폴트\n",
        "\n",
        "## 6. XGBoost (eXtra Gradient Boost)\n",
        "\n",
        "> XGBoost: GBM 기반, 시간 오래 걸림 및 과적합 문제 해결\n",
        "\n",
        "* 장점: 뛰어난 예측성능, GBM 대비 빠른 수행 시간, 과적합 규제 기능 존재, 나무 가지치기, 자체 내장된 교차 검증, 결손값 자체 처리 기능, 조기 중단 기능 (지정한 반복횟수에 도달하지 않더라도 오류가 더 이상 개선되지 않으면 수행 중지)\n",
        "\n",
        "```\n",
        "사이킷런 래퍼 클래스\n",
        "\n",
        "XGBClassifier\n",
        "\n",
        "XGBRegressor\n",
        "```\n",
        "\n",
        "> **파이썬 래퍼 XGBoost 하이퍼 파라미터**\n",
        "\n",
        "(1) 일반 파라미터\n",
        "\n",
        "(2) 부스터 파라미터: 대부분의 하이퍼 파라미터가 여기에 속함\n",
        "* eta[defa나t=0.3, alias:learning_rate]: GBM의 학습률과 동일\n",
        "* num_boost_rounds: = n_estimators\n",
        "* min_child_weight: 과적합 조절 시, 트리에서 추가적으로 가지를 나눌지 결정하기 위해 필요한 데이터들의 weight 총합\n",
        "* gamma[defa니t=0, alias:min_split_loss]: 리프 노드 분리를 결정하는 최소 손실 값\n",
        "* max_depth[default=6]\n",
        "* sub_sample[default=1]: = GBM의 subsampe\n",
        "* colsample_bytree[default=l]: max_features와 유사\n",
        "* lambda[default=1, alias:reg_lambda]: L2 Regularization 적용값. 클수록 과적합 감소 효과\n",
        "* alpha[default=0, alias:reg_alpha]: L1 Regularization 적용값. 클수록 과적합 감소 효과\n",
        "*  scale_pos_weight[default=1]: 비대칭한 클래스로 구성된 데이터셋의 균형 유지하기 위한 파라미터\n",
        "\n",
        "\n",
        "(3) 학습 태스크 파라미터: 학습 수행 시 객체 함수, 평가 지표 등 설정\n",
        "\n",
        ">> 과적합 문제 해결 방안: eta 낮추기 (num_round 올리기) / max_depth 낮추기 / min_child_weight 낮추기 / gamma 높이기 / subsample, colsample_bytree 조정\n",
        "\n",
        "> 위스콘신 유방암 예측 (파이썬 래퍼)\n",
        "\n",
        "* 양성 종양 or 악성 종양 / 피처에 따라 종양 예측\n",
        "* xgboost의 자체적인 교차 검증. 성능 평가, 피처 중요도 등 시각화 기능 이용\n",
        "\n",
        "* 파이썬 래퍼, 전용 객체인 DMatrix 사용 (data=, label=)\n",
        "* 하이퍼 파라미터 설정 (주로 딕셔너리 형태로 입력)\n",
        "* 하이퍼 파라미터를 모듈의 train() 함수에 파라미터로 전달해야함\n",
        "* 조기중단: train() 에 early_stopping_rounds 파라미터로 설정 (평가용 데이터세트&eval_metric 함께 설정해야함)\n",
        "\n",
        "* predict()의 반환값: 예측 결괏값이 아닌 예측 결과를 추정할 수 있는 확률 값 반환! (예측결괏값을 반환하는 로직 추가필요)\n",
        "\n",
        "> **사이킷런 래퍼 XGBoost**\n",
        "\n",
        "fit(). predict()만으로 학습, 예측 가능\n",
        "\n",
        "다른 ML 알고리즘과의 호환성 좋음\n",
        "\n",
        "> 위스콘신 유방암 예측 (파이썬 래퍼)\n",
        "\n",
        "* 조기중단 파라미터 > fit() 에 입력"
      ],
      "metadata": {
        "id": "kXIFi_rHJ87S"
      }
    },
    {
      "cell_type": "markdown",
      "source": [
        "# [코드 필사]"
      ],
      "metadata": {
        "id": "Dumv63AwPkKX"
      }
    },
    {
      "cell_type": "markdown",
      "source": [
        "* 보팅 앙상블로 유방암 데이터셋 예측 (로지스틱, KNN 기반)"
      ],
      "metadata": {
        "id": "bPsBudSXPrUf"
      }
    },
    {
      "cell_type": "code",
      "execution_count": 1,
      "metadata": {
        "colab": {
          "base_uri": "https://localhost:8080/",
          "height": 227
        },
        "id": "tegvyK74J6o3",
        "outputId": "05c989f5-ec5e-4d31-d246-97260b2614d4"
      },
      "outputs": [
        {
          "output_type": "execute_result",
          "data": {
            "text/plain": [
              "   mean radius  mean texture  mean perimeter  mean area  mean smoothness  \\\n",
              "0        17.99         10.38           122.8     1001.0          0.11840   \n",
              "1        20.57         17.77           132.9     1326.0          0.08474   \n",
              "2        19.69         21.25           130.0     1203.0          0.10960   \n",
              "\n",
              "   mean compactness  mean concavity  mean concave points  mean symmetry  \\\n",
              "0           0.27760          0.3001              0.14710         0.2419   \n",
              "1           0.07864          0.0869              0.07017         0.1812   \n",
              "2           0.15990          0.1974              0.12790         0.2069   \n",
              "\n",
              "   mean fractal dimension  ...  worst radius  worst texture  worst perimeter  \\\n",
              "0                 0.07871  ...         25.38          17.33            184.6   \n",
              "1                 0.05667  ...         24.99          23.41            158.8   \n",
              "2                 0.05999  ...         23.57          25.53            152.5   \n",
              "\n",
              "   worst area  worst smoothness  worst compactness  worst concavity  \\\n",
              "0      2019.0            0.1622             0.6656           0.7119   \n",
              "1      1956.0            0.1238             0.1866           0.2416   \n",
              "2      1709.0            0.1444             0.4245           0.4504   \n",
              "\n",
              "   worst concave points  worst symmetry  worst fractal dimension  \n",
              "0                0.2654          0.4601                  0.11890  \n",
              "1                0.1860          0.2750                  0.08902  \n",
              "2                0.2430          0.3613                  0.08758  \n",
              "\n",
              "[3 rows x 30 columns]"
            ],
            "text/html": [
              "\n",
              "  <div id=\"df-8a88a033-6e2f-4459-bf0e-ae58eb960ac6\" class=\"colab-df-container\">\n",
              "    <div>\n",
              "<style scoped>\n",
              "    .dataframe tbody tr th:only-of-type {\n",
              "        vertical-align: middle;\n",
              "    }\n",
              "\n",
              "    .dataframe tbody tr th {\n",
              "        vertical-align: top;\n",
              "    }\n",
              "\n",
              "    .dataframe thead th {\n",
              "        text-align: right;\n",
              "    }\n",
              "</style>\n",
              "<table border=\"1\" class=\"dataframe\">\n",
              "  <thead>\n",
              "    <tr style=\"text-align: right;\">\n",
              "      <th></th>\n",
              "      <th>mean radius</th>\n",
              "      <th>mean texture</th>\n",
              "      <th>mean perimeter</th>\n",
              "      <th>mean area</th>\n",
              "      <th>mean smoothness</th>\n",
              "      <th>mean compactness</th>\n",
              "      <th>mean concavity</th>\n",
              "      <th>mean concave points</th>\n",
              "      <th>mean symmetry</th>\n",
              "      <th>mean fractal dimension</th>\n",
              "      <th>...</th>\n",
              "      <th>worst radius</th>\n",
              "      <th>worst texture</th>\n",
              "      <th>worst perimeter</th>\n",
              "      <th>worst area</th>\n",
              "      <th>worst smoothness</th>\n",
              "      <th>worst compactness</th>\n",
              "      <th>worst concavity</th>\n",
              "      <th>worst concave points</th>\n",
              "      <th>worst symmetry</th>\n",
              "      <th>worst fractal dimension</th>\n",
              "    </tr>\n",
              "  </thead>\n",
              "  <tbody>\n",
              "    <tr>\n",
              "      <th>0</th>\n",
              "      <td>17.99</td>\n",
              "      <td>10.38</td>\n",
              "      <td>122.8</td>\n",
              "      <td>1001.0</td>\n",
              "      <td>0.11840</td>\n",
              "      <td>0.27760</td>\n",
              "      <td>0.3001</td>\n",
              "      <td>0.14710</td>\n",
              "      <td>0.2419</td>\n",
              "      <td>0.07871</td>\n",
              "      <td>...</td>\n",
              "      <td>25.38</td>\n",
              "      <td>17.33</td>\n",
              "      <td>184.6</td>\n",
              "      <td>2019.0</td>\n",
              "      <td>0.1622</td>\n",
              "      <td>0.6656</td>\n",
              "      <td>0.7119</td>\n",
              "      <td>0.2654</td>\n",
              "      <td>0.4601</td>\n",
              "      <td>0.11890</td>\n",
              "    </tr>\n",
              "    <tr>\n",
              "      <th>1</th>\n",
              "      <td>20.57</td>\n",
              "      <td>17.77</td>\n",
              "      <td>132.9</td>\n",
              "      <td>1326.0</td>\n",
              "      <td>0.08474</td>\n",
              "      <td>0.07864</td>\n",
              "      <td>0.0869</td>\n",
              "      <td>0.07017</td>\n",
              "      <td>0.1812</td>\n",
              "      <td>0.05667</td>\n",
              "      <td>...</td>\n",
              "      <td>24.99</td>\n",
              "      <td>23.41</td>\n",
              "      <td>158.8</td>\n",
              "      <td>1956.0</td>\n",
              "      <td>0.1238</td>\n",
              "      <td>0.1866</td>\n",
              "      <td>0.2416</td>\n",
              "      <td>0.1860</td>\n",
              "      <td>0.2750</td>\n",
              "      <td>0.08902</td>\n",
              "    </tr>\n",
              "    <tr>\n",
              "      <th>2</th>\n",
              "      <td>19.69</td>\n",
              "      <td>21.25</td>\n",
              "      <td>130.0</td>\n",
              "      <td>1203.0</td>\n",
              "      <td>0.10960</td>\n",
              "      <td>0.15990</td>\n",
              "      <td>0.1974</td>\n",
              "      <td>0.12790</td>\n",
              "      <td>0.2069</td>\n",
              "      <td>0.05999</td>\n",
              "      <td>...</td>\n",
              "      <td>23.57</td>\n",
              "      <td>25.53</td>\n",
              "      <td>152.5</td>\n",
              "      <td>1709.0</td>\n",
              "      <td>0.1444</td>\n",
              "      <td>0.4245</td>\n",
              "      <td>0.4504</td>\n",
              "      <td>0.2430</td>\n",
              "      <td>0.3613</td>\n",
              "      <td>0.08758</td>\n",
              "    </tr>\n",
              "  </tbody>\n",
              "</table>\n",
              "<p>3 rows × 30 columns</p>\n",
              "</div>\n",
              "    <div class=\"colab-df-buttons\">\n",
              "\n",
              "  <div class=\"colab-df-container\">\n",
              "    <button class=\"colab-df-convert\" onclick=\"convertToInteractive('df-8a88a033-6e2f-4459-bf0e-ae58eb960ac6')\"\n",
              "            title=\"Convert this dataframe to an interactive table.\"\n",
              "            style=\"display:none;\">\n",
              "\n",
              "  <svg xmlns=\"http://www.w3.org/2000/svg\" height=\"24px\" viewBox=\"0 -960 960 960\">\n",
              "    <path d=\"M120-120v-720h720v720H120Zm60-500h600v-160H180v160Zm220 220h160v-160H400v160Zm0 220h160v-160H400v160ZM180-400h160v-160H180v160Zm440 0h160v-160H620v160ZM180-180h160v-160H180v160Zm440 0h160v-160H620v160Z\"/>\n",
              "  </svg>\n",
              "    </button>\n",
              "\n",
              "  <style>\n",
              "    .colab-df-container {\n",
              "      display:flex;\n",
              "      gap: 12px;\n",
              "    }\n",
              "\n",
              "    .colab-df-convert {\n",
              "      background-color: #E8F0FE;\n",
              "      border: none;\n",
              "      border-radius: 50%;\n",
              "      cursor: pointer;\n",
              "      display: none;\n",
              "      fill: #1967D2;\n",
              "      height: 32px;\n",
              "      padding: 0 0 0 0;\n",
              "      width: 32px;\n",
              "    }\n",
              "\n",
              "    .colab-df-convert:hover {\n",
              "      background-color: #E2EBFA;\n",
              "      box-shadow: 0px 1px 2px rgba(60, 64, 67, 0.3), 0px 1px 3px 1px rgba(60, 64, 67, 0.15);\n",
              "      fill: #174EA6;\n",
              "    }\n",
              "\n",
              "    .colab-df-buttons div {\n",
              "      margin-bottom: 4px;\n",
              "    }\n",
              "\n",
              "    [theme=dark] .colab-df-convert {\n",
              "      background-color: #3B4455;\n",
              "      fill: #D2E3FC;\n",
              "    }\n",
              "\n",
              "    [theme=dark] .colab-df-convert:hover {\n",
              "      background-color: #434B5C;\n",
              "      box-shadow: 0px 1px 3px 1px rgba(0, 0, 0, 0.15);\n",
              "      filter: drop-shadow(0px 1px 2px rgba(0, 0, 0, 0.3));\n",
              "      fill: #FFFFFF;\n",
              "    }\n",
              "  </style>\n",
              "\n",
              "    <script>\n",
              "      const buttonEl =\n",
              "        document.querySelector('#df-8a88a033-6e2f-4459-bf0e-ae58eb960ac6 button.colab-df-convert');\n",
              "      buttonEl.style.display =\n",
              "        google.colab.kernel.accessAllowed ? 'block' : 'none';\n",
              "\n",
              "      async function convertToInteractive(key) {\n",
              "        const element = document.querySelector('#df-8a88a033-6e2f-4459-bf0e-ae58eb960ac6');\n",
              "        const dataTable =\n",
              "          await google.colab.kernel.invokeFunction('convertToInteractive',\n",
              "                                                    [key], {});\n",
              "        if (!dataTable) return;\n",
              "\n",
              "        const docLinkHtml = 'Like what you see? Visit the ' +\n",
              "          '<a target=\"_blank\" href=https://colab.research.google.com/notebooks/data_table.ipynb>data table notebook</a>'\n",
              "          + ' to learn more about interactive tables.';\n",
              "        element.innerHTML = '';\n",
              "        dataTable['output_type'] = 'display_data';\n",
              "        await google.colab.output.renderOutput(dataTable, element);\n",
              "        const docLink = document.createElement('div');\n",
              "        docLink.innerHTML = docLinkHtml;\n",
              "        element.appendChild(docLink);\n",
              "      }\n",
              "    </script>\n",
              "  </div>\n",
              "\n",
              "\n",
              "<div id=\"df-71e17d0f-374b-4fd6-a149-b627a8cdd330\">\n",
              "  <button class=\"colab-df-quickchart\" onclick=\"quickchart('df-71e17d0f-374b-4fd6-a149-b627a8cdd330')\"\n",
              "            title=\"Suggest charts\"\n",
              "            style=\"display:none;\">\n",
              "\n",
              "<svg xmlns=\"http://www.w3.org/2000/svg\" height=\"24px\"viewBox=\"0 0 24 24\"\n",
              "     width=\"24px\">\n",
              "    <g>\n",
              "        <path d=\"M19 3H5c-1.1 0-2 .9-2 2v14c0 1.1.9 2 2 2h14c1.1 0 2-.9 2-2V5c0-1.1-.9-2-2-2zM9 17H7v-7h2v7zm4 0h-2V7h2v10zm4 0h-2v-4h2v4z\"/>\n",
              "    </g>\n",
              "</svg>\n",
              "  </button>\n",
              "\n",
              "<style>\n",
              "  .colab-df-quickchart {\n",
              "      --bg-color: #E8F0FE;\n",
              "      --fill-color: #1967D2;\n",
              "      --hover-bg-color: #E2EBFA;\n",
              "      --hover-fill-color: #174EA6;\n",
              "      --disabled-fill-color: #AAA;\n",
              "      --disabled-bg-color: #DDD;\n",
              "  }\n",
              "\n",
              "  [theme=dark] .colab-df-quickchart {\n",
              "      --bg-color: #3B4455;\n",
              "      --fill-color: #D2E3FC;\n",
              "      --hover-bg-color: #434B5C;\n",
              "      --hover-fill-color: #FFFFFF;\n",
              "      --disabled-bg-color: #3B4455;\n",
              "      --disabled-fill-color: #666;\n",
              "  }\n",
              "\n",
              "  .colab-df-quickchart {\n",
              "    background-color: var(--bg-color);\n",
              "    border: none;\n",
              "    border-radius: 50%;\n",
              "    cursor: pointer;\n",
              "    display: none;\n",
              "    fill: var(--fill-color);\n",
              "    height: 32px;\n",
              "    padding: 0;\n",
              "    width: 32px;\n",
              "  }\n",
              "\n",
              "  .colab-df-quickchart:hover {\n",
              "    background-color: var(--hover-bg-color);\n",
              "    box-shadow: 0 1px 2px rgba(60, 64, 67, 0.3), 0 1px 3px 1px rgba(60, 64, 67, 0.15);\n",
              "    fill: var(--button-hover-fill-color);\n",
              "  }\n",
              "\n",
              "  .colab-df-quickchart-complete:disabled,\n",
              "  .colab-df-quickchart-complete:disabled:hover {\n",
              "    background-color: var(--disabled-bg-color);\n",
              "    fill: var(--disabled-fill-color);\n",
              "    box-shadow: none;\n",
              "  }\n",
              "\n",
              "  .colab-df-spinner {\n",
              "    border: 2px solid var(--fill-color);\n",
              "    border-color: transparent;\n",
              "    border-bottom-color: var(--fill-color);\n",
              "    animation:\n",
              "      spin 1s steps(1) infinite;\n",
              "  }\n",
              "\n",
              "  @keyframes spin {\n",
              "    0% {\n",
              "      border-color: transparent;\n",
              "      border-bottom-color: var(--fill-color);\n",
              "      border-left-color: var(--fill-color);\n",
              "    }\n",
              "    20% {\n",
              "      border-color: transparent;\n",
              "      border-left-color: var(--fill-color);\n",
              "      border-top-color: var(--fill-color);\n",
              "    }\n",
              "    30% {\n",
              "      border-color: transparent;\n",
              "      border-left-color: var(--fill-color);\n",
              "      border-top-color: var(--fill-color);\n",
              "      border-right-color: var(--fill-color);\n",
              "    }\n",
              "    40% {\n",
              "      border-color: transparent;\n",
              "      border-right-color: var(--fill-color);\n",
              "      border-top-color: var(--fill-color);\n",
              "    }\n",
              "    60% {\n",
              "      border-color: transparent;\n",
              "      border-right-color: var(--fill-color);\n",
              "    }\n",
              "    80% {\n",
              "      border-color: transparent;\n",
              "      border-right-color: var(--fill-color);\n",
              "      border-bottom-color: var(--fill-color);\n",
              "    }\n",
              "    90% {\n",
              "      border-color: transparent;\n",
              "      border-bottom-color: var(--fill-color);\n",
              "    }\n",
              "  }\n",
              "</style>\n",
              "\n",
              "  <script>\n",
              "    async function quickchart(key) {\n",
              "      const quickchartButtonEl =\n",
              "        document.querySelector('#' + key + ' button');\n",
              "      quickchartButtonEl.disabled = true;  // To prevent multiple clicks.\n",
              "      quickchartButtonEl.classList.add('colab-df-spinner');\n",
              "      try {\n",
              "        const charts = await google.colab.kernel.invokeFunction(\n",
              "            'suggestCharts', [key], {});\n",
              "      } catch (error) {\n",
              "        console.error('Error during call to suggestCharts:', error);\n",
              "      }\n",
              "      quickchartButtonEl.classList.remove('colab-df-spinner');\n",
              "      quickchartButtonEl.classList.add('colab-df-quickchart-complete');\n",
              "    }\n",
              "    (() => {\n",
              "      let quickchartButtonEl =\n",
              "        document.querySelector('#df-71e17d0f-374b-4fd6-a149-b627a8cdd330 button');\n",
              "      quickchartButtonEl.style.display =\n",
              "        google.colab.kernel.accessAllowed ? 'block' : 'none';\n",
              "    })();\n",
              "  </script>\n",
              "</div>\n",
              "\n",
              "    </div>\n",
              "  </div>\n"
            ],
            "application/vnd.google.colaboratory.intrinsic+json": {
              "type": "dataframe",
              "variable_name": "data_df"
            }
          },
          "metadata": {},
          "execution_count": 1
        }
      ],
      "source": [
        "import pandas as pd\n",
        "\n",
        "from sklearn.ensemble import VotingClassifier\n",
        "from sklearn.linear_model import LogisticRegression\n",
        "from sklearn.neighbors import KNeighborsClassifier\n",
        "from sklearn.datasets import load_breast_cancer\n",
        "from sklearn.model_selection import train_test_split\n",
        "from sklearn.metrics import accuracy_score\n",
        "\n",
        "cancer = load_breast_cancer()\n",
        "\n",
        "data_df = pd.DataFrame(cancer.data, columns=cancer.feature_names)\n",
        "data_df.head(3)"
      ]
    },
    {
      "cell_type": "code",
      "source": [
        "# VotingClassifier 로 보팅 분류기 생성\n",
        "\n",
        "# 개별 모델: 로지스틱 회귀, KNN\n",
        "lr_clf = LogisticRegression(solver='liblinear')\n",
        "knn_clf = KNeighborsClassifier(n_neighbors=8)\n",
        "\n",
        "# 개별 모델을 소프트 보팅 기반의 앙상블 모델로 구현한 분류기\n",
        "vo_clf = VotingClassifier(estimators=[('LR', lr_clf), ('KNN', knn_clf)], voting='soft')\n",
        "\n",
        "X_train, X_test, y_train, y_test = train_test_split(cancer.data, cancer.target,\n",
        "                                                    test_size=0.2, random_state=156)\n",
        "\n",
        "# 학습, 예측, 평가\n",
        "vo_clf.fit(X_train, y_train)\n",
        "pred = vo_clf.predict(X_test)\n",
        "print('Voting 분류기 정확도: {0:.4f}'.format(accuracy_score(y_test, pred)))\n",
        "\n",
        "# 개별 모델 학습, 예측, 평가\n",
        "classifiers = [lr_clf, knn_clf]\n",
        "for classifier in classifiers:\n",
        "    classifier.fit(X_train, y_train)\n",
        "    pred = classifier.predict(X_test)\n",
        "    class_name = classifier.__class__.__name__\n",
        "    print('{0} 정확도: {1:.4f}'.format(class_name, accuracy_score(y_test, pred)))"
      ],
      "metadata": {
        "colab": {
          "base_uri": "https://localhost:8080/"
        },
        "id": "YXT3t8yzQIPz",
        "outputId": "c52163a5-856d-4e13-f1dc-288543fa50a2"
      },
      "execution_count": 2,
      "outputs": [
        {
          "output_type": "stream",
          "name": "stdout",
          "text": [
            "Voting 분류기 정확도: 0.9561\n",
            "LogisticRegression 정확도: 0.9474\n",
            "KNeighborsClassifier 정확도: 0.9386\n"
          ]
        }
      ]
    },
    {
      "cell_type": "markdown",
      "source": [
        "* 랜덤 포레스트; 사용자 행동 인식데이터 세트"
      ],
      "metadata": {
        "id": "gp5GCwtxUvAw"
      }
    },
    {
      "cell_type": "code",
      "source": [
        "from google.colab import drive\n",
        "drive.mount('/content/drive')"
      ],
      "metadata": {
        "colab": {
          "base_uri": "https://localhost:8080/"
        },
        "id": "rtOTx03GRC4T",
        "outputId": "d2c5e3cb-3689-47c3-da06-8500cb7cd3aa"
      },
      "execution_count": 3,
      "outputs": [
        {
          "output_type": "stream",
          "name": "stdout",
          "text": [
            "Mounted at /content/drive\n"
          ]
        }
      ]
    },
    {
      "cell_type": "code",
      "source": [
        "feature_name_df=pd.read_csv('/content/drive/MyDrive/Colab Notebooks/features.txt',\n",
        "                            sep='\\s+',header=None,names=['column_index','column_name'])"
      ],
      "metadata": {
        "id": "44kZ2FtYU_5_"
      },
      "execution_count": 4,
      "outputs": []
    },
    {
      "cell_type": "code",
      "source": [
        "def get_new_feature_name_df(old_feature_name_df):\n",
        "    feature_dup_df = pd.DataFrame(data=old_feature_name_df.groupby('column_name').cumcount(),columns=['dup_cnt'])\n",
        "    feature_dup_df = feature_dup_df.reset_index()\n",
        "    new_feature_name_df = pd.merge(old_feature_name_df.reset_index(),feature_dup_df,how='outer')\n",
        "    new_feature_name_df['column_name'] = new_feature_name_df[['column_name','dup_cnt']].apply(lambda x : x[0]+'_'+str(x[1]) if x[1]>0 else x[0],axis=1)\n",
        "    new_feature_name_df = new_feature_name_df.drop(['index'],axis=1)\n",
        "    return new_feature_name_df"
      ],
      "metadata": {
        "id": "fnJ4h-vgVY5l"
      },
      "execution_count": 5,
      "outputs": []
    },
    {
      "cell_type": "code",
      "source": [
        "import pandas as pd\n",
        "\n",
        "def get_human_dataset():\n",
        "\n",
        "  # 공백 분리\n",
        "  feature_name_df=pd.read_csv('/content/drive/MyDrive/Colab Notebooks/features.txt',sep='\\s+',header=None,names=['column_index','column_name'])\n",
        "\n",
        "  # 중복된 피처명 처리하는 get_new_feature_name_df()이용\n",
        "  new_feature_name_df = get_new_feature_name_df(feature_name_df)\n",
        "\n",
        "  # 데이터프레임에 피처명을 칼럼으로 부여하기 위해 리스트 객체로 다시 변환\n",
        "  feature_name = new_feature_name_df.iloc[:,1].values.tolist()\n",
        "\n",
        "  # 학습, 테스트 피처 데이터프레임 로딩. 칼럼명은 feature_name 적용\n",
        "  X_train = pd.read_csv('/content/drive/MyDrive/Colab Notebooks/X_train.txt',sep='\\s+',names=feature_name)\n",
        "  X_test = pd.read_csv('/content/drive/MyDrive/Colab Notebooks/X_test.txt',sep='\\s+',names=feature_name)\n",
        "\n",
        "  # 학습, 테스트 레이블 로딩. 칼럼명은 action\n",
        "  y_train = pd.read_csv('/content/drive/MyDrive/Colab Notebooks/y_train.txt',sep='\\s+',header=None,names=['action'])\n",
        "  y_test = pd.read_csv('/content/drive/MyDrive/Colab Notebooks/y_test.txt',sep='\\s+',header=None,names=['action'])\n",
        "\n",
        "  # 반환\n",
        "  return X_train, X_test, y_train, y_test\n",
        "\n",
        "X_train, X_test, y_train, y_test = get_human_dataset()"
      ],
      "metadata": {
        "id": "WsuZYsegVLVD",
        "colab": {
          "base_uri": "https://localhost:8080/"
        },
        "outputId": "8302e6be-2c70-42af-eb4e-2fac0c4163f2"
      },
      "execution_count": 6,
      "outputs": [
        {
          "output_type": "stream",
          "name": "stderr",
          "text": [
            "<ipython-input-5-75672b75b266>:5: FutureWarning: Series.__getitem__ treating keys as positions is deprecated. In a future version, integer keys will always be treated as labels (consistent with DataFrame behavior). To access a value by position, use `ser.iloc[pos]`\n",
            "  new_feature_name_df['column_name'] = new_feature_name_df[['column_name','dup_cnt']].apply(lambda x : x[0]+'_'+str(x[1]) if x[1]>0 else x[0],axis=1)\n"
          ]
        }
      ]
    },
    {
      "cell_type": "code",
      "source": [
        "from sklearn.ensemble import RandomForestClassifier\n",
        "from sklearn.metrics import accuracy_score\n",
        "import warnings\n",
        "warnings.filterwarnings('ignore')\n",
        "\n",
        "# 결정 트리에서 사용한 get_human_dataset() 를 이용해 학습/테스트용 데이터프레임 반환\n",
        "X_train, X_test, y_train, y_test = get_human_dataset()\n",
        "\n",
        "# 랜덤 포레스트 학습/별도 데이터셋으로 예측 성능 평가\n",
        "rf_clf = RandomForestClassifier(random_state=0, max_depth=8) # 재수행 마다 동일한 결과 출력 위해 random_state=0 설정\n",
        "rf_clf.fit(X_train, y_train)\n",
        "pred = rf_clf.predict(X_test)\n",
        "accuracy = accuracy_score(y_test, pred)\n",
        "print('랜덤 포레스트 정확도: {0:.4f}'.format(accuracy))"
      ],
      "metadata": {
        "colab": {
          "base_uri": "https://localhost:8080/"
        },
        "id": "iMNmZVtAVVo7",
        "outputId": "ca9826ed-34d1-464a-9715-264e0c897a3f"
      },
      "execution_count": 7,
      "outputs": [
        {
          "output_type": "stream",
          "name": "stdout",
          "text": [
            "랜덤 포레스트 정확도: 0.9220\n"
          ]
        }
      ]
    },
    {
      "cell_type": "code",
      "source": [
        "# GridSearchCV 를 이용해 랜덤 포레스트의 하이퍼 파라미터 튜닝\n",
        "\n",
        "from sklearn.model_selection import GridSearchCV\n",
        "\n",
        "params = {\n",
        "    'max_depth': [8, 16, 24],\n",
        "    'min_samples_leaf': [1,6,12],\n",
        "    'min_samples_split': [2,8,16]\n",
        "}\n",
        "# 랜덤포레스트분류기 생성, GridSearchCV 수행\n",
        "rf_clf = RandomForestClassifier(n_estimators=100, random_state=0, n_jobs=-1)\n",
        "grid_cv = GridSearchCV(rf_clf, param_grid=params, cv=2, n_jobs=-1)\n",
        "grid_cv.fit(X_train, y_train)\n",
        "\n",
        "print('최적 하이퍼 파라미터:\\n', grid_cv.best_params_)\n",
        "print('최고 예측 정확도: {0:.4f}'.format(grid_cv.best_score_))"
      ],
      "metadata": {
        "colab": {
          "base_uri": "https://localhost:8080/"
        },
        "id": "r-U6o_4XVcLd",
        "outputId": "0061ed76-586b-46e5-8fc7-5c1ed714877a"
      },
      "execution_count": 8,
      "outputs": [
        {
          "output_type": "stream",
          "name": "stdout",
          "text": [
            "최적 하이퍼 파라미터:\n",
            " {'max_depth': 16, 'min_samples_leaf': 6, 'min_samples_split': 16}\n",
            "최고 예측 정확도: 0.9157\n"
          ]
        }
      ]
    },
    {
      "cell_type": "code",
      "source": [
        "# 최적 하이퍼 파라미터로 재학습 > 다른 데이터셋에서 예측 성능 측정\n",
        "\n",
        "rf_clf1 = RandomForestClassifier(n_estimators=100,  min_samples_leaf=6, max_depth=16, min_samples_split=2, random_state=0)\n",
        "rf_clf1.fit(X_train, y_train)\n",
        "pred = rf_clf1.predict(X_test)\n",
        "print('예측 정확도: {0:.4f}'.format(accuracy_score(y_test, pred)))"
      ],
      "metadata": {
        "id": "bIc8hp-BVcN0",
        "colab": {
          "base_uri": "https://localhost:8080/"
        },
        "outputId": "a50fe801-e2ae-444b-fba9-b2b8139acffe"
      },
      "execution_count": 9,
      "outputs": [
        {
          "output_type": "stream",
          "name": "stdout",
          "text": [
            "예측 정확도: 0.9253\n"
          ]
        }
      ]
    },
    {
      "cell_type": "code",
      "source": [
        "# 피처 중요도 시각화\n",
        "\n",
        "import matplotlib.pyplot as plt\n",
        "import seaborn as sns\n",
        "%matplotlib inline\n",
        "\n",
        "ftr_importances_values = rf_clf1.feature_importances_\n",
        "ftr_importances = pd.Series(ftr_importances_values, index=X_train.columns)\n",
        "ftr_top20 = ftr_importances.sort_values(ascending=False)[:20]\n",
        "\n",
        "plt.figure(figsize=(8,6))\n",
        "plt.title('Feature importances Top 20')\n",
        "sns.barplot(x=ftr_top20, y=ftr_top20.index)\n",
        "plt.show()"
      ],
      "metadata": {
        "id": "tUMaKLjmVcQG",
        "colab": {
          "base_uri": "https://localhost:8080/",
          "height": 564
        },
        "outputId": "86128f8b-0eca-491e-a0ac-a3e978e4ce2a"
      },
      "execution_count": 10,
      "outputs": [
        {
          "output_type": "display_data",
          "data": {
            "text/plain": [
              "<Figure size 800x600 with 1 Axes>"
            ],
            "image/png": "[encoded data removed]"
          },
          "metadata": {}
        }
      ]
    },
    {
      "cell_type": "markdown",
      "source": [
        "* GBM ; 사용자 행동 데이터 세트 예측 분류"
      ],
      "metadata": {
        "id": "uHYN6uDqbzwB"
      }
    },
    {
      "cell_type": "code",
      "source": [
        "from sklearn.ensemble import GradientBoostingClassifier\n",
        "import time\n",
        "import warnings\n",
        "warnings.filterwarnings('ignore')\n",
        "\n",
        "X_train, X_test, y_train, y_test = get_human_dataset()\n",
        "\n",
        "# GBM 수행 시간 측정을 위함. 시작 시간 설정\n",
        "start_time = time.time()\n",
        "\n",
        "gb_clf = GradientBoostingClassifier(random_state=0)\n",
        "gb_clf.fit(X_train, y_train)\n",
        "gb_pred = gb_clf.predict(X_test)\n",
        "gb_accuracy = accuracy_score(y_test, gb_pred)\n",
        "\n",
        "print('GBM 정확도: {0:.4f}'.format(gb_accuracy))\n",
        "print('GBM 수행 시간: {0:.1f}초'.format(time.time() - start_time))"
      ],
      "metadata": {
        "id": "QII0fcaSVcSh"
      },
      "execution_count": null,
      "outputs": []
    },
    {
      "cell_type": "code",
      "source": [
        "pip install xgboost==1.5.0"
      ],
      "metadata": {
        "id": "81knu9hRVcUg"
      },
      "execution_count": null,
      "outputs": []
    },
    {
      "cell_type": "code",
      "source": [
        "import xgboost as xgb\n",
        "from xgboost import XGBClassifier"
      ],
      "metadata": {
        "id": "l4Z1LUhmi9hj"
      },
      "execution_count": null,
      "outputs": []
    },
    {
      "cell_type": "code",
      "source": [
        "import xgboost\n",
        "\n",
        "print(xgboost.__version__)"
      ],
      "metadata": {
        "id": "SepAfYWqi9kY"
      },
      "execution_count": null,
      "outputs": []
    },
    {
      "cell_type": "markdown",
      "source": [
        "* 위스콘신 유방암 종양 예측 ; 파이썬 래퍼"
      ],
      "metadata": {
        "id": "EDrVpfyCHMtp"
      }
    },
    {
      "cell_type": "code",
      "source": [
        "import xgboost as xgb\n",
        "from xgboost import plot_importance\n",
        "import pandas as pd\n",
        "import numpy as np\n",
        "from sklearn.datasets import load_breast_cancer\n",
        "from sklearn.model_selection import train_test_split\n",
        "import warnings\n",
        "warnings.filterwarnings('ignore')\n",
        "\n",
        "dataset = load_breast_cancer()\n",
        "features = dataset.data\n",
        "labels = dataset.target\n",
        "\n",
        "cancer_df = pd.DataFrame(data=X_features, columns=dataset.feature_names)\n",
        "cancer_df['target'] = labels\n",
        "cancer_df.head(3)"
      ],
      "metadata": {
        "id": "-2Qr0Hh5i9oT"
      },
      "execution_count": null,
      "outputs": []
    },
    {
      "cell_type": "markdown",
      "source": [
        "악성 - 0\n",
        "\n",
        "양성 - 1"
      ],
      "metadata": {
        "id": "KQHu-1iGHpsB"
      }
    },
    {
      "cell_type": "code",
      "source": [
        "print(dataset.target_names)\n",
        "print(cancer_df['target'].value_counts())"
      ],
      "metadata": {
        "id": "1VBygg5Ki9qr"
      },
      "execution_count": null,
      "outputs": []
    },
    {
      "cell_type": "code",
      "source": [
        "# 피처용 데이터프레임, 라벨용 시리즈 객체 추출\n",
        "# 라벨칼럼(맨 마지막) > 슬라이싱 추출\n",
        "X_features = cancer_df.iloc[:, :-1]\n",
        "y_label = cancer_df.iloc[:, -1]\n",
        "\n",
        "# 전체 데이터 중 80%는 학습용 데이터, 20%는 테스트용 데이터 추출\n",
        "X_train, X_test, y_train, y_test = train_test_split(X_features, y_label, test_size=0.2, random_state=156)\n",
        "\n",
        "# train 을 다시 쪼개서 10%는 검증용 데이터로 분리\n",
        "X_tr, X_val, y_tr, y_val = train_test_split(X_train, y_train, test_size=0.1, random_state=156)\n",
        "\n",
        "print(X_train.shape, X_test.shape)\n",
        "print(X_tr.shape, X_val.shape)"
      ],
      "metadata": {
        "id": "6PZMTjLhHwgA"
      },
      "execution_count": null,
      "outputs": []
    },
    {
      "cell_type": "code",
      "source": [
        "# 데이터 프레임 <-> DMatrix 변환 예제\n",
        "\n",
        "# 학습, 검증, 테스트용 DMatrix  생성\n",
        "dtr = xgb.DMatrix(data=X_tr, label=y_tr)\n",
        "dval = xgb.DMatrix(data=X_val, label=y_val)\n",
        "dtest = xgb.DMatrix(data=X_test, label=y_test)"
      ],
      "metadata": {
        "id": "Ou6u9kgVHwiY"
      },
      "execution_count": null,
      "outputs": []
    },
    {
      "cell_type": "code",
      "source": [
        "# 하이퍼 파라미터 설정 (주로 딕셔너리 형태로 입력)\n",
        "\n",
        "params = {'max_depth':3,\n",
        "          'eta':0.05,\n",
        "          'objective':'binary:logistic',\n",
        "          'eval_metric':'logloss'}\n",
        "\n",
        "num_rounds=400"
      ],
      "metadata": {
        "id": "xtCt8YCSHwko"
      },
      "execution_count": null,
      "outputs": []
    },
    {
      "cell_type": "code",
      "source": [
        "# 학습 데이터셋은 'train' 또는 평가 데이터셋은 'eval'로 명기\n",
        "eval_list=[(dtr,'train'),(dval,'eval')] # 또는 eval_list = [(dval,'eval)]만 명기\n",
        "\n",
        "# 하이퍼 파라미터, 조기중단 파라미터 전달\n",
        "xgb_model = xgb.train(params=params, dtrain=dtr, num_boost_round=num_rounds,\n",
        "                      early_stopping_rounds=50, evals=eval_list)"
      ],
      "metadata": {
        "id": "O18IPwueHwm4"
      },
      "execution_count": null,
      "outputs": []
    },
    {
      "cell_type": "code",
      "source": [
        "pred_probs = xgb_model.predict(dtest)\n",
        "print('predict( ) 수행 결과값을 10개만 표시, 예측 확률 값으로 표시됨')\n",
        "print(np.round(pred_probs[:10],3))\n",
        "\n",
        "# 예측 확률이 0.5보다 크면 1, 그렇지 않으면 0 으로 결정하여 preds 리스트에 저장\n",
        "preds = [1 if x>0.5 else 0 for x in pred_probs]\n",
        "print('예측값 10개만 표시:', preds[:10])"
      ],
      "metadata": {
        "id": "M8cfzrUtHwpO"
      },
      "execution_count": null,
      "outputs": []
    },
    {
      "cell_type": "code",
      "source": [
        "from sklearn.metrics import accuracy_score, precision_score, recall_score, confusion_matrix,f1_score,roc_auc_score\n",
        "\n",
        "def get_clf_eval(y_test, pred=None, pred_proba=None): # ROC AUC는 예측 확률값 기반으로 계산 > 함수의 인자로 받을 수 있도록\n",
        "  confusion = confusion_matrix(y_test, pred)\n",
        "  accuracy = accuracy_score(y_test, pred)\n",
        "  precision = precision_score(y_test, pred)\n",
        "  recall = recall_score(y_test, pred)\n",
        "  f1 = f1_score(y_test, pred)\n",
        "  # ROC-AUC 추가\n",
        "  roc_auc = roc_auc_score(y_test, pred_proba)\n",
        "  print('오차 행렬')\n",
        "  print(confusion)\n",
        "  # ROC-AUC print 추가\n",
        "  print('정확도: {0:.4f}, 정밀도: {1:.4f}, 재현율: {2:.4f}, F1:{3:.4f}, AUC:{4:.4f}'.format(accuracy, precision, recall, f1, roc_auc))\n",
        "\n",
        "get_clf_eval(y_test, preds, pred_probs)"
      ],
      "metadata": {
        "id": "OfRnx8vCK2md"
      },
      "execution_count": null,
      "outputs": []
    },
    {
      "cell_type": "code",
      "source": [
        "import matplotlib.pyplot as plt\n",
        "%matplotlib inline\n",
        "\n",
        "fig, ax = plt.subplots(figsize=(10,12))\n",
        "plot_importance(xgb_model, ax=ax)"
      ],
      "metadata": {
        "id": "Vtzt6jRfK2oe"
      },
      "execution_count": null,
      "outputs": []
    },
    {
      "cell_type": "markdown",
      "source": [
        "* 위스콘신 유방암 종양 예측 ; 사이킷런 래퍼"
      ],
      "metadata": {
        "id": "lo2Vn4DsNiH0"
      }
    },
    {
      "cell_type": "code",
      "source": [
        "from xgboost import XGBClassifier\n",
        "\n",
        "# Warning 없애기 위해 eval_metric 값을 XGBClassifier 생성 인자로 입력\n",
        "xgb_wrapper = XGBClassifier(n_estimators=400, learning_rate=0.05, max_depth=3,eval_metric='logloss')\n",
        "xgb_wrapper.fit(X_train, y_train, verbose=True)\n",
        "w_preds = xgb_wrapper.predict(X_test)\n",
        "w_pred_proba = xgb_wrapper.predict_proba(X_test)[:,1]"
      ],
      "metadata": {
        "id": "1w_edeesLVB_"
      },
      "execution_count": null,
      "outputs": []
    },
    {
      "cell_type": "code",
      "source": [
        "get_clf_eval(y_test, w_preds, w_pred_proba)"
      ],
      "metadata": {
        "id": "ocapVWkOMXAM"
      },
      "execution_count": null,
      "outputs": []
    },
    {
      "cell_type": "code",
      "source": [
        "# 조기중단 수행\n",
        "from xgboost import XGBClassifier\n",
        "\n",
        "xgb_wrapper = XGBClassifier(n_estimators=400, learning_rate=0.05, max_depth=3)\n",
        "evals = [(X_tr.values, y_tr.values), (X_val.values, y_val.values)]\n",
        "xgb_wrapper.early_stopping_rounds = 50\n",
        "xgb_wrapper.fit(X_tr.values, y_tr.values, eval_set=evals, verbose=True)\n",
        "\n",
        "ws50_preds = xgb_wrapper.predict(X_test.values)\n",
        "ws50_pred_proba = xgb_wrapper.predict_proba(X_test.values)[:, 1]"
      ],
      "metadata": {
        "id": "DYTv0WpRMXCj"
      },
      "execution_count": null,
      "outputs": []
    },
    {
      "cell_type": "code",
      "source": [
        "get_clf_eval(y_test, ws50_preds, ws50_pred_proba)"
      ],
      "metadata": {
        "id": "VHVfz_KhMXE0"
      },
      "execution_count": null,
      "outputs": []
    },
    {
      "cell_type": "code",
      "source": [
        "# 조기중단 파라미터를 10으로 설정하고 재학습\n",
        "xgb_wrapper.fit(X_tr, y_tr, eval_set=evals, eval_metric=\"logloss\", early_stopping_rounds=10, verbose=True)\n",
        "\n",
        "wb10_preds = xgb_wrapper.predict(X_test)\n",
        "wb10_pred_proba = xgb_wrapper.predict_proba(X_test)[:,1]\n",
        "get_clf_eval(y_test, wb10_preds, wb10_pred_proba)"
      ],
      "metadata": {
        "id": "5yo3eJZRPicZ"
      },
      "execution_count": null,
      "outputs": []
    },
    {
      "cell_type": "code",
      "source": [
        "from xgboost import plot_importance\n",
        "import matplotlib.pyplot as plt\n",
        "%matplotlib inline\n",
        "\n",
        "fig, ax = plt.subplots(figsize=(10,12))\n",
        "plot_importance(xgb_wrapper, ax=ax) #사이킷런 래퍼 클래스를 입력해도 무방"
      ],
      "metadata": {
        "id": "MVwT-ZNRPkmB"
      },
      "execution_count": null,
      "outputs": []
    }
  ]
}