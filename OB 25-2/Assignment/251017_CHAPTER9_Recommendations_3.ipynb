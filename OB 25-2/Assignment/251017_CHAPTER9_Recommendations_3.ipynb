{
  "nbformat": 4,
  "nbformat_minor": 0,
  "metadata": {
    "colab": {
      "provenance": [],
      "authorship_tag": "ABX9TyOthFCZY80B+KnrTxzsP0Hf"
    },
    "kernelspec": {
      "name": "python3",
      "display_name": "Python 3"
    },
    "language_info": {
      "name": "python"
    }
  },
  "cells": [
    {
      "cell_type": "markdown",
      "source": [
        "# [개념 필사] - 파머완"
      ],
      "metadata": {
        "id": "HFfr63MSofnv"
      }
    },
    {
      "cell_type": "markdown",
      "source": [
        "## CHAPTER 09 <추천 시스템>\n",
        "\n",
        "## **9.7 행렬 분해를 이용한 잠재요인 협업 필터링 실습**\n",
        "\n",
        "✅ 사용자-아이템 행렬, NULL 많음 ➡ SGD, ALS 기반 행렬분해 이용\n",
        "\n",
        "✅ 4절에서의 함수 코드 사용\n",
        "* get_rmse()\n",
        "* 행렬분해로직을 정리하는 matrix_funtion(평점행렬, 잠재요인차원수, SGD 반복횟수, 학습률, L2규제계수)\n",
        "\n",
        "> 🟠 영화 평점 행렬 데이터 🟠\n",
        "\n",
        "(1) DATA LOAD\n",
        "\n",
        "(2) SGD 활용 행렬 분해\n",
        "\n",
        "* matrix_funtion() 함수 사용\n",
        "\n",
        "(3) 영화 추천 수행\n",
        "* get_unseen_movies() 사용\n",
        "* recomm_movie_by_userid() 사용\n",
        "\n",
        "\n",
        "## **9.8 파이썬 추천 시스템 패키지 - Surprise**\n",
        "\n",
        "◼ Surprise 패키지: 파이썬 기반의 추천 시스템 구축을 위한 전용 패키지. 사이킷런과 유사한 API, 프레임워크 제공\n",
        "\n",
        "* 다양한 추천 알고리즘 쉽게 구축 가능\n",
        "* 사이킷런과 유사한 API명\n",
        "\n",
        "> 🟠 Surprise 를 이용한 시스템 구축 🟠\n",
        "\n",
        "◼ SVD 행렬 분해를 통한 잠재 요인 협업필터링 수행\n",
        "\n",
        "(1) DATA LOAD\n",
        "\n",
        "* 💻 load_builtin() - 무비렌즈 사이트에서 제공하는 과거버전 데이터세트를 로딩. (탭으로 분리)\n",
        "\n",
        "* 학습, 테스트 데이터세트 분리\n",
        "\n",
        "(2) SVD 잠재 요인 협업 필터링 수행\n",
        "\n",
        "✅ Surprise는 자체적으로 로우 레벨을 칼럼레벨 데이터로 변경 ➡ 로우레벨의 원본 데이터를 그대로 적용해야함.\n",
        "\n",
        "\n",
        "* 추천 예측 메서드\n",
        "```\n",
        "test() - 평점데이터 전체에 대해서 추천 예측\n",
        "\n",
        "predict() - 개별 사용자,영화에 대한 추천 평점 반환\n",
        "```\n",
        "\n",
        "(3) 예측 평가\n",
        "\n",
        "```\n",
        "accuracy.rmse\n",
        "```\n",
        "\n",
        "> **주요 모듈 소개**\n",
        "\n",
        "* 데이터의 칼럼을 1.사용자 아이디, 2.아이템 아이디, 3.평점으로 가정하고 이외는 로딩 수행X(순서 중요)\n",
        "\n",
        "* API: Dataset.load_builtin(name='m1-100k'): 무비렌즈 아카이브 데이터, Dataset.load_from_file(file_path, reader):OS 파일에서 로딩, Dataset.load_from_df(df, reader): 판다스의 DataFrame에서 데이터 로딩\n",
        "\n",
        "* OS 파일 데이터 -> Surprise 데이터\n",
        "\n",
        "  -- 칼럼명 헤더 삭제필요: header=False로 새 파일 저장 후 다시 로드\n",
        "  \n",
        "  -- Reader() 클래스 생성: 파일의 파싱정보 저장. 각 필드의 칼럼명(line_format), 칼럼 분리문자(sep), 최소~최대 평점(rating_scale) (line_format='user item ... ': 칼럼명 명시)\n",
        "\n",
        "  -- Dataset.load_from_file('df경로',reader=reader)\n",
        "\n",
        "  -- SVD(n_factors=50): 잠재요인 크기 K값=50으로 설정\n",
        "\n",
        "  -- 학습데이터로 학습, 테스트 데이터로 예측평점 구한 후 RMSE 평가\n",
        "\n",
        "* 판다스 DataFrame -> Surprise 데이터\n",
        "\n",
        "  -- Dataset.load_from_df(data[['userId','movieId','rating']], reader=reader)\n",
        "\n",
        "  -- 칼럼 순서 잘 지키기. df[['userId','movieId','rating']]\n",
        "\n",
        "\n",
        "> **추천 알고리즘 클래스**\n",
        "\n",
        "* SVD: 행렬분해 잠재요인 협업필터링을 위한 SVD 알고리즘\n",
        "\n",
        "* 파라미터: n_factors(잠재요인 K개수), n_epochs(SGD 수행시 반복 횟수), biased(베이스라인 사용자 편향 적용 여부)\n",
        "\n",
        "* KNNBasic: 최근접 이웃협업필터링을 위한 KNN 알고리즘\n",
        "\n",
        "* BaselineOnly: 사용자 Bias와 아이템 Bias를 감안한 SGD 베이스라인 알고리즘\n",
        "\n",
        "\n",
        "💡 (벤치마크 결과) SVD++가 가장 성적이 좋지만 시간이 너무 오래걸림. SVD와 k-NN+Baseline이 다음으로 좋음.\n",
        "\n",
        "\n",
        "◼ **베이스라인 평점**: 개인의 성향을 반영해 아이템 평가에 편향성 요소를 반영하여 평점을 부과하는 것.\n",
        "\n",
        "* 전체 평균 평점 + 사용자 편향 점수 + 아이템 편향 점수\n",
        "\n",
        "> 교차 검증, 하이퍼 파라미터 튜닝\n",
        "\n",
        "* 💻 cross_validate() - 인자는 알고리즘 객체, 데이터, 성능평가방법, 폴드 데이터 세트 개수\n",
        "\n",
        "* 💻 GridSearchCV\n",
        "\n",
        "  -- SVD, 주로 n_epochs, n_factors 튜닝\n",
        "\n",
        "\n",
        "> 🟠 Surprise - 영화 평점 행렬 데이터 🟠\n",
        "\n",
        "◼ Surprise 학습된 추천 알고리즘을 기반으로 특정 사용자가 아직 평점을 매기지 않은 영화 중에서 취향에 가장 적절한 영화 추천하기.\n",
        "\n",
        "✅ 데이터세트 분리 X ➡ fit() ➡ 오류 발생\n",
        "\n",
        "💡 \"💻 DatasetAutoFolds 클래스\"\n",
        "```\n",
        "build_full_trainset() - 전체데이터를 학습데이터세트로 만들기 가능\n",
        "```\n",
        "\n",
        "i) 사용자 9가 아직 평점을 매기지않은 movie42에 대해 예측 평점 계산 (predict() 메서드 사용)\n",
        "\n",
        "ii) 사용자가 평점을 매기지 않은 전체 영화 추출, 예측 평점 순으로 영화 추천: get_unseen_surprise(), recomm_movie_by_surprise() 함수 생성\n"
      ],
      "metadata": {
        "id": "h95orlqcnrob"
      }
    },
    {
      "cell_type": "markdown",
      "source": [
        "# [코드 필사]"
      ],
      "metadata": {
        "id": "jnFwpXc_ofsS"
      }
    },
    {
      "cell_type": "code",
      "source": [
        "# get_rmse()함수\n",
        "from sklearn.metrics import mean_squared_error\n",
        "\n",
        "def get_rmse(R, P, Q, non_zeros):\n",
        "  error = 0\n",
        "  # 두 개의 분해된 행렬 P, Q.T 내적으로 예측 R 행렬 생성\n",
        "  full_pred_matrix = np.dot(P, Q.T)\n",
        "\n",
        "  # 실제 R 행렬에서 널이 아닌 값의 위치 인덱스 추출해 실제 R 행렬과 예측 행렬의 RMSE 추출\n",
        "  x_non_zero_ind = [non_zero[0] for non_zero in non_zeros]\n",
        "  y_non_zero_ind = [non_zero[1] for non_zero in non_zeros]\n",
        "  R_non_zeros = R[x_non_zero_ind, y_non_zero_ind]\n",
        "  full_pred_matrix_non_zeros = full_pred_matrix[x_non_zero_ind, y_non_zero_ind]\n",
        "  mse = mean_squared_error(R_non_zeros, full_pred_matrix_non_zeros)\n",
        "  rmse = np.sqrt(mse)\n",
        "\n",
        "  return rmse"
      ],
      "metadata": {
        "id": "nIjLsA4arjsC"
      },
      "execution_count": 3,
      "outputs": []
    },
    {
      "cell_type": "code",
      "source": [
        "def matrix_function(R, k, steps=200, learning_rate=0.01, r_lambda=0.01):\n",
        "  num_users, num_items = R.shape\n",
        "  # P와 Q 매트릭스의 크기를 지정하고 정규 분포를 가진 랜덤한 값으로 입력\n",
        "  np.random.seed(1)\n",
        "  P = np.random.normal(scale=1./k, size=(num_users, k))\n",
        "  Q = np.random.normal(scale=1./k, size=(num_items, k))\n",
        "\n",
        "  # R>0인 행 위치, 열 위치 값을 non_zeros 리스트 객체에 저장\n",
        "  non_zeros = [(i, j, R[i, j]) for i in range(num_users) for j in range(num_items) if R[i, j] > 0]\n",
        "\n",
        "  # SGD 기법으로 P,Q 를 계쏙 업데이트\n",
        "  for step in range(steps):\n",
        "    for i, j, r in non_zeros:\n",
        "      # 실제 값과 예측 값의 차이인 오류 값 구함\n",
        "      eij = r - np.dot(P[i,:],Q[j,:].T)\n",
        "      # 정규화를 반영한 SGD 업데이트 공식 적용\n",
        "      P[i,:] = P[i,:] + learning_rate*(eij * Q[j,:] - r_lambda*P[i,:])\n",
        "      Q[j,:] = Q[j,:] + learning_rate*(eij * P[i,:] - r_lambda*Q[j,:])\n",
        "\n",
        "    rmse = get_rmse(R, P, Q, non_zeros)\n",
        "    if (step % 10) == 0:\n",
        "      print('### iteration step: ', step, ' rmse: ', rmse)\n",
        "\n",
        "  return P, Q"
      ],
      "metadata": {
        "id": "bfyGCkCbrjuV"
      },
      "execution_count": 4,
      "outputs": []
    },
    {
      "cell_type": "code",
      "source": [
        "from google.colab import drive\n",
        "drive.mount('/content/drive')"
      ],
      "metadata": {
        "colab": {
          "base_uri": "https://localhost:8080/"
        },
        "id": "1IhY-rP9e0Li",
        "outputId": "1b9ece0c-27ff-40a9-d5c0-a165da8852a5"
      },
      "execution_count": 5,
      "outputs": [
        {
          "output_type": "stream",
          "name": "stdout",
          "text": [
            "Drive already mounted at /content/drive; to attempt to forcibly remount, call drive.mount(\"/content/drive\", force_remount=True).\n"
          ]
        }
      ]
    },
    {
      "cell_type": "code",
      "source": [
        "import pandas as pd\n",
        "import numpy as np\n",
        "\n",
        "movies = pd.read_csv('/content/drive/MyDrive/Colab Notebooks/data/movies.csv')\n",
        "ratings = pd.read_csv('/content/drive/MyDrive/Colab Notebooks/data/ratings.csv',header=None, names=['userId', 'movieId', 'rating', 'timestamp'])\n",
        "ratings = ratings[['userId', 'movieId', 'rating']]\n",
        "ratings_matrix = ratings.pivot_table('rating', index='userId', columns='movieId')\n",
        "\n",
        "# title 칼럼을 얻기 위해 movies와 조인 수행\n",
        "rating_movies = pd.merge(ratings, movies, on='movieId')\n",
        "\n",
        "# columns='title'로 title 칼럼으로 피벗 수행\n",
        "ratings_matrix = rating_movies.pivot_table('rating', index='userId', columns='title')"
      ],
      "metadata": {
        "id": "hLBsbKu_rjwz"
      },
      "execution_count": 30,
      "outputs": []
    },
    {
      "cell_type": "code",
      "source": [
        "# 행렬분해\n",
        "P, Q = matrix_function(ratings_matrix.values, k=50, steps=200, learning_rate=0.01, r_lambda=0.01)\n",
        "pred_matrix = np.dot(P, Q.T)"
      ],
      "metadata": {
        "colab": {
          "base_uri": "https://localhost:8080/"
        },
        "id": "qQt9-Ul-rjzF",
        "outputId": "b6e5bf45-4886-4581-a616-220258073626"
      },
      "execution_count": 31,
      "outputs": [
        {
          "output_type": "stream",
          "name": "stdout",
          "text": [
            "### iteration step:  0  rmse:  2.9023619751336867\n",
            "### iteration step:  10  rmse:  0.7335768591017927\n",
            "### iteration step:  20  rmse:  0.5115539026853442\n",
            "### iteration step:  30  rmse:  0.37261628282537446\n",
            "### iteration step:  40  rmse:  0.2960818299181014\n",
            "### iteration step:  50  rmse:  0.2520353192341642\n",
            "### iteration step:  60  rmse:  0.22487503275269854\n",
            "### iteration step:  70  rmse:  0.2068545530233154\n",
            "### iteration step:  80  rmse:  0.19413418783028685\n",
            "### iteration step:  90  rmse:  0.18470082002720406\n",
            "### iteration step:  100  rmse:  0.17742927527209104\n",
            "### iteration step:  110  rmse:  0.1716522696470749\n",
            "### iteration step:  120  rmse:  0.16695181946871726\n",
            "### iteration step:  130  rmse:  0.16305292191997542\n",
            "### iteration step:  140  rmse:  0.15976691929679646\n",
            "### iteration step:  150  rmse:  0.1569598699945732\n",
            "### iteration step:  160  rmse:  0.15453398186715425\n",
            "### iteration step:  170  rmse:  0.15241618551077643\n",
            "### iteration step:  180  rmse:  0.1505508073962831\n",
            "### iteration step:  190  rmse:  0.1488947091323209\n"
          ]
        }
      ]
    },
    {
      "cell_type": "code",
      "source": [
        "# 데이터프레임으로 변경\n",
        "ratings_pred_matrix = pd.DataFrame(data=pred_matrix, index=ratings_matrix.index,\n",
        "                                   columns=ratings_matrix.columns)\n",
        "ratings_pred_matrix.head(3)"
      ],
      "metadata": {
        "colab": {
          "base_uri": "https://localhost:8080/",
          "height": 345
        },
        "id": "TE-7v6iBvJRi",
        "outputId": "839d05e7-82ce-45c9-d615-ca84cb499dbb"
      },
      "execution_count": 32,
      "outputs": [
        {
          "output_type": "execute_result",
          "data": {
            "text/plain": [
              "title   '71 (2014)  'Hellboy': The Seeds of Creation (2004)  \\\n",
              "userId                                                        \n",
              "1         3.055084                                 4.092018   \n",
              "2         3.170119                                 3.657992   \n",
              "3         2.307073                                 1.658853   \n",
              "\n",
              "title   'Round Midnight (1986)  'Salem's Lot (2004)  \\\n",
              "userId                                                \n",
              "1                     3.564130             4.502167   \n",
              "2                     3.308707             4.166521   \n",
              "3                     1.443538             2.208859   \n",
              "\n",
              "title   'Til There Was You (1997)  'Tis the Season for Love (2015)  \\\n",
              "userId                                                               \n",
              "1                        3.981215                         1.271694   \n",
              "2                        4.311890                         1.275469   \n",
              "3                        2.229486                         0.780760   \n",
              "\n",
              "title   'burbs, The (1989)  'night Mother (1986)  (500) Days of Summer (2009)  \\\n",
              "userId                                                                          \n",
              "1                 3.603274              2.333266                     5.091749   \n",
              "2                 4.237972              1.900366                     3.392859   \n",
              "3                 1.997043              0.924908                     2.970700   \n",
              "\n",
              "title   *batteries not included (1987)  ...  Zulu (2013)  [REC] (2007)  \\\n",
              "userId                                  ...                              \n",
              "1                             3.972454  ...     1.402608      4.208382   \n",
              "2                             3.647421  ...     0.973811      3.528264   \n",
              "3                             2.551446  ...     0.520354      1.709494   \n",
              "\n",
              "title   [REC]² (2009)  [REC]³ 3 Génesis (2012)  \\\n",
              "userId                                           \n",
              "1            3.705957                 2.720514   \n",
              "2            3.361532                 2.672535   \n",
              "3            2.281596                 1.782833   \n",
              "\n",
              "title   anohana: The Flower We Saw That Day - The Movie (2013)  \\\n",
              "userId                                                           \n",
              "1                                                2.787331        \n",
              "2                                                2.404456        \n",
              "3                                                1.635173        \n",
              "\n",
              "title   eXistenZ (1999)  xXx (2002)  xXx: State of the Union (2005)  \\\n",
              "userId                                                                \n",
              "1              3.475076    3.253458                        2.161087   \n",
              "2              4.232789    2.911602                        1.634576   \n",
              "3              1.323276    2.887580                        1.042618   \n",
              "\n",
              "title   ¡Three Amigos! (1986)  À nous la liberté (Freedom for Us) (1931)  \n",
              "userId                                                                    \n",
              "1                    4.010495                                   0.859474  \n",
              "2                    4.135735                                   0.725684  \n",
              "3                    2.293890                                   0.396941  \n",
              "\n",
              "[3 rows x 9719 columns]"
            ],
            "text/html": [
              "\n",
              "  <div id=\"df-47f430fa-28a9-441a-89b4-6570aaa31aee\" class=\"colab-df-container\">\n",
              "    <div>\n",
              "<style scoped>\n",
              "    .dataframe tbody tr th:only-of-type {\n",
              "        vertical-align: middle;\n",
              "    }\n",
              "\n",
              "    .dataframe tbody tr th {\n",
              "        vertical-align: top;\n",
              "    }\n",
              "\n",
              "    .dataframe thead th {\n",
              "        text-align: right;\n",
              "    }\n",
              "</style>\n",
              "<table border=\"1\" class=\"dataframe\">\n",
              "  <thead>\n",
              "    <tr style=\"text-align: right;\">\n",
              "      <th>title</th>\n",
              "      <th>'71 (2014)</th>\n",
              "      <th>'Hellboy': The Seeds of Creation (2004)</th>\n",
              "      <th>'Round Midnight (1986)</th>\n",
              "      <th>'Salem's Lot (2004)</th>\n",
              "      <th>'Til There Was You (1997)</th>\n",
              "      <th>'Tis the Season for Love (2015)</th>\n",
              "      <th>'burbs, The (1989)</th>\n",
              "      <th>'night Mother (1986)</th>\n",
              "      <th>(500) Days of Summer (2009)</th>\n",
              "      <th>*batteries not included (1987)</th>\n",
              "      <th>...</th>\n",
              "      <th>Zulu (2013)</th>\n",
              "      <th>[REC] (2007)</th>\n",
              "      <th>[REC]² (2009)</th>\n",
              "      <th>[REC]³ 3 Génesis (2012)</th>\n",
              "      <th>anohana: The Flower We Saw That Day - The Movie (2013)</th>\n",
              "      <th>eXistenZ (1999)</th>\n",
              "      <th>xXx (2002)</th>\n",
              "      <th>xXx: State of the Union (2005)</th>\n",
              "      <th>¡Three Amigos! (1986)</th>\n",
              "      <th>À nous la liberté (Freedom for Us) (1931)</th>\n",
              "    </tr>\n",
              "    <tr>\n",
              "      <th>userId</th>\n",
              "      <th></th>\n",
              "      <th></th>\n",
              "      <th></th>\n",
              "      <th></th>\n",
              "      <th></th>\n",
              "      <th></th>\n",
              "      <th></th>\n",
              "      <th></th>\n",
              "      <th></th>\n",
              "      <th></th>\n",
              "      <th></th>\n",
              "      <th></th>\n",
              "      <th></th>\n",
              "      <th></th>\n",
              "      <th></th>\n",
              "      <th></th>\n",
              "      <th></th>\n",
              "      <th></th>\n",
              "      <th></th>\n",
              "      <th></th>\n",
              "      <th></th>\n",
              "    </tr>\n",
              "  </thead>\n",
              "  <tbody>\n",
              "    <tr>\n",
              "      <th>1</th>\n",
              "      <td>3.055084</td>\n",
              "      <td>4.092018</td>\n",
              "      <td>3.564130</td>\n",
              "      <td>4.502167</td>\n",
              "      <td>3.981215</td>\n",
              "      <td>1.271694</td>\n",
              "      <td>3.603274</td>\n",
              "      <td>2.333266</td>\n",
              "      <td>5.091749</td>\n",
              "      <td>3.972454</td>\n",
              "      <td>...</td>\n",
              "      <td>1.402608</td>\n",
              "      <td>4.208382</td>\n",
              "      <td>3.705957</td>\n",
              "      <td>2.720514</td>\n",
              "      <td>2.787331</td>\n",
              "      <td>3.475076</td>\n",
              "      <td>3.253458</td>\n",
              "      <td>2.161087</td>\n",
              "      <td>4.010495</td>\n",
              "      <td>0.859474</td>\n",
              "    </tr>\n",
              "    <tr>\n",
              "      <th>2</th>\n",
              "      <td>3.170119</td>\n",
              "      <td>3.657992</td>\n",
              "      <td>3.308707</td>\n",
              "      <td>4.166521</td>\n",
              "      <td>4.311890</td>\n",
              "      <td>1.275469</td>\n",
              "      <td>4.237972</td>\n",
              "      <td>1.900366</td>\n",
              "      <td>3.392859</td>\n",
              "      <td>3.647421</td>\n",
              "      <td>...</td>\n",
              "      <td>0.973811</td>\n",
              "      <td>3.528264</td>\n",
              "      <td>3.361532</td>\n",
              "      <td>2.672535</td>\n",
              "      <td>2.404456</td>\n",
              "      <td>4.232789</td>\n",
              "      <td>2.911602</td>\n",
              "      <td>1.634576</td>\n",
              "      <td>4.135735</td>\n",
              "      <td>0.725684</td>\n",
              "    </tr>\n",
              "    <tr>\n",
              "      <th>3</th>\n",
              "      <td>2.307073</td>\n",
              "      <td>1.658853</td>\n",
              "      <td>1.443538</td>\n",
              "      <td>2.208859</td>\n",
              "      <td>2.229486</td>\n",
              "      <td>0.780760</td>\n",
              "      <td>1.997043</td>\n",
              "      <td>0.924908</td>\n",
              "      <td>2.970700</td>\n",
              "      <td>2.551446</td>\n",
              "      <td>...</td>\n",
              "      <td>0.520354</td>\n",
              "      <td>1.709494</td>\n",
              "      <td>2.281596</td>\n",
              "      <td>1.782833</td>\n",
              "      <td>1.635173</td>\n",
              "      <td>1.323276</td>\n",
              "      <td>2.887580</td>\n",
              "      <td>1.042618</td>\n",
              "      <td>2.293890</td>\n",
              "      <td>0.396941</td>\n",
              "    </tr>\n",
              "  </tbody>\n",
              "</table>\n",
              "<p>3 rows × 9719 columns</p>\n",
              "</div>\n",
              "    <div class=\"colab-df-buttons\">\n",
              "\n",
              "  <div class=\"colab-df-container\">\n",
              "    <button class=\"colab-df-convert\" onclick=\"convertToInteractive('df-47f430fa-28a9-441a-89b4-6570aaa31aee')\"\n",
              "            title=\"Convert this dataframe to an interactive table.\"\n",
              "            style=\"display:none;\">\n",
              "\n",
              "  <svg xmlns=\"http://www.w3.org/2000/svg\" height=\"24px\" viewBox=\"0 -960 960 960\">\n",
              "    <path d=\"M120-120v-720h720v720H120Zm60-500h600v-160H180v160Zm220 220h160v-160H400v160Zm0 220h160v-160H400v160ZM180-400h160v-160H180v160Zm440 0h160v-160H620v160ZM180-180h160v-160H180v160Zm440 0h160v-160H620v160Z\"/>\n",
              "  </svg>\n",
              "    </button>\n",
              "\n",
              "  <style>\n",
              "    .colab-df-container {\n",
              "      display:flex;\n",
              "      gap: 12px;\n",
              "    }\n",
              "\n",
              "    .colab-df-convert {\n",
              "      background-color: #E8F0FE;\n",
              "      border: none;\n",
              "      border-radius: 50%;\n",
              "      cursor: pointer;\n",
              "      display: none;\n",
              "      fill: #1967D2;\n",
              "      height: 32px;\n",
              "      padding: 0 0 0 0;\n",
              "      width: 32px;\n",
              "    }\n",
              "\n",
              "    .colab-df-convert:hover {\n",
              "      background-color: #E2EBFA;\n",
              "      box-shadow: 0px 1px 2px rgba(60, 64, 67, 0.3), 0px 1px 3px 1px rgba(60, 64, 67, 0.15);\n",
              "      fill: #174EA6;\n",
              "    }\n",
              "\n",
              "    .colab-df-buttons div {\n",
              "      margin-bottom: 4px;\n",
              "    }\n",
              "\n",
              "    [theme=dark] .colab-df-convert {\n",
              "      background-color: #3B4455;\n",
              "      fill: #D2E3FC;\n",
              "    }\n",
              "\n",
              "    [theme=dark] .colab-df-convert:hover {\n",
              "      background-color: #434B5C;\n",
              "      box-shadow: 0px 1px 3px 1px rgba(0, 0, 0, 0.15);\n",
              "      filter: drop-shadow(0px 1px 2px rgba(0, 0, 0, 0.3));\n",
              "      fill: #FFFFFF;\n",
              "    }\n",
              "  </style>\n",
              "\n",
              "    <script>\n",
              "      const buttonEl =\n",
              "        document.querySelector('#df-47f430fa-28a9-441a-89b4-6570aaa31aee button.colab-df-convert');\n",
              "      buttonEl.style.display =\n",
              "        google.colab.kernel.accessAllowed ? 'block' : 'none';\n",
              "\n",
              "      async function convertToInteractive(key) {\n",
              "        const element = document.querySelector('#df-47f430fa-28a9-441a-89b4-6570aaa31aee');\n",
              "        const dataTable =\n",
              "          await google.colab.kernel.invokeFunction('convertToInteractive',\n",
              "                                                    [key], {});\n",
              "        if (!dataTable) return;\n",
              "\n",
              "        const docLinkHtml = 'Like what you see? Visit the ' +\n",
              "          '<a target=\"_blank\" href=https://colab.research.google.com/notebooks/data_table.ipynb>data table notebook</a>'\n",
              "          + ' to learn more about interactive tables.';\n",
              "        element.innerHTML = '';\n",
              "        dataTable['output_type'] = 'display_data';\n",
              "        await google.colab.output.renderOutput(dataTable, element);\n",
              "        const docLink = document.createElement('div');\n",
              "        docLink.innerHTML = docLinkHtml;\n",
              "        element.appendChild(docLink);\n",
              "      }\n",
              "    </script>\n",
              "  </div>\n",
              "\n",
              "\n",
              "    <div id=\"df-ccf6d3e6-5591-4597-9984-2e353c71a008\">\n",
              "      <button class=\"colab-df-quickchart\" onclick=\"quickchart('df-ccf6d3e6-5591-4597-9984-2e353c71a008')\"\n",
              "                title=\"Suggest charts\"\n",
              "                style=\"display:none;\">\n",
              "\n",
              "<svg xmlns=\"http://www.w3.org/2000/svg\" height=\"24px\"viewBox=\"0 0 24 24\"\n",
              "     width=\"24px\">\n",
              "    <g>\n",
              "        <path d=\"M19 3H5c-1.1 0-2 .9-2 2v14c0 1.1.9 2 2 2h14c1.1 0 2-.9 2-2V5c0-1.1-.9-2-2-2zM9 17H7v-7h2v7zm4 0h-2V7h2v10zm4 0h-2v-4h2v4z\"/>\n",
              "    </g>\n",
              "</svg>\n",
              "      </button>\n",
              "\n",
              "<style>\n",
              "  .colab-df-quickchart {\n",
              "      --bg-color: #E8F0FE;\n",
              "      --fill-color: #1967D2;\n",
              "      --hover-bg-color: #E2EBFA;\n",
              "      --hover-fill-color: #174EA6;\n",
              "      --disabled-fill-color: #AAA;\n",
              "      --disabled-bg-color: #DDD;\n",
              "  }\n",
              "\n",
              "  [theme=dark] .colab-df-quickchart {\n",
              "      --bg-color: #3B4455;\n",
              "      --fill-color: #D2E3FC;\n",
              "      --hover-bg-color: #434B5C;\n",
              "      --hover-fill-color: #FFFFFF;\n",
              "      --disabled-bg-color: #3B4455;\n",
              "      --disabled-fill-color: #666;\n",
              "  }\n",
              "\n",
              "  .colab-df-quickchart {\n",
              "    background-color: var(--bg-color);\n",
              "    border: none;\n",
              "    border-radius: 50%;\n",
              "    cursor: pointer;\n",
              "    display: none;\n",
              "    fill: var(--fill-color);\n",
              "    height: 32px;\n",
              "    padding: 0;\n",
              "    width: 32px;\n",
              "  }\n",
              "\n",
              "  .colab-df-quickchart:hover {\n",
              "    background-color: var(--hover-bg-color);\n",
              "    box-shadow: 0 1px 2px rgba(60, 64, 67, 0.3), 0 1px 3px 1px rgba(60, 64, 67, 0.15);\n",
              "    fill: var(--button-hover-fill-color);\n",
              "  }\n",
              "\n",
              "  .colab-df-quickchart-complete:disabled,\n",
              "  .colab-df-quickchart-complete:disabled:hover {\n",
              "    background-color: var(--disabled-bg-color);\n",
              "    fill: var(--disabled-fill-color);\n",
              "    box-shadow: none;\n",
              "  }\n",
              "\n",
              "  .colab-df-spinner {\n",
              "    border: 2px solid var(--fill-color);\n",
              "    border-color: transparent;\n",
              "    border-bottom-color: var(--fill-color);\n",
              "    animation:\n",
              "      spin 1s steps(1) infinite;\n",
              "  }\n",
              "\n",
              "  @keyframes spin {\n",
              "    0% {\n",
              "      border-color: transparent;\n",
              "      border-bottom-color: var(--fill-color);\n",
              "      border-left-color: var(--fill-color);\n",
              "    }\n",
              "    20% {\n",
              "      border-color: transparent;\n",
              "      border-left-color: var(--fill-color);\n",
              "      border-top-color: var(--fill-color);\n",
              "    }\n",
              "    30% {\n",
              "      border-color: transparent;\n",
              "      border-left-color: var(--fill-color);\n",
              "      border-top-color: var(--fill-color);\n",
              "      border-right-color: var(--fill-color);\n",
              "    }\n",
              "    40% {\n",
              "      border-color: transparent;\n",
              "      border-right-color: var(--fill-color);\n",
              "      border-top-color: var(--fill-color);\n",
              "    }\n",
              "    60% {\n",
              "      border-color: transparent;\n",
              "      border-right-color: var(--fill-color);\n",
              "    }\n",
              "    80% {\n",
              "      border-color: transparent;\n",
              "      border-right-color: var(--fill-color);\n",
              "      border-bottom-color: var(--fill-color);\n",
              "    }\n",
              "    90% {\n",
              "      border-color: transparent;\n",
              "      border-bottom-color: var(--fill-color);\n",
              "    }\n",
              "  }\n",
              "</style>\n",
              "\n",
              "      <script>\n",
              "        async function quickchart(key) {\n",
              "          const quickchartButtonEl =\n",
              "            document.querySelector('#' + key + ' button');\n",
              "          quickchartButtonEl.disabled = true;  // To prevent multiple clicks.\n",
              "          quickchartButtonEl.classList.add('colab-df-spinner');\n",
              "          try {\n",
              "            const charts = await google.colab.kernel.invokeFunction(\n",
              "                'suggestCharts', [key], {});\n",
              "          } catch (error) {\n",
              "            console.error('Error during call to suggestCharts:', error);\n",
              "          }\n",
              "          quickchartButtonEl.classList.remove('colab-df-spinner');\n",
              "          quickchartButtonEl.classList.add('colab-df-quickchart-complete');\n",
              "        }\n",
              "        (() => {\n",
              "          let quickchartButtonEl =\n",
              "            document.querySelector('#df-ccf6d3e6-5591-4597-9984-2e353c71a008 button');\n",
              "          quickchartButtonEl.style.display =\n",
              "            google.colab.kernel.accessAllowed ? 'block' : 'none';\n",
              "        })();\n",
              "      </script>\n",
              "    </div>\n",
              "\n",
              "    </div>\n",
              "  </div>\n"
            ],
            "application/vnd.google.colaboratory.intrinsic+json": {
              "type": "dataframe",
              "variable_name": "ratings_pred_matrix"
            }
          },
          "metadata": {},
          "execution_count": 32
        }
      ]
    },
    {
      "cell_type": "code",
      "source": [
        "# 사용자 9번 영화추천\n",
        "def get_unseen_movies(ratings_matrix, userId):\n",
        "    # userId로 입력받은 사용자의 모든 영화 정보를 추출해 Series로 반환함.\n",
        "    # 반환된 user_rating은 영화명(title)을 인덱스를 가지는 Series 객체임.\n",
        "    user_rating = ratings_matrix.loc[userId, :]\n",
        "\n",
        "    #user_rating이 0보다 크면 기존에 관람한 영화임. 대상 인덱스를 추출해 list 객체로 만듦.\n",
        "    already_seen = user_rating[ user_rating > 0].index.tolist()\n",
        "\n",
        "    # 모든 영화명을 list 객체로 만듦.\n",
        "    movies_list = ratings_matrix.columns.tolist()\n",
        "\n",
        "    # list comporehension으로 already_seen에 해당하는 영화는 movies_list에서 제외함.\n",
        "    unseen_list = [ movie for movie in movies_list if movie not in already_seen]\n",
        "\n",
        "    return unseen_list"
      ],
      "metadata": {
        "id": "AAnnWj2cvYw2"
      },
      "execution_count": 33,
      "outputs": []
    },
    {
      "cell_type": "code",
      "source": [
        "def recomm_movie_by_userid(pred_df, userId, unseen_list, top_n = 10):\n",
        "    # 예측 평점 DataFrame에서 사용자id 인덱스와 unseen_list로 들어온 영화명 칼럼을 추출해\n",
        "    # 가장 예측 평점이 높은 순으로 정렬함.\n",
        "    recomm_movies = pred_df.loc[userId, unseen_list].sort_values(ascending=False)[:top_n]\n",
        "    return recomm_movies"
      ],
      "metadata": {
        "id": "cEFhh-EDv3js"
      },
      "execution_count": 34,
      "outputs": []
    },
    {
      "cell_type": "code",
      "source": [
        "# 사용자가 관람하지 않은 영화명 추출\n",
        "unseen_list = get_unseen_movies(ratings_matrix, 9)\n",
        "\n",
        "# 아이템 기반의 최근접 이웃 협업 필터링으로 영화 추천\n",
        "recomm_movies = recomm_movie_by_userid(ratings_pred_matrix, 9, unseen_list, top_n=10)\n",
        "\n",
        "# 평점 데이터를 DataFrame으로 생성.\n",
        "recomm_movies = pd.DataFrame(data=recomm_movies.values, index=recomm_movies.index)\n",
        "columns = ['pred_score']\n",
        "recomm_movies"
      ],
      "metadata": {
        "colab": {
          "base_uri": "https://localhost:8080/",
          "height": 394
        },
        "id": "qAhZJj7Tv4r5",
        "outputId": "2476984a-bc36-49bf-9aae-58133d123789"
      },
      "execution_count": 35,
      "outputs": [
        {
          "output_type": "execute_result",
          "data": {
            "text/plain": [
              "                                                           0\n",
              "title                                                       \n",
              "Rear Window (1954)                                  5.704612\n",
              "South Park: Bigger, Longer and Uncut (1999)         5.451100\n",
              "Rounders (1998)                                     5.298393\n",
              "Blade Runner (1982)                                 5.244951\n",
              "Roger & Me (1989)                                   5.191962\n",
              "Gattaca (1997)                                      5.183179\n",
              "Ben-Hur (1959)                                      5.130463\n",
              "Rosencrantz and Guildenstern Are Dead (1990)        5.087375\n",
              "Big Lebowski, The (1998)                            5.038690\n",
              "Star Wars: Episode V - The Empire Strikes Back ...  4.989601"
            ],
            "text/html": [
              "\n",
              "  <div id=\"df-22020a11-53f2-4933-8faf-a8adfd656d10\" class=\"colab-df-container\">\n",
              "    <div>\n",
              "<style scoped>\n",
              "    .dataframe tbody tr th:only-of-type {\n",
              "        vertical-align: middle;\n",
              "    }\n",
              "\n",
              "    .dataframe tbody tr th {\n",
              "        vertical-align: top;\n",
              "    }\n",
              "\n",
              "    .dataframe thead th {\n",
              "        text-align: right;\n",
              "    }\n",
              "</style>\n",
              "<table border=\"1\" class=\"dataframe\">\n",
              "  <thead>\n",
              "    <tr style=\"text-align: right;\">\n",
              "      <th></th>\n",
              "      <th>0</th>\n",
              "    </tr>\n",
              "    <tr>\n",
              "      <th>title</th>\n",
              "      <th></th>\n",
              "    </tr>\n",
              "  </thead>\n",
              "  <tbody>\n",
              "    <tr>\n",
              "      <th>Rear Window (1954)</th>\n",
              "      <td>5.704612</td>\n",
              "    </tr>\n",
              "    <tr>\n",
              "      <th>South Park: Bigger, Longer and Uncut (1999)</th>\n",
              "      <td>5.451100</td>\n",
              "    </tr>\n",
              "    <tr>\n",
              "      <th>Rounders (1998)</th>\n",
              "      <td>5.298393</td>\n",
              "    </tr>\n",
              "    <tr>\n",
              "      <th>Blade Runner (1982)</th>\n",
              "      <td>5.244951</td>\n",
              "    </tr>\n",
              "    <tr>\n",
              "      <th>Roger &amp; Me (1989)</th>\n",
              "      <td>5.191962</td>\n",
              "    </tr>\n",
              "    <tr>\n",
              "      <th>Gattaca (1997)</th>\n",
              "      <td>5.183179</td>\n",
              "    </tr>\n",
              "    <tr>\n",
              "      <th>Ben-Hur (1959)</th>\n",
              "      <td>5.130463</td>\n",
              "    </tr>\n",
              "    <tr>\n",
              "      <th>Rosencrantz and Guildenstern Are Dead (1990)</th>\n",
              "      <td>5.087375</td>\n",
              "    </tr>\n",
              "    <tr>\n",
              "      <th>Big Lebowski, The (1998)</th>\n",
              "      <td>5.038690</td>\n",
              "    </tr>\n",
              "    <tr>\n",
              "      <th>Star Wars: Episode V - The Empire Strikes Back (1980)</th>\n",
              "      <td>4.989601</td>\n",
              "    </tr>\n",
              "  </tbody>\n",
              "</table>\n",
              "</div>\n",
              "    <div class=\"colab-df-buttons\">\n",
              "\n",
              "  <div class=\"colab-df-container\">\n",
              "    <button class=\"colab-df-convert\" onclick=\"convertToInteractive('df-22020a11-53f2-4933-8faf-a8adfd656d10')\"\n",
              "            title=\"Convert this dataframe to an interactive table.\"\n",
              "            style=\"display:none;\">\n",
              "\n",
              "  <svg xmlns=\"http://www.w3.org/2000/svg\" height=\"24px\" viewBox=\"0 -960 960 960\">\n",
              "    <path d=\"M120-120v-720h720v720H120Zm60-500h600v-160H180v160Zm220 220h160v-160H400v160Zm0 220h160v-160H400v160ZM180-400h160v-160H180v160Zm440 0h160v-160H620v160ZM180-180h160v-160H180v160Zm440 0h160v-160H620v160Z\"/>\n",
              "  </svg>\n",
              "    </button>\n",
              "\n",
              "  <style>\n",
              "    .colab-df-container {\n",
              "      display:flex;\n",
              "      gap: 12px;\n",
              "    }\n",
              "\n",
              "    .colab-df-convert {\n",
              "      background-color: #E8F0FE;\n",
              "      border: none;\n",
              "      border-radius: 50%;\n",
              "      cursor: pointer;\n",
              "      display: none;\n",
              "      fill: #1967D2;\n",
              "      height: 32px;\n",
              "      padding: 0 0 0 0;\n",
              "      width: 32px;\n",
              "    }\n",
              "\n",
              "    .colab-df-convert:hover {\n",
              "      background-color: #E2EBFA;\n",
              "      box-shadow: 0px 1px 2px rgba(60, 64, 67, 0.3), 0px 1px 3px 1px rgba(60, 64, 67, 0.15);\n",
              "      fill: #174EA6;\n",
              "    }\n",
              "\n",
              "    .colab-df-buttons div {\n",
              "      margin-bottom: 4px;\n",
              "    }\n",
              "\n",
              "    [theme=dark] .colab-df-convert {\n",
              "      background-color: #3B4455;\n",
              "      fill: #D2E3FC;\n",
              "    }\n",
              "\n",
              "    [theme=dark] .colab-df-convert:hover {\n",
              "      background-color: #434B5C;\n",
              "      box-shadow: 0px 1px 3px 1px rgba(0, 0, 0, 0.15);\n",
              "      filter: drop-shadow(0px 1px 2px rgba(0, 0, 0, 0.3));\n",
              "      fill: #FFFFFF;\n",
              "    }\n",
              "  </style>\n",
              "\n",
              "    <script>\n",
              "      const buttonEl =\n",
              "        document.querySelector('#df-22020a11-53f2-4933-8faf-a8adfd656d10 button.colab-df-convert');\n",
              "      buttonEl.style.display =\n",
              "        google.colab.kernel.accessAllowed ? 'block' : 'none';\n",
              "\n",
              "      async function convertToInteractive(key) {\n",
              "        const element = document.querySelector('#df-22020a11-53f2-4933-8faf-a8adfd656d10');\n",
              "        const dataTable =\n",
              "          await google.colab.kernel.invokeFunction('convertToInteractive',\n",
              "                                                    [key], {});\n",
              "        if (!dataTable) return;\n",
              "\n",
              "        const docLinkHtml = 'Like what you see? Visit the ' +\n",
              "          '<a target=\"_blank\" href=https://colab.research.google.com/notebooks/data_table.ipynb>data table notebook</a>'\n",
              "          + ' to learn more about interactive tables.';\n",
              "        element.innerHTML = '';\n",
              "        dataTable['output_type'] = 'display_data';\n",
              "        await google.colab.output.renderOutput(dataTable, element);\n",
              "        const docLink = document.createElement('div');\n",
              "        docLink.innerHTML = docLinkHtml;\n",
              "        element.appendChild(docLink);\n",
              "      }\n",
              "    </script>\n",
              "  </div>\n",
              "\n",
              "\n",
              "    <div id=\"df-2bf0079c-ff04-4f27-bdba-eb064935dca3\">\n",
              "      <button class=\"colab-df-quickchart\" onclick=\"quickchart('df-2bf0079c-ff04-4f27-bdba-eb064935dca3')\"\n",
              "                title=\"Suggest charts\"\n",
              "                style=\"display:none;\">\n",
              "\n",
              "<svg xmlns=\"http://www.w3.org/2000/svg\" height=\"24px\"viewBox=\"0 0 24 24\"\n",
              "     width=\"24px\">\n",
              "    <g>\n",
              "        <path d=\"M19 3H5c-1.1 0-2 .9-2 2v14c0 1.1.9 2 2 2h14c1.1 0 2-.9 2-2V5c0-1.1-.9-2-2-2zM9 17H7v-7h2v7zm4 0h-2V7h2v10zm4 0h-2v-4h2v4z\"/>\n",
              "    </g>\n",
              "</svg>\n",
              "      </button>\n",
              "\n",
              "<style>\n",
              "  .colab-df-quickchart {\n",
              "      --bg-color: #E8F0FE;\n",
              "      --fill-color: #1967D2;\n",
              "      --hover-bg-color: #E2EBFA;\n",
              "      --hover-fill-color: #174EA6;\n",
              "      --disabled-fill-color: #AAA;\n",
              "      --disabled-bg-color: #DDD;\n",
              "  }\n",
              "\n",
              "  [theme=dark] .colab-df-quickchart {\n",
              "      --bg-color: #3B4455;\n",
              "      --fill-color: #D2E3FC;\n",
              "      --hover-bg-color: #434B5C;\n",
              "      --hover-fill-color: #FFFFFF;\n",
              "      --disabled-bg-color: #3B4455;\n",
              "      --disabled-fill-color: #666;\n",
              "  }\n",
              "\n",
              "  .colab-df-quickchart {\n",
              "    background-color: var(--bg-color);\n",
              "    border: none;\n",
              "    border-radius: 50%;\n",
              "    cursor: pointer;\n",
              "    display: none;\n",
              "    fill: var(--fill-color);\n",
              "    height: 32px;\n",
              "    padding: 0;\n",
              "    width: 32px;\n",
              "  }\n",
              "\n",
              "  .colab-df-quickchart:hover {\n",
              "    background-color: var(--hover-bg-color);\n",
              "    box-shadow: 0 1px 2px rgba(60, 64, 67, 0.3), 0 1px 3px 1px rgba(60, 64, 67, 0.15);\n",
              "    fill: var(--button-hover-fill-color);\n",
              "  }\n",
              "\n",
              "  .colab-df-quickchart-complete:disabled,\n",
              "  .colab-df-quickchart-complete:disabled:hover {\n",
              "    background-color: var(--disabled-bg-color);\n",
              "    fill: var(--disabled-fill-color);\n",
              "    box-shadow: none;\n",
              "  }\n",
              "\n",
              "  .colab-df-spinner {\n",
              "    border: 2px solid var(--fill-color);\n",
              "    border-color: transparent;\n",
              "    border-bottom-color: var(--fill-color);\n",
              "    animation:\n",
              "      spin 1s steps(1) infinite;\n",
              "  }\n",
              "\n",
              "  @keyframes spin {\n",
              "    0% {\n",
              "      border-color: transparent;\n",
              "      border-bottom-color: var(--fill-color);\n",
              "      border-left-color: var(--fill-color);\n",
              "    }\n",
              "    20% {\n",
              "      border-color: transparent;\n",
              "      border-left-color: var(--fill-color);\n",
              "      border-top-color: var(--fill-color);\n",
              "    }\n",
              "    30% {\n",
              "      border-color: transparent;\n",
              "      border-left-color: var(--fill-color);\n",
              "      border-top-color: var(--fill-color);\n",
              "      border-right-color: var(--fill-color);\n",
              "    }\n",
              "    40% {\n",
              "      border-color: transparent;\n",
              "      border-right-color: var(--fill-color);\n",
              "      border-top-color: var(--fill-color);\n",
              "    }\n",
              "    60% {\n",
              "      border-color: transparent;\n",
              "      border-right-color: var(--fill-color);\n",
              "    }\n",
              "    80% {\n",
              "      border-color: transparent;\n",
              "      border-right-color: var(--fill-color);\n",
              "      border-bottom-color: var(--fill-color);\n",
              "    }\n",
              "    90% {\n",
              "      border-color: transparent;\n",
              "      border-bottom-color: var(--fill-color);\n",
              "    }\n",
              "  }\n",
              "</style>\n",
              "\n",
              "      <script>\n",
              "        async function quickchart(key) {\n",
              "          const quickchartButtonEl =\n",
              "            document.querySelector('#' + key + ' button');\n",
              "          quickchartButtonEl.disabled = true;  // To prevent multiple clicks.\n",
              "          quickchartButtonEl.classList.add('colab-df-spinner');\n",
              "          try {\n",
              "            const charts = await google.colab.kernel.invokeFunction(\n",
              "                'suggestCharts', [key], {});\n",
              "          } catch (error) {\n",
              "            console.error('Error during call to suggestCharts:', error);\n",
              "          }\n",
              "          quickchartButtonEl.classList.remove('colab-df-spinner');\n",
              "          quickchartButtonEl.classList.add('colab-df-quickchart-complete');\n",
              "        }\n",
              "        (() => {\n",
              "          let quickchartButtonEl =\n",
              "            document.querySelector('#df-2bf0079c-ff04-4f27-bdba-eb064935dca3 button');\n",
              "          quickchartButtonEl.style.display =\n",
              "            google.colab.kernel.accessAllowed ? 'block' : 'none';\n",
              "        })();\n",
              "      </script>\n",
              "    </div>\n",
              "\n",
              "  <div id=\"id_94077f2f-1f05-4776-a44c-26dd78d27bb4\">\n",
              "    <style>\n",
              "      .colab-df-generate {\n",
              "        background-color: #E8F0FE;\n",
              "        border: none;\n",
              "        border-radius: 50%;\n",
              "        cursor: pointer;\n",
              "        display: none;\n",
              "        fill: #1967D2;\n",
              "        height: 32px;\n",
              "        padding: 0 0 0 0;\n",
              "        width: 32px;\n",
              "      }\n",
              "\n",
              "      .colab-df-generate:hover {\n",
              "        background-color: #E2EBFA;\n",
              "        box-shadow: 0px 1px 2px rgba(60, 64, 67, 0.3), 0px 1px 3px 1px rgba(60, 64, 67, 0.15);\n",
              "        fill: #174EA6;\n",
              "      }\n",
              "\n",
              "      [theme=dark] .colab-df-generate {\n",
              "        background-color: #3B4455;\n",
              "        fill: #D2E3FC;\n",
              "      }\n",
              "\n",
              "      [theme=dark] .colab-df-generate:hover {\n",
              "        background-color: #434B5C;\n",
              "        box-shadow: 0px 1px 3px 1px rgba(0, 0, 0, 0.15);\n",
              "        filter: drop-shadow(0px 1px 2px rgba(0, 0, 0, 0.3));\n",
              "        fill: #FFFFFF;\n",
              "      }\n",
              "    </style>\n",
              "    <button class=\"colab-df-generate\" onclick=\"generateWithVariable('recomm_movies')\"\n",
              "            title=\"Generate code using this dataframe.\"\n",
              "            style=\"display:none;\">\n",
              "\n",
              "  <svg xmlns=\"http://www.w3.org/2000/svg\" height=\"24px\"viewBox=\"0 0 24 24\"\n",
              "       width=\"24px\">\n",
              "    <path d=\"M7,19H8.4L18.45,9,17,7.55,7,17.6ZM5,21V16.75L18.45,3.32a2,2,0,0,1,2.83,0l1.4,1.43a1.91,1.91,0,0,1,.58,1.4,1.91,1.91,0,0,1-.58,1.4L9.25,21ZM18.45,9,17,7.55Zm-12,3A5.31,5.31,0,0,0,4.9,8.1,5.31,5.31,0,0,0,1,6.5,5.31,5.31,0,0,0,4.9,4.9,5.31,5.31,0,0,0,6.5,1,5.31,5.31,0,0,0,8.1,4.9,5.31,5.31,0,0,0,12,6.5,5.46,5.46,0,0,0,6.5,12Z\"/>\n",
              "  </svg>\n",
              "    </button>\n",
              "    <script>\n",
              "      (() => {\n",
              "      const buttonEl =\n",
              "        document.querySelector('#id_94077f2f-1f05-4776-a44c-26dd78d27bb4 button.colab-df-generate');\n",
              "      buttonEl.style.display =\n",
              "        google.colab.kernel.accessAllowed ? 'block' : 'none';\n",
              "\n",
              "      buttonEl.onclick = () => {\n",
              "        google.colab.notebook.generateWithVariable('recomm_movies');\n",
              "      }\n",
              "      })();\n",
              "    </script>\n",
              "  </div>\n",
              "\n",
              "    </div>\n",
              "  </div>\n"
            ],
            "application/vnd.google.colaboratory.intrinsic+json": {
              "type": "dataframe",
              "variable_name": "recomm_movies",
              "summary": "{\n  \"name\": \"recomm_movies\",\n  \"rows\": 10,\n  \"fields\": [\n    {\n      \"column\": \"title\",\n      \"properties\": {\n        \"dtype\": \"string\",\n        \"num_unique_values\": 10,\n        \"samples\": [\n          \"Big Lebowski, The (1998)\",\n          \"South Park: Bigger, Longer and Uncut (1999)\",\n          \"Gattaca (1997)\"\n        ],\n        \"semantic_type\": \"\",\n        \"description\": \"\"\n      }\n    },\n    {\n      \"column\": 0,\n      \"properties\": {\n        \"dtype\": \"number\",\n        \"std\": 0.21272885538651393,\n        \"min\": 4.989601238872484,\n        \"max\": 5.704612469838172,\n        \"num_unique_values\": 10,\n        \"samples\": [\n          5.0386897288205725,\n          5.451100205772531,\n          5.183178550884765\n        ],\n        \"semantic_type\": \"\",\n        \"description\": \"\"\n      }\n    }\n  ]\n}"
            }
          },
          "metadata": {},
          "execution_count": 35
        }
      ]
    },
    {
      "cell_type": "markdown",
      "source": [
        "## Surprise"
      ],
      "metadata": {
        "id": "b5WC4BTGxD1d"
      }
    },
    {
      "cell_type": "code",
      "source": [
        "!pip install scikit-surprise"
      ],
      "metadata": {
        "colab": {
          "base_uri": "https://localhost:8080/"
        },
        "id": "O10o4qLJ3BP-",
        "outputId": "c965f23d-e8b3-4721-d93f-f52699309426"
      },
      "execution_count": 2,
      "outputs": [
        {
          "output_type": "stream",
          "name": "stdout",
          "text": [
            "Collecting scikit-surprise\n",
            "  Using cached scikit_surprise-1.1.4-cp312-cp312-linux_x86_64.whl\n",
            "Requirement already satisfied: joblib>=1.2.0 in /usr/local/lib/python3.12/dist-packages (from scikit-surprise) (1.5.2)\n",
            "Requirement already satisfied: numpy>=1.19.5 in /usr/local/lib/python3.12/dist-packages (from scikit-surprise) (1.26.4)\n",
            "Requirement already satisfied: scipy>=1.6.0 in /usr/local/lib/python3.12/dist-packages (from scikit-surprise) (1.16.2)\n",
            "Installing collected packages: scikit-surprise\n",
            "Successfully installed scikit-surprise-1.1.4\n"
          ]
        }
      ]
    },
    {
      "cell_type": "code",
      "source": [
        "import surprise\n",
        "from surprise import SVD\n",
        "from surprise import Dataset\n",
        "from surprise import accuracy\n",
        "from surprise.model_selection import train_test_split"
      ],
      "metadata": {
        "id": "8vgCzLEm3LK8"
      },
      "execution_count": 2,
      "outputs": []
    },
    {
      "cell_type": "code",
      "source": [
        "data = Dataset.load_builtin('ml-100k')\n",
        "trainset, testset = train_test_split(data, test_size=.25, random_state=0)"
      ],
      "metadata": {
        "colab": {
          "base_uri": "https://localhost:8080/"
        },
        "id": "u6FJahyw3TG0",
        "outputId": "49967fd9-571f-4bd7-8a27-d1d269a6d65c"
      },
      "execution_count": 7,
      "outputs": [
        {
          "output_type": "stream",
          "name": "stdout",
          "text": [
            "Dataset ml-100k could not be found. Do you want to download it? [Y/n] Y\n",
            "Trying to download dataset from https://files.grouplens.org/datasets/movielens/ml-100k.zip...\n",
            "Done! Dataset ml-100k has been saved to /root/.surprise_data/ml-100k\n"
          ]
        }
      ]
    },
    {
      "cell_type": "code",
      "source": [
        "algo = SVD(random_state=0)\n",
        "algo.fit(trainset)"
      ],
      "metadata": {
        "colab": {
          "base_uri": "https://localhost:8080/"
        },
        "id": "ZuopC7vE4GSL",
        "outputId": "5d3af49b-3e2d-4563-be25-92ce2d1d8e2e"
      },
      "execution_count": 8,
      "outputs": [
        {
          "output_type": "execute_result",
          "data": {
            "text/plain": [
              "<surprise.prediction_algorithms.matrix_factorization.SVD at 0x7b82085f25a0>"
            ]
          },
          "metadata": {},
          "execution_count": 8
        }
      ]
    },
    {
      "cell_type": "code",
      "source": [
        "predictions = algo.test(testset)\n",
        "print('prediction type: ', type(predictions), 'size: ', len(predictions))\n",
        "print('predicton 결과의 최초 5개 추출')\n",
        "predictions[:5]"
      ],
      "metadata": {
        "colab": {
          "base_uri": "https://localhost:8080/"
        },
        "id": "oRZlNh0W5b0w",
        "outputId": "3540d37d-fb41-42ea-9e13-d6f4484d3204"
      },
      "execution_count": 9,
      "outputs": [
        {
          "output_type": "stream",
          "name": "stdout",
          "text": [
            "prediction type:  <class 'list'> size:  25000\n",
            "predicton 결과의 최초 5개 추출\n"
          ]
        },
        {
          "output_type": "execute_result",
          "data": {
            "text/plain": [
              "[Prediction(uid='120', iid='282', r_ui=4.0, est=3.5114147666251547, details={'was_impossible': False}),\n",
              " Prediction(uid='882', iid='291', r_ui=4.0, est=3.573872419581491, details={'was_impossible': False}),\n",
              " Prediction(uid='535', iid='507', r_ui=5.0, est=4.033583485472447, details={'was_impossible': False}),\n",
              " Prediction(uid='697', iid='244', r_ui=5.0, est=3.8463639495936905, details={'was_impossible': False}),\n",
              " Prediction(uid='751', iid='385', r_ui=4.0, est=3.1807542478219157, details={'was_impossible': False})]"
            ]
          },
          "metadata": {},
          "execution_count": 9
        }
      ]
    },
    {
      "cell_type": "markdown",
      "source": [
        "* Prediction 객체: 튜플 형태로 데이터 가지고 있음\n",
        "\n",
        "   -- datails 속성: 추천 예측이 불가능한 경우, 로그용으로 데이터를 남기는 데 사용 (was_impossible=True)"
      ],
      "metadata": {
        "id": "wRSq-nBW6NVu"
      }
    },
    {
      "cell_type": "code",
      "source": [
        "# 객체에서 속성 추출\n",
        "[(pred.uid, pred.iid, pred.est) for pred in predictions[:3]]"
      ],
      "metadata": {
        "colab": {
          "base_uri": "https://localhost:8080/"
        },
        "id": "d2Xu71Se58XF",
        "outputId": "603a7f4e-6c19-4bd1-9367-9511a253af05"
      },
      "execution_count": 10,
      "outputs": [
        {
          "output_type": "execute_result",
          "data": {
            "text/plain": [
              "[('120', '282', 3.5114147666251547),\n",
              " ('882', '291', 3.573872419581491),\n",
              " ('535', '507', 4.033583485472447)]"
            ]
          },
          "metadata": {},
          "execution_count": 10
        }
      ]
    },
    {
      "cell_type": "code",
      "source": [
        "# 기존 평점 정보는 선택사항 / 사용자 아이디,아이템아이디는 문자열로 입력해야 함.\n",
        "uid = str(196)\n",
        "iid = str(302)\n",
        "pred = algo.predict(uid, iid)\n",
        "print(pred)"
      ],
      "metadata": {
        "colab": {
          "base_uri": "https://localhost:8080/"
        },
        "id": "c6Y7pM8Z6lMn",
        "outputId": "3b1d8030-4c77-4e43-8132-022e1152a07c"
      },
      "execution_count": 11,
      "outputs": [
        {
          "output_type": "stream",
          "name": "stdout",
          "text": [
            "user: 196        item: 302        r_ui = None   est = 4.49   {'was_impossible': False}\n"
          ]
        }
      ]
    },
    {
      "cell_type": "code",
      "source": [
        "accuracy.rmse(predictions)"
      ],
      "metadata": {
        "colab": {
          "base_uri": "https://localhost:8080/"
        },
        "id": "YIR76avE63lY",
        "outputId": "298e0825-fe34-4d00-da3e-fec511af6f10"
      },
      "execution_count": 12,
      "outputs": [
        {
          "output_type": "stream",
          "name": "stdout",
          "text": [
            "RMSE: 0.9467\n"
          ]
        },
        {
          "output_type": "execute_result",
          "data": {
            "text/plain": [
              "0.9466860806937948"
            ]
          },
          "metadata": {},
          "execution_count": 12
        }
      ]
    },
    {
      "cell_type": "markdown",
      "source": [
        "\n",
        "\n",
        "---\n",
        "\n"
      ],
      "metadata": {
        "id": "riqTNopJ9n2v"
      }
    },
    {
      "cell_type": "code",
      "source": [
        "import pandas as pd\n",
        "\n",
        "ratings = pd.read_csv('/content/drive/MyDrive/Colab Notebooks/data/ratings.csv')\n",
        "# # ratings_noh.csv 파일로 언로드 시 인덱스와 헤더를 모두 제거한 새로운 파일 생성\n",
        "ratings.to_csv('/content/drive/MyDrive/Colab Notebooks/data/ratings_noh.csv', index=False, header=False)"
      ],
      "metadata": {
        "id": "itNrty337M7E"
      },
      "execution_count": 14,
      "outputs": []
    },
    {
      "cell_type": "code",
      "source": [
        "from surprise import Reader\n",
        "\n",
        "reader = Reader(line_format='user item rating timestamp', sep=',', rating_scale=(0.5, 5))\n",
        "data = Dataset.load_from_file('/content/drive/MyDrive/Colab Notebooks/data/ratings_noh.csv', reader=reader)"
      ],
      "metadata": {
        "id": "gGrJ0V5M8OxA"
      },
      "execution_count": 15,
      "outputs": []
    },
    {
      "cell_type": "code",
      "source": [
        "trainset, testset  = train_test_split(data, test_size=25, random_state=0)\n",
        "\n",
        "# 수행 시마다 동일한 결과를 도출하기 위해 random_state 설정\n",
        "algo = SVD(n_factors=50, random_state=0)\n",
        "\n",
        "# 학습 데이터 세트로 학습하고 나서 테스트 데이터 세트로 평점 예측 후 RMSE 평가\n",
        "algo.fit(trainset)\n",
        "predictions = algo.test(testset)\n",
        "accuracy.rmse(predictions)"
      ],
      "metadata": {
        "colab": {
          "base_uri": "https://localhost:8080/"
        },
        "id": "nt6uiVsb8iKV",
        "outputId": "e28c71d0-4cd8-418e-aede-a8ee4a0c25cb"
      },
      "execution_count": 16,
      "outputs": [
        {
          "output_type": "stream",
          "name": "stdout",
          "text": [
            "RMSE: 1.0051\n"
          ]
        },
        {
          "output_type": "execute_result",
          "data": {
            "text/plain": [
              "1.005068647071627"
            ]
          },
          "metadata": {},
          "execution_count": 16
        }
      ]
    },
    {
      "cell_type": "markdown",
      "source": [
        "* 판다스 데이터프레임 ➡ surprise 데이터세트"
      ],
      "metadata": {
        "id": "9B4rddSZ9HEU"
      }
    },
    {
      "cell_type": "code",
      "source": [
        "import pandas as pd\n",
        "from surprise import Reader, Dataset\n",
        "\n",
        "# Load the CSV without a header and specify column names\n",
        "ratings = pd.read_csv('/content/drive/MyDrive/Colab Notebooks/data/ratings.csv', header=None, names=['userId', 'movieId', 'rating', 'timestamp'])\n",
        "\n",
        "# Drop the timestamp column as it's not needed for the Surprise dataset\n",
        "ratings = ratings[['userId', 'movieId', 'rating']]\n",
        "\n",
        "reader = Reader(rating_scale=(0.5, 5.0))\n",
        "\n",
        "# ratings DataFrame에서 칼럼은 사용자 아이디, 아이템 아이디, 평점 순서를 지켜야함.\n",
        "data = Dataset.load_from_df(ratings[['userId', 'movieId', 'rating']], reader)\n",
        "trainset, testset = train_test_split(data, test_size=.25, random_state=0)\n",
        "\n",
        "algo = SVD(n_factors=50, random_state=0)\n",
        "algo.fit(trainset)\n",
        "predictions = algo.test(testset)\n",
        "accuracy.rmse(predictions)"
      ],
      "metadata": {
        "colab": {
          "base_uri": "https://localhost:8080/"
        },
        "id": "IxgwzDhn89Bt",
        "outputId": "6487e90d-2181-4d50-b498-1433d7551d32"
      },
      "execution_count": 18,
      "outputs": [
        {
          "output_type": "stream",
          "name": "stdout",
          "text": [
            "RMSE: 0.8682\n"
          ]
        },
        {
          "output_type": "execute_result",
          "data": {
            "text/plain": [
              "0.8681952927143516"
            ]
          },
          "metadata": {},
          "execution_count": 18
        }
      ]
    },
    {
      "cell_type": "markdown",
      "source": [
        "\n",
        "\n",
        "---\n",
        "\n"
      ],
      "metadata": {
        "id": "4PLsdCaT9qhJ"
      }
    },
    {
      "cell_type": "markdown",
      "source": [
        "* 교차검증, 성능 평가"
      ],
      "metadata": {
        "id": "u9Vy9S_-BIio"
      }
    },
    {
      "cell_type": "code",
      "source": [
        "from surprise.model_selection import cross_validate\n",
        "\n",
        "# Pandas DataFrame에서 Surprise 데이터 세트로 데이터 로딩\n",
        "ratings = pd.read_csv('/content/drive/MyDrive/Colab Notebooks/data/ratings.csv', header=None, names=['userId', 'movieId', 'rating', 'timestamp'])\n",
        "reader = Reader(rating_scale=(0.5, 5.0))\n",
        "data = Dataset.load_from_df(ratings[['userId', 'movieId', 'rating']], reader)\n",
        "\n",
        "algo = SVD(random_state=0)\n",
        "cross_validate(algo, data, measures=['RMSE', 'MAE'], cv=5, verbose=True)"
      ],
      "metadata": {
        "colab": {
          "base_uri": "https://localhost:8080/"
        },
        "id": "TrhnzOYA9Rg0",
        "outputId": "48cd2a4e-d891-4a64-ef06-7f802cc6ed64"
      },
      "execution_count": 19,
      "outputs": [
        {
          "output_type": "stream",
          "name": "stdout",
          "text": [
            "Evaluating RMSE, MAE of algorithm SVD on 5 split(s).\n",
            "\n",
            "                  Fold 1  Fold 2  Fold 3  Fold 4  Fold 5  Mean    Std     \n",
            "RMSE (testset)    0.8634  0.8808  0.8777  0.8776  0.8659  0.8731  0.0070  \n",
            "MAE (testset)     0.6627  0.6752  0.6734  0.6757  0.6668  0.6708  0.0051  \n",
            "Fit time          1.82    2.18    1.49    1.57    1.46    1.70    0.27    \n",
            "Test time         0.19    0.46    0.12    0.29    0.13    0.24    0.13    \n"
          ]
        },
        {
          "output_type": "execute_result",
          "data": {
            "text/plain": [
              "{'test_rmse': array([0.86338278, 0.88081802, 0.87768527, 0.87756245, 0.86590924]),\n",
              " 'test_mae': array([0.66268041, 0.6752375 , 0.67344632, 0.67566547, 0.66684013]),\n",
              " 'fit_time': (1.823906421661377,\n",
              "  2.1830475330352783,\n",
              "  1.4852230548858643,\n",
              "  1.5665147304534912,\n",
              "  1.4628210067749023),\n",
              " 'test_time': (0.19000720977783203,\n",
              "  0.4649224281311035,\n",
              "  0.12118268013000488,\n",
              "  0.2902350425720215,\n",
              "  0.12966275215148926)}"
            ]
          },
          "metadata": {},
          "execution_count": 19
        }
      ]
    },
    {
      "cell_type": "markdown",
      "source": [
        "* 하이퍼 파라미터 튜닝"
      ],
      "metadata": {
        "id": "zk1jonhHCOrP"
      }
    },
    {
      "cell_type": "code",
      "source": [
        "from surprise.model_selection import GridSearchCV\n",
        "\n",
        "# 최적화할 파라미터를 딕셔너리 형태로 지정\n",
        "param_grid = {'n_epochs': [20,40,60], 'n_factors': [50,100,200]}\n",
        "\n",
        "# CV를 3개 폴드 세트로 지정, 성능 평가는 rmse, mse로 수행하도록 GridSearchCV 구성\n",
        "gs = GridSearchCV(SVD, param_grid, measures=['rmse','mae'], cv=3)\n",
        "gs.fit(data)\n",
        "\n",
        "# 최고 RMSE Evaluation 점수와 그때의 하이퍼 파라미터\n",
        "print(gs.best_score['rmse'])\n",
        "print(gs.best_params['rmse'])"
      ],
      "metadata": {
        "colab": {
          "base_uri": "https://localhost:8080/"
        },
        "id": "H0TLyT8hBg1M",
        "outputId": "5ea73867-0090-4ca2-da4a-375bf2bc50d8"
      },
      "execution_count": 20,
      "outputs": [
        {
          "output_type": "stream",
          "name": "stdout",
          "text": [
            "0.8770977719067033\n",
            "{'n_epochs': 20, 'n_factors': 50}\n"
          ]
        }
      ]
    },
    {
      "cell_type": "markdown",
      "source": [
        "\n",
        "\n",
        "---\n",
        "\n"
      ],
      "metadata": {
        "id": "j4oVN0O4CtAi"
      }
    },
    {
      "cell_type": "code",
      "source": [
        "# 다음 코드는 train_test_split()으로 분리되지 않는 데이터 세트에 fit()을 호출해 오류가 발생함\n",
        "data = Dataset.load_from_df(ratings[['userId','movieId','rating']], reader)\n",
        "algo = SVD(n_factors=50, random_state=0)\n",
        "algo.fit(data)"
      ],
      "metadata": {
        "colab": {
          "base_uri": "https://localhost:8080/",
          "height": 269
        },
        "id": "zUnFCJI9CTjI",
        "outputId": "db610550-d4a9-4e73-bb3e-760f8e1a9396"
      },
      "execution_count": 21,
      "outputs": [
        {
          "output_type": "error",
          "ename": "AttributeError",
          "evalue": "'DatasetAutoFolds' object has no attribute 'n_users'",
          "traceback": [
            "\u001b[0;31m---------------------------------------------------------------------------\u001b[0m",
            "\u001b[0;31mAttributeError\u001b[0m                            Traceback (most recent call last)",
            "\u001b[0;32m/tmp/ipython-input-3483107606.py\u001b[0m in \u001b[0;36m<cell line: 0>\u001b[0;34m()\u001b[0m\n\u001b[1;32m      2\u001b[0m \u001b[0mdata\u001b[0m \u001b[0;34m=\u001b[0m \u001b[0mDataset\u001b[0m\u001b[0;34m.\u001b[0m\u001b[0mload_from_df\u001b[0m\u001b[0;34m(\u001b[0m\u001b[0mratings\u001b[0m\u001b[0;34m[\u001b[0m\u001b[0;34m[\u001b[0m\u001b[0;34m'userId'\u001b[0m\u001b[0;34m,\u001b[0m\u001b[0;34m'movieId'\u001b[0m\u001b[0;34m,\u001b[0m\u001b[0;34m'rating'\u001b[0m\u001b[0;34m]\u001b[0m\u001b[0;34m]\u001b[0m\u001b[0;34m,\u001b[0m \u001b[0mreader\u001b[0m\u001b[0;34m)\u001b[0m\u001b[0;34m\u001b[0m\u001b[0;34m\u001b[0m\u001b[0m\n\u001b[1;32m      3\u001b[0m \u001b[0malgo\u001b[0m \u001b[0;34m=\u001b[0m \u001b[0mSVD\u001b[0m\u001b[0;34m(\u001b[0m\u001b[0mn_factors\u001b[0m\u001b[0;34m=\u001b[0m\u001b[0;36m50\u001b[0m\u001b[0;34m,\u001b[0m \u001b[0mrandom_state\u001b[0m\u001b[0;34m=\u001b[0m\u001b[0;36m0\u001b[0m\u001b[0;34m)\u001b[0m\u001b[0;34m\u001b[0m\u001b[0;34m\u001b[0m\u001b[0m\n\u001b[0;32m----> 4\u001b[0;31m \u001b[0malgo\u001b[0m\u001b[0;34m.\u001b[0m\u001b[0mfit\u001b[0m\u001b[0;34m(\u001b[0m\u001b[0mdata\u001b[0m\u001b[0;34m)\u001b[0m\u001b[0;34m\u001b[0m\u001b[0;34m\u001b[0m\u001b[0m\n\u001b[0m",
            "\u001b[0;32m/usr/local/lib/python3.12/dist-packages/surprise/prediction_algorithms/matrix_factorization.pyx\u001b[0m in \u001b[0;36msurprise.prediction_algorithms.matrix_factorization.SVD.fit\u001b[0;34m()\u001b[0m\n",
            "\u001b[0;32m/usr/local/lib/python3.12/dist-packages/surprise/prediction_algorithms/matrix_factorization.pyx\u001b[0m in \u001b[0;36msurprise.prediction_algorithms.matrix_factorization.SVD.sgd\u001b[0;34m()\u001b[0m\n",
            "\u001b[0;31mAttributeError\u001b[0m: 'DatasetAutoFolds' object has no attribute 'n_users'"
          ]
        }
      ]
    },
    {
      "cell_type": "code",
      "source": [
        "from surprise.dataset import DatasetAutoFolds\n",
        "\n",
        "reader = Reader(line_format='user item rating timestamp', sep=',', rating_scale=(0.5, 5))\n",
        "# DatasetAutoFolds 클래스를 ratings_noh.csv 파일 기반으로 생성\n",
        "data_folds = DatasetAutoFolds(ratings_file='/content/drive/MyDrive/Colab Notebooks/data/ratings_noh.csv', reader=reader)\n",
        "\n",
        "# 전체 데이터를 학습 데이터로 생성함\n",
        "trainset = data_folds.build_full_trainset()"
      ],
      "metadata": {
        "id": "8yBC0DS-DV5y"
      },
      "execution_count": 22,
      "outputs": []
    },
    {
      "cell_type": "code",
      "source": [
        "# 학습 수행\n",
        "algo = SVD(n_epochs=20, n_factors=50, random_state=0)\n",
        "algo.fit(trainset)"
      ],
      "metadata": {
        "colab": {
          "base_uri": "https://localhost:8080/"
        },
        "id": "vAaokdjrE33I",
        "outputId": "2fb037fc-963b-4ff4-ba7d-f158711a5f21"
      },
      "execution_count": 23,
      "outputs": [
        {
          "output_type": "execute_result",
          "data": {
            "text/plain": [
              "<surprise.prediction_algorithms.matrix_factorization.SVD at 0x7b8209d8dca0>"
            ]
          },
          "metadata": {},
          "execution_count": 23
        }
      ]
    },
    {
      "cell_type": "code",
      "source": [
        "# 영화에 대한 상세 속성 정보 DataFrame 로딩\n",
        "movies = pd.read_csv('/content/drive/MyDrive/Colab Notebooks/data/movies.csv')\n",
        "\n",
        "# userId=9의 movieID 데이터를 추출해 movieI=42 데이터가 있는지 확인.\n",
        "movieIds = ratings[ratings['userId']==9]['movieId']\n",
        "if movieIds[movieIds==42].count()==0:\n",
        "  print('사용자 아이디 9는 영화 아이디 42의 평점 없음')\n",
        "\n",
        "print(movies[movies['movieId']==42])"
      ],
      "metadata": {
        "colab": {
          "base_uri": "https://localhost:8080/"
        },
        "id": "Be1tiDw9E78H",
        "outputId": "9ffbcc0c-58a7-4b31-ec0e-5b40a7012ffd"
      },
      "execution_count": 25,
      "outputs": [
        {
          "output_type": "stream",
          "name": "stdout",
          "text": [
            "사용자 아이디 9는 영화 아이디 42의 평점 없음\n",
            "    movieId                   title              genres\n",
            "38       42  Dead Presidents (1995)  Action|Crime|Drama\n"
          ]
        }
      ]
    },
    {
      "cell_type": "code",
      "source": [
        "uid = str(9)\n",
        "iid = str(42)\n",
        "\n",
        "pred = algo.predict(uid, iid, verbose=True)"
      ],
      "metadata": {
        "colab": {
          "base_uri": "https://localhost:8080/"
        },
        "id": "cKuFFij3FVOW",
        "outputId": "ef39d5f7-2842-4a66-b624-a9d0aa39fb02"
      },
      "execution_count": 26,
      "outputs": [
        {
          "output_type": "stream",
          "name": "stdout",
          "text": [
            "user: 9          item: 42         r_ui = None   est = 3.10   {'was_impossible': False}\n"
          ]
        }
      ]
    },
    {
      "cell_type": "code",
      "source": [
        "def get_unseen_surprise(ratings, movies, userId):\n",
        "  #입력값으로 들어온 userId에 해당하는 사용자가 평점을 매긴 모든 영화를 리스트로 생성\n",
        "  seen_movies = ratings[ratings['userId']==userId]['movieId'].tolist()\n",
        "\n",
        "  # 모든 영화의 moiveId를 리스트로 생성\n",
        "  total_movies = movies['movieId'].tolist()\n",
        "\n",
        "  # 모든 영화의 movieId 중 이미 평점을 매긴 영화의 movieId를 제외한 후 리스트로 생성\n",
        "  unseen_movies = [movie for movie in total_movies if movie not in seen_movies]\n",
        "  print('평점 매긴 영화 수: ', len(seen_movies), '추천 대상 영화 수: ', len(unseen_movies),\n",
        "        '전체 영화 수: ', len(total_movies))\n",
        "\n",
        "  return unseen_movies\n",
        "\n",
        "unseen_movies = get_unseen_surprise(ratings, movies, 9)"
      ],
      "metadata": {
        "colab": {
          "base_uri": "https://localhost:8080/"
        },
        "id": "JkZnjvQDFjKI",
        "outputId": "6248c439-7a80-45c4-ca83-54db3905192a"
      },
      "execution_count": 27,
      "outputs": [
        {
          "output_type": "stream",
          "name": "stdout",
          "text": [
            "평점 매긴 영화 수:  46 추천 대상 영화 수:  9696 전체 영화 수:  9742\n"
          ]
        }
      ]
    },
    {
      "cell_type": "code",
      "source": [
        "def recomm_movie_by_surprise(algo, userId, unseen_movies, top_n=10):\n",
        "\n",
        "  # 알고리즘 객체의 predict()매서드를 평점이 없는 영화에 반복 수행 후 결과를 list 객체로 저장\n",
        "  predictions = [algo.predict(str(userId), str(movieId)) for movieId in unseen_movies]\n",
        "\n",
        "  # predictions list 객체는 surprise의 Predictions 객체를 원소로 가지고 있음.\n",
        "  # [Prediction(uid='9', iid='1', est=3.69), Predcition(uid='9',iid='2',est=2.98),,,,]\n",
        "\n",
        "  # 이를 est 값으로 정렬하기 위해 아래의 sortkey_est 함수를 정의\n",
        "  # sortkey_est 함수는 list 객체의 sort()함수의 키 값으로 사용되어 정렬 수행\n",
        "  def sortkey_est(pred):\n",
        "    return pred.est\n",
        "\n",
        "  # sortkey_est() 반환값의 내림 차순으로 정렬 수행하고 top_n개의 최상위 값 추출\n",
        "  predictions.sort(key=sortkey_est, reverse=True)\n",
        "  top_predictions = predictions[:top_n]\n",
        "\n",
        "  # top_n으로 추출된 영화의 정보 추출. 영화 아이디, 추천 예상 평점, 제목 추출\n",
        "  top_movie_ids = [int(pred.iid) for pred in top_predictions]\n",
        "  top_movie_rating = [pred.est for pred in top_predictions]\n",
        "  top_movie_titles = movies[movies.movieId.isin(top_movie_ids)]['title']\n",
        "\n",
        "  top_movie_preds = [(id, title, rating) for id, title, rating in zip(top_movie_ids, top_movie_titles, top_movie_rating)]\n",
        "\n",
        "  return top_movie_preds\n",
        "\n",
        "unseen_movies = get_unseen_surprise(ratings, movies, 9)\n",
        "top_movie_preds = recomm_movie_by_surprise(algo, 9, unseen_movies, top_n=10)\n",
        "\n",
        "print('##### Top-10 추천 영화 리스트 #####')\n",
        "\n",
        "for top_movie in top_movie_preds:\n",
        "  print(top_movie[1], ':', top_movie[2])"
      ],
      "metadata": {
        "colab": {
          "base_uri": "https://localhost:8080/"
        },
        "id": "3y-De_AWF2F-",
        "outputId": "3d1a611e-03d5-45a5-b466-b686a72e33f8"
      },
      "execution_count": 28,
      "outputs": [
        {
          "output_type": "stream",
          "name": "stdout",
          "text": [
            "평점 매긴 영화 수:  46 추천 대상 영화 수:  9696 전체 영화 수:  9742\n",
            "##### Top-10 추천 영화 리스트 #####\n",
            "Usual Suspects, The (1995) : 4.2267942523743605\n",
            "Star Wars: Episode IV - A New Hope (1977) : 4.211016328181448\n",
            "Shawshank Redemption, The (1994) : 4.197037380337041\n",
            "Dr. Strangelove or: How I Learned to Stop Worrying and Love the Bomb (1964) : 4.142771982890766\n",
            "Godfather, The (1972) : 4.136604760890598\n",
            "Reservoir Dogs (1992) : 4.124673084995863\n",
            "Streetcar Named Desire, A (1951) : 4.120523998974084\n",
            "Goodfellas (1990) : 4.069435046627849\n",
            "Glory (1989) : 4.067497992056492\n",
            "All the President's Men (1976) : 4.062778702133245\n"
          ]
        }
      ]
    }
  ]
}