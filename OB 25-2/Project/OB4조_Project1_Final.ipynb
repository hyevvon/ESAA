{
  "nbformat": 4,
  "nbformat_minor": 0,
  "metadata": {
    "colab": {
      "provenance": [],
      "gpuType": "T4",
      "collapsed_sections": [
        "5qeD_DtzaQXd",
        "qOxHwtqFw5yn",
        "5mYiA5vSq1oX",
        "mau8GxwJ4PoA",
        "FBHTnu_m4-VY"
      ]
    },
    "kernelspec": {
      "name": "python3",
      "display_name": "Python 3"
    },
    "language_info": {
      "name": "python"
    },
    "accelerator": "GPU"
  },
  "cells": [
    {
      "cell_type": "markdown",
      "source": [
        "# < 데이콘 x BDA 학습자 수료 예측 AI 경진대회 >\n",
        "\n",
        "## [주제]\n",
        "학습자의 수료 여부를 예측하는 AI 알고리즘 개발\n",
        "\n",
        "\n",
        "## [설명]\n",
        "BDA 8기 학습자 데이터를 분석하여 9기 학습자의 수료 여부를 예측하는 AI 알고리즘 개발\n",
        "\n",
        "## [링크]\n",
        "https://dacon.io/competitions/official/236519/overview/description\n",
        "\n"
      ],
      "metadata": {
        "id": "-W2q3SMylrT2"
      }
    },
    {
      "cell_type": "markdown",
      "source": [
        "# 1. 데이터 불러오기\n",
        "\n"
      ],
      "metadata": {
        "id": "5qeD_DtzaQXd"
      }
    },
    {
      "cell_type": "code",
      "execution_count": null,
      "metadata": {
        "id": "WPsJqu_hB0kp"
      },
      "outputs": [],
      "source": [
        "import pandas as pd\n",
        "import numpy as np\n",
        "import matplotlib.pyplot as plt\n",
        "import seaborn as sns\n",
        "from warnings import filterwarnings\n",
        "filterwarnings('ignore')"
      ]
    },
    {
      "cell_type": "code",
      "source": [
        "#from google.colab import drive\n",
        "#drive.mount('/content/drive')"
      ],
      "metadata": {
        "id": "Y1wZ8f_3vqW_"
      },
      "execution_count": null,
      "outputs": []
    },
    {
      "cell_type": "code",
      "source": [
        "#train = pd.read_csv('/content/drive/MyDrive/Colab Notebooks/학습자수요예측data/train.csv')\n",
        "#test = pd.read_csv('/content/drive/MyDrive/Colab Notebooks/학습자수요예측data/test.csv')\n",
        "#sample_submission = pd.read_csv('/content/drive/MyDrive/Colab Notebooks/학습자수요예측data/sample_submission.csv')"
      ],
      "metadata": {
        "id": "rLC9b7SAvqZL"
      },
      "execution_count": null,
      "outputs": []
    },
    {
      "cell_type": "code",
      "source": [
        "train=pd.read_csv('train.csv')\n",
        "test=pd.read_csv('test.csv')\n",
        "sample_submission=pd.read_csv('sample_submission.csv')"
      ],
      "metadata": {
        "id": "50-g7k4jrhKL"
      },
      "execution_count": null,
      "outputs": []
    },
    {
      "cell_type": "markdown",
      "source": [
        "# 2. 데이터 탐색"
      ],
      "metadata": {
        "id": "qOxHwtqFw5yn"
      }
    },
    {
      "cell_type": "code",
      "source": [
        "train.head()"
      ],
      "metadata": {
        "colab": {
          "base_uri": "https://localhost:8080/",
          "height": 491
        },
        "id": "4Efdg05fmxcd",
        "outputId": "ea19bb0a-bce9-435c-f801-2599977f5456"
      },
      "execution_count": null,
      "outputs": [
        {
          "output_type": "execute_result",
          "data": {
            "text/plain": [
              "           ID  generation                                            school1  \\\n",
              "0  TRAIN_0000           8  3e0057be3ecde495d1d6aab0bdc3092cce94440a6a4f68...   \n",
              "1  TRAIN_0001           8  c7c76d1a4c9d719d17c899a3ca9de153452a22163fe083...   \n",
              "2  TRAIN_0002           8  1ed9296bd2a05ea36fabb5171a003b7320bb21a53d6135...   \n",
              "3  TRAIN_0003           8  5ec50ef5a0c0416652f8d67a89ef4c02eb0c6a61b5d0a8...   \n",
              "4  TRAIN_0004           8  c7c76d1a4c9d719d17c899a3ca9de153452a22163fe083...   \n",
              "\n",
              "                major type       major1_1       major1_2  major_data  job  \\\n",
              "0                    단일 전공  IT(컴퓨터 공학 포함)            NaN       False  대학생   \n",
              "1  복수 전공 ( 다중전공, 이중전공 포함 )  IT(컴퓨터 공학 포함)  IT(컴퓨터 공학 포함)       False  대학생   \n",
              "2                    단일 전공  IT(컴퓨터 공학 포함)            NaN        True  대학생   \n",
              "3                    단일 전공  IT(컴퓨터 공학 포함)            NaN        True  대학생   \n",
              "4  복수 전공 ( 다중전공, 이중전공 포함 )  IT(컴퓨터 공학 포함)  IT(컴퓨터 공학 포함)       False  대학생   \n",
              "\n",
              "   class1  class2  ...   incumbents_company_level  incumbents_lecture_type  \\\n",
              "0       4     NaN  ...  국내 대기업 IT 계열 (금융, 제조 ...)                온,오프라인 동시   \n",
              "1       4     NaN  ...     국내 빅테크 IT 계열 (네카쿠라배당토)                온,오프라인 동시   \n",
              "2       4     NaN  ...  국내 대기업 IT 계열 (금융, 제조 ...)                온,오프라인 동시   \n",
              "3       7     NaN  ...     국내 빅테크 IT 계열 (네카쿠라배당토)                온,오프라인 동시   \n",
              "4       7     NaN  ...  국내 대기업 IT 계열 (금융, 제조 ...)                     오프라인   \n",
              "\n",
              "    incumbents_lecture_scale           incumbents_lecture_scale_reason  \\\n",
              "0  3~50명 내외의 강의 리스너와 1명의 현직자                인원이 너무 많지 않아야 편하게 들을 수 있어서   \n",
              "1    10명 내외의 강의 리스너와 1명의 현직자                인원이 적어야 집중할 수 있고 질문 하기 쉽다.   \n",
              "2  3~50명 내외의 강의 리스너와 1명의 현직자  너무 소수인원은 조금 부담스럽고 너무 많은 인원은 집중도가 떨어질거같아서   \n",
              "3  3~50명 내외의 강의 리스너와 1명의 현직자          너무 많은 인원이 있을 경우 집중도가 떨어질 거 같습니다.   \n",
              "4  100명 이상의 리스너와 10명 이상의 현직자                      많은 현직자분들의 이야기를 듣고싶어서   \n",
              "\n",
              "  interested_company expected_domain  \\\n",
              "0          삼성이나 하이닉스              AI   \n",
              "1                네이버              AI   \n",
              "2           스포츠분석 기업              AI   \n",
              "3                 토스              AI   \n",
              "4            네이버 카카오              금융   \n",
              "\n",
              "                             contest_participitation idea_contest  \\\n",
              "0                                                NaN          NaN   \n",
              "1                                                NaN          NaN   \n",
              "2  139ac02d03d83f839197195e65bc1810ef5282ade32d80...          NaN   \n",
              "3                                                NaN          NaN   \n",
              "4                                                NaN          NaN   \n",
              "\n",
              "  onedayclass_topic withdrawal  \n",
              "0            C++ 응용          1  \n",
              "1                 .          1  \n",
              "2            C언어 기초          1  \n",
              "3         현직자의 취업과정          0  \n",
              "4               C언어          1  \n",
              "\n",
              "[5 rows x 46 columns]"
            ],
            "text/html": [
              "\n",
              "  <div id=\"df-f7cfd3dd-c2bc-48a2-b169-8f368b075987\" class=\"colab-df-container\">\n",
              "    <div>\n",
              "<style scoped>\n",
              "    .dataframe tbody tr th:only-of-type {\n",
              "        vertical-align: middle;\n",
              "    }\n",
              "\n",
              "    .dataframe tbody tr th {\n",
              "        vertical-align: top;\n",
              "    }\n",
              "\n",
              "    .dataframe thead th {\n",
              "        text-align: right;\n",
              "    }\n",
              "</style>\n",
              "<table border=\"1\" class=\"dataframe\">\n",
              "  <thead>\n",
              "    <tr style=\"text-align: right;\">\n",
              "      <th></th>\n",
              "      <th>ID</th>\n",
              "      <th>generation</th>\n",
              "      <th>school1</th>\n",
              "      <th>major type</th>\n",
              "      <th>major1_1</th>\n",
              "      <th>major1_2</th>\n",
              "      <th>major_data</th>\n",
              "      <th>job</th>\n",
              "      <th>class1</th>\n",
              "      <th>class2</th>\n",
              "      <th>...</th>\n",
              "      <th>incumbents_company_level</th>\n",
              "      <th>incumbents_lecture_type</th>\n",
              "      <th>incumbents_lecture_scale</th>\n",
              "      <th>incumbents_lecture_scale_reason</th>\n",
              "      <th>interested_company</th>\n",
              "      <th>expected_domain</th>\n",
              "      <th>contest_participitation</th>\n",
              "      <th>idea_contest</th>\n",
              "      <th>onedayclass_topic</th>\n",
              "      <th>withdrawal</th>\n",
              "    </tr>\n",
              "  </thead>\n",
              "  <tbody>\n",
              "    <tr>\n",
              "      <th>0</th>\n",
              "      <td>TRAIN_0000</td>\n",
              "      <td>8</td>\n",
              "      <td>3e0057be3ecde495d1d6aab0bdc3092cce94440a6a4f68...</td>\n",
              "      <td>단일 전공</td>\n",
              "      <td>IT(컴퓨터 공학 포함)</td>\n",
              "      <td>NaN</td>\n",
              "      <td>False</td>\n",
              "      <td>대학생</td>\n",
              "      <td>4</td>\n",
              "      <td>NaN</td>\n",
              "      <td>...</td>\n",
              "      <td>국내 대기업 IT 계열 (금융, 제조 ...)</td>\n",
              "      <td>온,오프라인 동시</td>\n",
              "      <td>3~50명 내외의 강의 리스너와 1명의 현직자</td>\n",
              "      <td>인원이 너무 많지 않아야 편하게 들을 수 있어서</td>\n",
              "      <td>삼성이나 하이닉스</td>\n",
              "      <td>AI</td>\n",
              "      <td>NaN</td>\n",
              "      <td>NaN</td>\n",
              "      <td>C++ 응용</td>\n",
              "      <td>1</td>\n",
              "    </tr>\n",
              "    <tr>\n",
              "      <th>1</th>\n",
              "      <td>TRAIN_0001</td>\n",
              "      <td>8</td>\n",
              "      <td>c7c76d1a4c9d719d17c899a3ca9de153452a22163fe083...</td>\n",
              "      <td>복수 전공 ( 다중전공, 이중전공 포함 )</td>\n",
              "      <td>IT(컴퓨터 공학 포함)</td>\n",
              "      <td>IT(컴퓨터 공학 포함)</td>\n",
              "      <td>False</td>\n",
              "      <td>대학생</td>\n",
              "      <td>4</td>\n",
              "      <td>NaN</td>\n",
              "      <td>...</td>\n",
              "      <td>국내 빅테크 IT 계열 (네카쿠라배당토)</td>\n",
              "      <td>온,오프라인 동시</td>\n",
              "      <td>10명 내외의 강의 리스너와 1명의 현직자</td>\n",
              "      <td>인원이 적어야 집중할 수 있고 질문 하기 쉽다.</td>\n",
              "      <td>네이버</td>\n",
              "      <td>AI</td>\n",
              "      <td>NaN</td>\n",
              "      <td>NaN</td>\n",
              "      <td>.</td>\n",
              "      <td>1</td>\n",
              "    </tr>\n",
              "    <tr>\n",
              "      <th>2</th>\n",
              "      <td>TRAIN_0002</td>\n",
              "      <td>8</td>\n",
              "      <td>1ed9296bd2a05ea36fabb5171a003b7320bb21a53d6135...</td>\n",
              "      <td>단일 전공</td>\n",
              "      <td>IT(컴퓨터 공학 포함)</td>\n",
              "      <td>NaN</td>\n",
              "      <td>True</td>\n",
              "      <td>대학생</td>\n",
              "      <td>4</td>\n",
              "      <td>NaN</td>\n",
              "      <td>...</td>\n",
              "      <td>국내 대기업 IT 계열 (금융, 제조 ...)</td>\n",
              "      <td>온,오프라인 동시</td>\n",
              "      <td>3~50명 내외의 강의 리스너와 1명의 현직자</td>\n",
              "      <td>너무 소수인원은 조금 부담스럽고 너무 많은 인원은 집중도가 떨어질거같아서</td>\n",
              "      <td>스포츠분석 기업</td>\n",
              "      <td>AI</td>\n",
              "      <td>139ac02d03d83f839197195e65bc1810ef5282ade32d80...</td>\n",
              "      <td>NaN</td>\n",
              "      <td>C언어 기초</td>\n",
              "      <td>1</td>\n",
              "    </tr>\n",
              "    <tr>\n",
              "      <th>3</th>\n",
              "      <td>TRAIN_0003</td>\n",
              "      <td>8</td>\n",
              "      <td>5ec50ef5a0c0416652f8d67a89ef4c02eb0c6a61b5d0a8...</td>\n",
              "      <td>단일 전공</td>\n",
              "      <td>IT(컴퓨터 공학 포함)</td>\n",
              "      <td>NaN</td>\n",
              "      <td>True</td>\n",
              "      <td>대학생</td>\n",
              "      <td>7</td>\n",
              "      <td>NaN</td>\n",
              "      <td>...</td>\n",
              "      <td>국내 빅테크 IT 계열 (네카쿠라배당토)</td>\n",
              "      <td>온,오프라인 동시</td>\n",
              "      <td>3~50명 내외의 강의 리스너와 1명의 현직자</td>\n",
              "      <td>너무 많은 인원이 있을 경우 집중도가 떨어질 거 같습니다.</td>\n",
              "      <td>토스</td>\n",
              "      <td>AI</td>\n",
              "      <td>NaN</td>\n",
              "      <td>NaN</td>\n",
              "      <td>현직자의 취업과정</td>\n",
              "      <td>0</td>\n",
              "    </tr>\n",
              "    <tr>\n",
              "      <th>4</th>\n",
              "      <td>TRAIN_0004</td>\n",
              "      <td>8</td>\n",
              "      <td>c7c76d1a4c9d719d17c899a3ca9de153452a22163fe083...</td>\n",
              "      <td>복수 전공 ( 다중전공, 이중전공 포함 )</td>\n",
              "      <td>IT(컴퓨터 공학 포함)</td>\n",
              "      <td>IT(컴퓨터 공학 포함)</td>\n",
              "      <td>False</td>\n",
              "      <td>대학생</td>\n",
              "      <td>7</td>\n",
              "      <td>NaN</td>\n",
              "      <td>...</td>\n",
              "      <td>국내 대기업 IT 계열 (금융, 제조 ...)</td>\n",
              "      <td>오프라인</td>\n",
              "      <td>100명 이상의 리스너와 10명 이상의 현직자</td>\n",
              "      <td>많은 현직자분들의 이야기를 듣고싶어서</td>\n",
              "      <td>네이버 카카오</td>\n",
              "      <td>금융</td>\n",
              "      <td>NaN</td>\n",
              "      <td>NaN</td>\n",
              "      <td>C언어</td>\n",
              "      <td>1</td>\n",
              "    </tr>\n",
              "  </tbody>\n",
              "</table>\n",
              "<p>5 rows × 46 columns</p>\n",
              "</div>\n",
              "    <div class=\"colab-df-buttons\">\n",
              "\n",
              "  <div class=\"colab-df-container\">\n",
              "    <button class=\"colab-df-convert\" onclick=\"convertToInteractive('df-f7cfd3dd-c2bc-48a2-b169-8f368b075987')\"\n",
              "            title=\"Convert this dataframe to an interactive table.\"\n",
              "            style=\"display:none;\">\n",
              "\n",
              "  <svg xmlns=\"http://www.w3.org/2000/svg\" height=\"24px\" viewBox=\"0 -960 960 960\">\n",
              "    <path d=\"M120-120v-720h720v720H120Zm60-500h600v-160H180v160Zm220 220h160v-160H400v160Zm0 220h160v-160H400v160ZM180-400h160v-160H180v160Zm440 0h160v-160H620v160ZM180-180h160v-160H180v160Zm440 0h160v-160H620v160Z\"/>\n",
              "  </svg>\n",
              "    </button>\n",
              "\n",
              "  <style>\n",
              "    .colab-df-container {\n",
              "      display:flex;\n",
              "      gap: 12px;\n",
              "    }\n",
              "\n",
              "    .colab-df-convert {\n",
              "      background-color: #E8F0FE;\n",
              "      border: none;\n",
              "      border-radius: 50%;\n",
              "      cursor: pointer;\n",
              "      display: none;\n",
              "      fill: #1967D2;\n",
              "      height: 32px;\n",
              "      padding: 0 0 0 0;\n",
              "      width: 32px;\n",
              "    }\n",
              "\n",
              "    .colab-df-convert:hover {\n",
              "      background-color: #E2EBFA;\n",
              "      box-shadow: 0px 1px 2px rgba(60, 64, 67, 0.3), 0px 1px 3px 1px rgba(60, 64, 67, 0.15);\n",
              "      fill: #174EA6;\n",
              "    }\n",
              "\n",
              "    .colab-df-buttons div {\n",
              "      margin-bottom: 4px;\n",
              "    }\n",
              "\n",
              "    [theme=dark] .colab-df-convert {\n",
              "      background-color: #3B4455;\n",
              "      fill: #D2E3FC;\n",
              "    }\n",
              "\n",
              "    [theme=dark] .colab-df-convert:hover {\n",
              "      background-color: #434B5C;\n",
              "      box-shadow: 0px 1px 3px 1px rgba(0, 0, 0, 0.15);\n",
              "      filter: drop-shadow(0px 1px 2px rgba(0, 0, 0, 0.3));\n",
              "      fill: #FFFFFF;\n",
              "    }\n",
              "  </style>\n",
              "\n",
              "    <script>\n",
              "      const buttonEl =\n",
              "        document.querySelector('#df-f7cfd3dd-c2bc-48a2-b169-8f368b075987 button.colab-df-convert');\n",
              "      buttonEl.style.display =\n",
              "        google.colab.kernel.accessAllowed ? 'block' : 'none';\n",
              "\n",
              "      async function convertToInteractive(key) {\n",
              "        const element = document.querySelector('#df-f7cfd3dd-c2bc-48a2-b169-8f368b075987');\n",
              "        const dataTable =\n",
              "          await google.colab.kernel.invokeFunction('convertToInteractive',\n",
              "                                                    [key], {});\n",
              "        if (!dataTable) return;\n",
              "\n",
              "        const docLinkHtml = 'Like what you see? Visit the ' +\n",
              "          '<a target=\"_blank\" href=https://colab.research.google.com/notebooks/data_table.ipynb>data table notebook</a>'\n",
              "          + ' to learn more about interactive tables.';\n",
              "        element.innerHTML = '';\n",
              "        dataTable['output_type'] = 'display_data';\n",
              "        await google.colab.output.renderOutput(dataTable, element);\n",
              "        const docLink = document.createElement('div');\n",
              "        docLink.innerHTML = docLinkHtml;\n",
              "        element.appendChild(docLink);\n",
              "      }\n",
              "    </script>\n",
              "  </div>\n",
              "\n",
              "\n",
              "    <div id=\"df-503df0bd-f40b-4d50-9862-1780afb914e0\">\n",
              "      <button class=\"colab-df-quickchart\" onclick=\"quickchart('df-503df0bd-f40b-4d50-9862-1780afb914e0')\"\n",
              "                title=\"Suggest charts\"\n",
              "                style=\"display:none;\">\n",
              "\n",
              "<svg xmlns=\"http://www.w3.org/2000/svg\" height=\"24px\"viewBox=\"0 0 24 24\"\n",
              "     width=\"24px\">\n",
              "    <g>\n",
              "        <path d=\"M19 3H5c-1.1 0-2 .9-2 2v14c0 1.1.9 2 2 2h14c1.1 0 2-.9 2-2V5c0-1.1-.9-2-2-2zM9 17H7v-7h2v7zm4 0h-2V7h2v10zm4 0h-2v-4h2v4z\"/>\n",
              "    </g>\n",
              "</svg>\n",
              "      </button>\n",
              "\n",
              "<style>\n",
              "  .colab-df-quickchart {\n",
              "      --bg-color: #E8F0FE;\n",
              "      --fill-color: #1967D2;\n",
              "      --hover-bg-color: #E2EBFA;\n",
              "      --hover-fill-color: #174EA6;\n",
              "      --disabled-fill-color: #AAA;\n",
              "      --disabled-bg-color: #DDD;\n",
              "  }\n",
              "\n",
              "  [theme=dark] .colab-df-quickchart {\n",
              "      --bg-color: #3B4455;\n",
              "      --fill-color: #D2E3FC;\n",
              "      --hover-bg-color: #434B5C;\n",
              "      --hover-fill-color: #FFFFFF;\n",
              "      --disabled-bg-color: #3B4455;\n",
              "      --disabled-fill-color: #666;\n",
              "  }\n",
              "\n",
              "  .colab-df-quickchart {\n",
              "    background-color: var(--bg-color);\n",
              "    border: none;\n",
              "    border-radius: 50%;\n",
              "    cursor: pointer;\n",
              "    display: none;\n",
              "    fill: var(--fill-color);\n",
              "    height: 32px;\n",
              "    padding: 0;\n",
              "    width: 32px;\n",
              "  }\n",
              "\n",
              "  .colab-df-quickchart:hover {\n",
              "    background-color: var(--hover-bg-color);\n",
              "    box-shadow: 0 1px 2px rgba(60, 64, 67, 0.3), 0 1px 3px 1px rgba(60, 64, 67, 0.15);\n",
              "    fill: var(--button-hover-fill-color);\n",
              "  }\n",
              "\n",
              "  .colab-df-quickchart-complete:disabled,\n",
              "  .colab-df-quickchart-complete:disabled:hover {\n",
              "    background-color: var(--disabled-bg-color);\n",
              "    fill: var(--disabled-fill-color);\n",
              "    box-shadow: none;\n",
              "  }\n",
              "\n",
              "  .colab-df-spinner {\n",
              "    border: 2px solid var(--fill-color);\n",
              "    border-color: transparent;\n",
              "    border-bottom-color: var(--fill-color);\n",
              "    animation:\n",
              "      spin 1s steps(1) infinite;\n",
              "  }\n",
              "\n",
              "  @keyframes spin {\n",
              "    0% {\n",
              "      border-color: transparent;\n",
              "      border-bottom-color: var(--fill-color);\n",
              "      border-left-color: var(--fill-color);\n",
              "    }\n",
              "    20% {\n",
              "      border-color: transparent;\n",
              "      border-left-color: var(--fill-color);\n",
              "      border-top-color: var(--fill-color);\n",
              "    }\n",
              "    30% {\n",
              "      border-color: transparent;\n",
              "      border-left-color: var(--fill-color);\n",
              "      border-top-color: var(--fill-color);\n",
              "      border-right-color: var(--fill-color);\n",
              "    }\n",
              "    40% {\n",
              "      border-color: transparent;\n",
              "      border-right-color: var(--fill-color);\n",
              "      border-top-color: var(--fill-color);\n",
              "    }\n",
              "    60% {\n",
              "      border-color: transparent;\n",
              "      border-right-color: var(--fill-color);\n",
              "    }\n",
              "    80% {\n",
              "      border-color: transparent;\n",
              "      border-right-color: var(--fill-color);\n",
              "      border-bottom-color: var(--fill-color);\n",
              "    }\n",
              "    90% {\n",
              "      border-color: transparent;\n",
              "      border-bottom-color: var(--fill-color);\n",
              "    }\n",
              "  }\n",
              "</style>\n",
              "\n",
              "      <script>\n",
              "        async function quickchart(key) {\n",
              "          const quickchartButtonEl =\n",
              "            document.querySelector('#' + key + ' button');\n",
              "          quickchartButtonEl.disabled = true;  // To prevent multiple clicks.\n",
              "          quickchartButtonEl.classList.add('colab-df-spinner');\n",
              "          try {\n",
              "            const charts = await google.colab.kernel.invokeFunction(\n",
              "                'suggestCharts', [key], {});\n",
              "          } catch (error) {\n",
              "            console.error('Error during call to suggestCharts:', error);\n",
              "          }\n",
              "          quickchartButtonEl.classList.remove('colab-df-spinner');\n",
              "          quickchartButtonEl.classList.add('colab-df-quickchart-complete');\n",
              "        }\n",
              "        (() => {\n",
              "          let quickchartButtonEl =\n",
              "            document.querySelector('#df-503df0bd-f40b-4d50-9862-1780afb914e0 button');\n",
              "          quickchartButtonEl.style.display =\n",
              "            google.colab.kernel.accessAllowed ? 'block' : 'none';\n",
              "        })();\n",
              "      </script>\n",
              "    </div>\n",
              "\n",
              "    </div>\n",
              "  </div>\n"
            ],
            "application/vnd.google.colaboratory.intrinsic+json": {
              "type": "dataframe",
              "variable_name": "train"
            }
          },
          "metadata": {},
          "execution_count": 67
        }
      ]
    },
    {
      "cell_type": "code",
      "source": [
        "train.info()"
      ],
      "metadata": {
        "colab": {
          "base_uri": "https://localhost:8080/"
        },
        "id": "A2AVWxGpqlpA",
        "outputId": "24756493-b4dd-4537-cec4-d8db9c03cec7"
      },
      "execution_count": null,
      "outputs": [
        {
          "output_type": "stream",
          "name": "stdout",
          "text": [
            "<class 'pandas.core.frame.DataFrame'>\n",
            "RangeIndex: 1056 entries, 0 to 1055\n",
            "Data columns (total 46 columns):\n",
            " #   Column                           Non-Null Count  Dtype  \n",
            "---  ------                           --------------  -----  \n",
            " 0   ID                               1056 non-null   object \n",
            " 1   generation                       1056 non-null   int64  \n",
            " 2   school1                          1056 non-null   object \n",
            " 3   major type                       1049 non-null   object \n",
            " 4   major1_1                         1051 non-null   object \n",
            " 5   major1_2                         493 non-null    object \n",
            " 6   major_data                       1056 non-null   bool   \n",
            " 7   job                              1056 non-null   object \n",
            " 8   class1                           1056 non-null   int64  \n",
            " 9   class2                           101 non-null    float64\n",
            " 10  class3                           2 non-null      float64\n",
            " 11  class4                           1 non-null      float64\n",
            " 12  re_registration                  1056 non-null   object \n",
            " 13  contest_award                    11 non-null     object \n",
            " 14  nationality                      1056 non-null   object \n",
            " 15  inflow_route                     1056 non-null   object \n",
            " 16  whyBDA                           1056 non-null   object \n",
            " 17  what_to_gain                     1045 non-null   object \n",
            " 18  hope_for_group                   1045 non-null   object \n",
            " 19  previous_class_3                 173 non-null    object \n",
            " 20  previous_class_4                 172 non-null    object \n",
            " 21  previous_class_5                 172 non-null    object \n",
            " 22  previous_class_6                 174 non-null    object \n",
            " 23  previous_class_7                 174 non-null    object \n",
            " 24  major_field                      1048 non-null   object \n",
            " 25  desired_career_path              1045 non-null   object \n",
            " 26  completed_semester               972 non-null    object \n",
            " 27  project_type                     1045 non-null   object \n",
            " 28  time_input                       1056 non-null   float64\n",
            " 29  desired_job                      1045 non-null   object \n",
            " 30  certificate_acquisition          1056 non-null   object \n",
            " 31  desired_certificate              1045 non-null   object \n",
            " 32  certificate_study_period         1045 non-null   object \n",
            " 33  desired_job_except_data          1045 non-null   object \n",
            " 34  incumbents_level                 1045 non-null   object \n",
            " 35  incumbents_lecture               1045 non-null   object \n",
            " 36  incumbents_company_level         1045 non-null   object \n",
            " 37  incumbents_lecture_type          1045 non-null   object \n",
            " 38  incumbents_lecture_scale         1045 non-null   object \n",
            " 39  incumbents_lecture_scale_reason  1044 non-null   object \n",
            " 40  interested_company               1045 non-null   object \n",
            " 41  expected_domain                  1045 non-null   object \n",
            " 42  contest_participitation          194 non-null    object \n",
            " 43  idea_contest                     11 non-null     object \n",
            " 44  onedayclass_topic                1041 non-null   object \n",
            " 45  withdrawal                       1056 non-null   int64  \n",
            "dtypes: bool(1), float64(4), int64(3), object(38)\n",
            "memory usage: 372.4+ KB\n"
          ]
        }
      ]
    },
    {
      "cell_type": "code",
      "source": [
        "# 데이터셋 크기 및 클래스 분포 확인\n",
        "print(train.shape)\n",
        "\n",
        "print(\"클래스별 개수:\")\n",
        "print(train['withdrawal'].value_counts())\n",
        "\n",
        "print(\"클래스별 비율:\")\n",
        "print(train['withdrawal'].value_counts(normalize=True))"
      ],
      "metadata": {
        "colab": {
          "base_uri": "https://localhost:8080/"
        },
        "id": "XwNGWf-mqoPW",
        "outputId": "b42bd280-1533-4107-ab13-f861dbd64548"
      },
      "execution_count": null,
      "outputs": [
        {
          "output_type": "stream",
          "name": "stdout",
          "text": [
            "(1056, 46)\n",
            "클래스별 개수:\n",
            "withdrawal\n",
            "1    730\n",
            "0    326\n",
            "Name: count, dtype: int64\n",
            "클래스별 비율:\n",
            "withdrawal\n",
            "1    0.691288\n",
            "0    0.308712\n",
            "Name: proportion, dtype: float64\n"
          ]
        }
      ]
    },
    {
      "cell_type": "markdown",
      "source": [
        "# 3. 데이터 전처리"
      ],
      "metadata": {
        "id": "5mYiA5vSq1oX"
      }
    },
    {
      "cell_type": "markdown",
      "source": [
        "## (1) 결측치 많은 행 제거"
      ],
      "metadata": {
        "id": "oKVc52LRrgF4"
      }
    },
    {
      "cell_type": "code",
      "source": [
        "# 행별로 결측치 개수 세기\n",
        "row_missing_count = train.isnull().sum(axis=1)\n",
        "\n",
        "# 결측치가 15개 이상인 행만 추출\n",
        "train_missing_rows = train.loc[row_missing_count >= 15, 'ID']\n",
        "\n",
        "print(train_missing_rows)"
      ],
      "metadata": {
        "colab": {
          "base_uri": "https://localhost:8080/"
        },
        "id": "vSMif_IMwzY3",
        "outputId": "fd5cfb52-7037-4a1b-86e2-31be5ec27aa2"
      },
      "execution_count": null,
      "outputs": [
        {
          "output_type": "stream",
          "name": "stdout",
          "text": [
            "60     TRAIN_0060\n",
            "227    TRAIN_0227\n",
            "313    TRAIN_0313\n",
            "390    TRAIN_0390\n",
            "416    TRAIN_0416\n",
            "466    TRAIN_0466\n",
            "522    TRAIN_0522\n",
            "606    TRAIN_0606\n",
            "731    TRAIN_0731\n",
            "781    TRAIN_0781\n",
            "858    TRAIN_0858\n",
            "Name: ID, dtype: object\n"
          ]
        }
      ]
    },
    {
      "cell_type": "code",
      "source": [
        "train = train.drop(train_missing_rows.index, axis=0)"
      ],
      "metadata": {
        "id": "PqUIV3gZwzbM"
      },
      "execution_count": null,
      "outputs": []
    },
    {
      "cell_type": "markdown",
      "source": [
        "## (2) 결측치 많은 칼럼 제거"
      ],
      "metadata": {
        "id": "UL5uAil4rphy"
      }
    },
    {
      "cell_type": "code",
      "source": [
        "missing_ratio = train.isnull().mean()\n",
        "high_missing = missing_ratio[missing_ratio >= 0.8]\n",
        "print(high_missing)"
      ],
      "metadata": {
        "id": "VdpTlcKGxDqt",
        "colab": {
          "base_uri": "https://localhost:8080/"
        },
        "outputId": "f4f3a853-8d6d-4b73-8cae-f92cfa69acbf"
      },
      "execution_count": null,
      "outputs": [
        {
          "output_type": "stream",
          "name": "stdout",
          "text": [
            "class2                     0.905263\n",
            "class3                     0.998086\n",
            "class4                     0.999043\n",
            "contest_award              1.000000\n",
            "previous_class_3           0.835407\n",
            "previous_class_4           0.835407\n",
            "previous_class_5           0.835407\n",
            "previous_class_6           0.835407\n",
            "previous_class_7           0.835407\n",
            "contest_participitation    0.824880\n",
            "idea_contest               1.000000\n",
            "dtype: float64\n"
          ]
        }
      ]
    },
    {
      "cell_type": "code",
      "source": [
        "train = train.drop(['ID', 'generation','class2','class3','class4',\n",
        "                    'previous_class_3','previous_class_4','previous_class_5','previous_class_6','previous_class_7',\n",
        "                    'incumbents_lecture_scale_reason'], axis=1)\n",
        "test = test.drop(['ID', 'generation','class2','class3','class4',\n",
        "                    'previous_class_3','previous_class_4','previous_class_5','previous_class_6','previous_class_7',\n",
        "                    'incumbents_lecture_scale_reason'], axis=1)"
      ],
      "metadata": {
        "id": "NmfA2cS2wzii"
      },
      "execution_count": null,
      "outputs": []
    },
    {
      "cell_type": "markdown",
      "source": [
        "## (3) 수동 매핑"
      ],
      "metadata": {
        "id": "oKVS2xd8yVV2"
      }
    },
    {
      "cell_type": "code",
      "source": [
        "# desired_career_path\n",
        "# 매핑 딕셔너리 정의\n",
        "mapping = {\n",
        "    \"취업\": \"취업\",\n",
        "    \"대학원 진학\": \"대학원 진학\",\n",
        "    \"창업\": \"창업\",\n",
        "    \"미정\": \"미정\",\n",
        "    \"재직중\": \"재직중\",\n",
        "    \"이직\": \"이직\",\n",
        "    \"고시준비\": \"고시준비\",\n",
        "    \"편입\": \"편입\",\n",
        "    \"대학원 진학과 취업 중 고민\": \"미정\",\n",
        "    \"대학원 진학과 취업 중 어느 것을 선택할지 고민중\": \"미정\",\n",
        "    \"대학원 진학과 취업중에 하나를 고민하고 있습니다.\": \"미정\",\n",
        "    \"대학원 진학 혹은 취업\": \"미정\",\n",
        "    \"고민 중\": \"미정\",\n",
        "    \"-\": \"미정\",\n",
        "    \"대학원진학과 취업 둘중 고민입니다.\": \"미정\",\n",
        "    \"대학원과 취업중 고민중입니다\": \"미정\",\n",
        "    \"대학원 혹은 취업\": \"미정\",\n",
        "    \"스타트업 및 중견\": \"취업\",\n",
        "    \"아직 미정\": \"미정\",\n",
        "    \"아직 미정입니다.\": \"미정\",\n",
        "    \"싸피\": \"취업\",\n",
        "    \"아직 정해지지않음\": \"미정\",\n",
        "    \"아직 고민 중..\": \"미정\",\n",
        "    \"아직 확실한 계획이 없습니다.\": \"미정\",\n",
        "    \"취업 또는 대학원 진학\": \"미정\",\n",
        "    \"취업 및 취업 중 특수대학원 계획\": \"미정\",\n",
        "    \"현재 직장인, 추후 대학원 진학 예정\": \"대학원 진학\",\n",
        "}\n",
        "\n",
        "# 매핑 적용\n",
        "train[\"desired_career_path\"] = train[\"desired_career_path\"].map(mapping).fillna(\"unknown\")\n",
        "test[\"desired_career_path\"] = test[\"desired_career_path\"].map(mapping).fillna(\"unknown\")\n"
      ],
      "metadata": {
        "id": "1uw0EHRxsaP4"
      },
      "execution_count": null,
      "outputs": []
    },
    {
      "cell_type": "code",
      "source": [
        "# certificate_acquisition\n",
        "COL = \"certificate_acquisition\"\n",
        "\n",
        "# 매핑 딕셔너리 정의\n",
        "def map_cert(x):\n",
        "    if pd.isna(x):\n",
        "        return \"없음\"\n",
        "    x = str(x).strip()\n",
        "    if x == \"없음\":\n",
        "        return \"없음\"\n",
        "    if \"준비중\" in x:   # 준비중이 들어가면 전부 없음\n",
        "        return \"없음\"\n",
        "    if x == \"기타\":\n",
        "        return \"있음\"\n",
        "    return \"있음\"       # 나머지는 전부 있음\n",
        "\n",
        "# 매핑 적용\n",
        "train[\"certificate_acquisition\"] = train[COL].apply(map_cert)\n",
        "test[\"certificate_acquisition\"]  = test[COL].apply(map_cert)"
      ],
      "metadata": {
        "id": "yOA-qKrZtrtv"
      },
      "execution_count": null,
      "outputs": []
    },
    {
      "cell_type": "code",
      "source": [
        "# incumbents_company_level\n",
        "# 매핑 딕셔너리 정의\n",
        "company_map = {\n",
        "    # 국내 대기업 IT 계열\n",
        "    \"국내 대기업 IT 계열 (금융, 제조 ...)\": \"국내 대기업 IT 계열 (금융, 제조 ...)\",\n",
        "    \"금융권 IT 계열\": \"국내 대기업 IT 계열 (금융, 제조 ...)\",\n",
        "    \"증권사, 자산운용사, 은행, 금융공기업\": \"국내 대기업 IT 계열 (금융, 제조 ...)\",\n",
        "    \"카드사\": \"국내 대기업 IT 계열 (금융, 제조 ...)\",\n",
        "    \"반도체\": \"국내 대기업 IT 계열 (금융, 제조 ...)\",\n",
        "    \"반도체 공정 관련 직업\": \"국내 대기업 IT 계열 (금융, 제조 ...)\",\n",
        "    \"삼성전자 평가및분석 엔지니어 PE팀\": \"국내 대기업 IT 계열 (금융, 제조 ...)\",\n",
        "    \"국내 대기업 데이터 엔지니어\": \"국내 대기업 IT 계열 (금융, 제조 ...)\",\n",
        "    \"식품 유통 기업\": \"국내 대기업 IT 계열 (금융, 제조 ...)\",\n",
        "    \"스포츠 구단\": \"국내 대기업 IT 계열 (금융, 제조 ...)\",\n",
        "    \"관광 분야 데이터 직무\": \"국내 대기업 IT 계열 (금융, 제조 ...)\",\n",
        "\n",
        "    # 국내 빅테크 IT 계열\n",
        "    \"국내 빅테크 IT 계열 (네카쿠라배당토)\": \"국내 빅테크 IT 계열 (네카쿠라배당토)\",\n",
        "    \"문화업계(엔터테이먼트,게임)\": \"국내 빅테크 IT 계열 (네카쿠라배당토)\",\n",
        "\n",
        "    # 해외 기업 (빅테크)\n",
        "    \"해외 기업 (빅테크)\": \"해외 기업 (빅테크)\",\n",
        "    \"해외/국내 퀀트 (Two sigma, Renaissance, de shaw, QuantConnect.. etc)\": \"해외 기업 (빅테크)\",\n",
        "    \"바이오기업\": \"해외 기업 (빅테크)\",\n",
        "    \"바이오 관련 기업\": \"해외 기업 (빅테크)\",\n",
        "\n",
        "    # 스타트업\n",
        "    \"스타트업 C-level\": \"스타트업 C-level\",\n",
        "    \"스타트업 제외\": \"스타트업 C-level\",\n",
        "\n",
        "    # 기타 / 애매\n",
        "    \"모르겠음\": \"unknown\",\n",
        "    \"미정\": \"unknown\",\n",
        "    \"여러 현직자분들의 강연을 들어보고 싶습니다.\": \"unknown\"\n",
        "}\n",
        "\n",
        "# 매핑 적용\n",
        "for df in [train, test]:\n",
        "    df[\"incumbents_company_level\"] = df[\"incumbents_company_level\"].replace(company_map)"
      ],
      "metadata": {
        "id": "fW1VEqlKuI4-"
      },
      "execution_count": null,
      "outputs": []
    },
    {
      "cell_type": "code",
      "source": [
        "# incumbents_lecture_scale\n",
        "# 매핑 딕셔너리 정의\n",
        "mapping_dict = {\n",
        "    '상관없음': '상관없음',\n",
        "    '규모는 상관없습니다.': '상관없음',\n",
        "    '2, 3 선택지 둘 다 괜찮음': '상관없음',\n",
        "    '무관': '상관없음',\n",
        "    '상관 없습니다.': '상관없음',\n",
        "    '선택지 모두 좋다고 생각합니다': '상관없음',\n",
        "    '규모와 상관없이 온라인으로 송출해주었음 좋겠다': '상관없음'\n",
        "}\n",
        "\n",
        "# 매핑 적용\n",
        "for df in [train, test]:\n",
        "    df[\"incumbents_lecture_scale\"] = df[\"incumbents_lecture_scale\"].replace(mapping_dict)"
      ],
      "metadata": {
        "id": "3R6fVihrvLds"
      },
      "execution_count": null,
      "outputs": []
    },
    {
      "cell_type": "code",
      "source": [
        "# completed_semester\n",
        "COL = \"completed_semester\"\n",
        "OUT = \"completed_semester\"   # 결과 컬럼\n",
        "\n",
        "# 문자열로 변환 + 불필요한 '.00' 제거 (예: '6.00' -> '6', '20241.00' -> '20241')\n",
        "s = test[COL].astype(\"string\").str.strip()\n",
        "s_clean = s.str.replace(r\"\\.0+$\", \"\", regex=True)\n",
        "\n",
        "# 졸업연/월/학기 표기(예: 2020, 2020.02, 202406, 20241 등) 먼저 매핑\n",
        "# 시작이 19xx 또는 20xx이고, 뒤에 선택적으로 [.-/]MM 이나 MM(두 자리) 또는 학기 1자리까지 허용\n",
        "grad_pattern = r\"^(19|20)\\d{2}([.\\-/]?\\d{1,2}){0,2}$\"\n",
        "\n",
        "grad_mask = s_clean.str.match(grad_pattern, na=False)\n",
        "\n",
        "test[OUT] = np.nan\n",
        "test.loc[grad_mask, OUT] = \"이수학기 5학기 이상\"\n",
        "\n",
        "# 남은 값들: 숫자(학기 수)로 해석하여 구간 매핑\n",
        "# '6', '8', '4', '11' 등은 숫자로 변환; '2020.02' 등은 이미 grad_mask로 처리됨\n",
        "sem_num = pd.to_numeric(s_clean.where(~grad_mask), errors=\"coerce\")\n",
        "\n",
        "test.loc[sem_num.notna() & (sem_num >= 5), OUT] = \"대학교 이수학기 5학기 이상\"\n",
        "test.loc[sem_num.notna() & (sem_num < 5),  OUT] = \"대학교 이수학기 4학기 이하\"\n",
        "\n",
        "# 확인\n",
        "print(test[OUT].value_counts(dropna=False))"
      ],
      "metadata": {
        "colab": {
          "base_uri": "https://localhost:8080/"
        },
        "id": "k4R_gMV-0uCz",
        "outputId": "e5c32be2-3dbb-4aa7-97c0-3b7951574f5b"
      },
      "execution_count": null,
      "outputs": [
        {
          "output_type": "stream",
          "name": "stdout",
          "text": [
            "completed_semester\n",
            "대학교 이수학기 5학기 이상    571\n",
            "대학교 이수학기 4학기 이하    184\n",
            "NaN                 29\n",
            "이수학기 5학기 이상          4\n",
            "Name: count, dtype: int64\n"
          ]
        }
      ]
    },
    {
      "cell_type": "code",
      "source": [
        "# certificate_study_period\n",
        "# 괄호와 그 안의 내용을 제거\n",
        "train[\"certificate_study_period\"] = train[\"certificate_study_period\"].str.replace(r\"\\(.*\\)\", \"\", regex=True)\n",
        "\n",
        "# 앞뒤 공백 제거\n",
        "train[\"certificate_study_period\"] = train[\"certificate_study_period\"].str.strip()\n",
        "\n",
        "# 확인\n",
        "train[\"certificate_study_period\"].value_counts()\n"
      ],
      "metadata": {
        "colab": {
          "base_uri": "https://localhost:8080/",
          "height": 213
        },
        "id": "P33SFKKw7mJU",
        "outputId": "c4a87a8e-b0f7-4d17-e25a-0dcffcb58fff"
      },
      "execution_count": null,
      "outputs": [
        {
          "output_type": "execute_result",
          "data": {
            "text/plain": [
              "certificate_study_period\n",
              "시험일 전 4주    739\n",
              "접수일 전 4주    306\n",
              "Name: count, dtype: int64"
            ],
            "text/html": [
              "<div>\n",
              "<style scoped>\n",
              "    .dataframe tbody tr th:only-of-type {\n",
              "        vertical-align: middle;\n",
              "    }\n",
              "\n",
              "    .dataframe tbody tr th {\n",
              "        vertical-align: top;\n",
              "    }\n",
              "\n",
              "    .dataframe thead th {\n",
              "        text-align: right;\n",
              "    }\n",
              "</style>\n",
              "<table border=\"1\" class=\"dataframe\">\n",
              "  <thead>\n",
              "    <tr style=\"text-align: right;\">\n",
              "      <th></th>\n",
              "      <th>count</th>\n",
              "    </tr>\n",
              "    <tr>\n",
              "      <th>certificate_study_period</th>\n",
              "      <th></th>\n",
              "    </tr>\n",
              "  </thead>\n",
              "  <tbody>\n",
              "    <tr>\n",
              "      <th>시험일 전 4주</th>\n",
              "      <td>739</td>\n",
              "    </tr>\n",
              "    <tr>\n",
              "      <th>접수일 전 4주</th>\n",
              "      <td>306</td>\n",
              "    </tr>\n",
              "  </tbody>\n",
              "</table>\n",
              "</div><br><label><b>dtype:</b> int64</label>"
            ]
          },
          "metadata": {},
          "execution_count": 79
        }
      ]
    },
    {
      "cell_type": "markdown",
      "source": [
        "## (4) 결측치 채우기"
      ],
      "metadata": {
        "id": "KSUu3fJgsn_g"
      }
    },
    {
      "cell_type": "code",
      "source": [
        "# 최빈값으로\n",
        "cols = [\"major1_1\", \"hope_for_group\", \"desired_job_except_data\"]\n",
        "\n",
        "for col in cols:\n",
        "    mode_value = train[col].mode()[0]   # 최빈값 추출\n",
        "    train[col].fillna(mode_value, inplace=True)\n",
        "    test[col].fillna(mode_value, inplace=True)"
      ],
      "metadata": {
        "id": "ntTX3WSts0Lz"
      },
      "execution_count": null,
      "outputs": []
    },
    {
      "cell_type": "code",
      "source": [
        "# unknown으로\n",
        "cols = [\"major1_2\", \"completed_semester\", \"completed_semester\"]\n",
        "\n",
        "for col in cols:\n",
        "    train[col].fillna(\"unknown\", inplace=True)\n",
        "    test[col].fillna(\"unknown\", inplace=True)"
      ],
      "metadata": {
        "id": "-VnuO1t-x4gZ"
      },
      "execution_count": null,
      "outputs": []
    },
    {
      "cell_type": "markdown",
      "source": [
        "## (5) 라벨 인코딩 & Bull값 인코딩"
      ],
      "metadata": {
        "id": "VCEetaQksru9"
      }
    },
    {
      "cell_type": "code",
      "source": [
        "# 라벨 인코딩\n",
        "from sklearn.preprocessing import LabelEncoder\n",
        "\n",
        "label_cols = ['school1','major type', 'major1_1', 'major1_2', 'job',\n",
        "              'nationality', 'inflow_route', 'whyBDA', 'what_to_gain'\n",
        "              , 'hope_for_group', 'major_field', 'desired_career_path',\n",
        "              'completed_semester', 'project_type', 'desired_job',\n",
        "              'certificate_acquisition', 'desired_certificate', 'certificate_study_period',\n",
        "              'desired_job_except_data', 'incumbents_level', 'incumbents_lecture',\n",
        "              'incumbents_company_level', 'incumbents_lecture_scale',\n",
        "              'interested_company', 'expected_domain', 'contest_participitation',\n",
        "              'idea_contest', 'onedayclass_topic',\n",
        "              're_registration', 'contest_award', 'incumbents_lecture_type'\n",
        "              ]\n",
        "\n",
        "for col in label_cols:\n",
        "    le = LabelEncoder()\n",
        "\n",
        "    # train과 test를 합쳐서 fit (같은 기준으로 인코딩, train에 없는값이 test에 있으므로)\n",
        "    combined = pd.concat([train[col], test[col]], axis=0)\n",
        "    le.fit(combined.astype(str))\n",
        "\n",
        "    # 각각 transform\n",
        "    train[col] = le.transform(train[col].astype(str))\n",
        "    test[col] = le.transform(test[col].astype(str))"
      ],
      "metadata": {
        "id": "ZL62sZ7ByasB"
      },
      "execution_count": null,
      "outputs": []
    },
    {
      "cell_type": "code",
      "source": [
        "# bool값 인코딩\n",
        "train['major_data'] = train['major_data'].astype(int)\n",
        "test['major_data'] = test['major_data'].astype(int)"
      ],
      "metadata": {
        "id": "KMCvAW-O3MUa"
      },
      "execution_count": null,
      "outputs": []
    },
    {
      "cell_type": "markdown",
      "source": [
        "# 4. 모델링\n",
        "\n",
        "- random_state = 42"
      ],
      "metadata": {
        "id": "MV5kGT3K29Hv"
      }
    },
    {
      "cell_type": "markdown",
      "source": [
        "## 4-1. 변수 중요도 확인 - RandomForestClassifier()"
      ],
      "metadata": {
        "id": "mau8GxwJ4PoA"
      }
    },
    {
      "cell_type": "code",
      "source": [
        "from sklearn.inspection import permutation_importance\n",
        "from sklearn.metrics import f1_score\n",
        "from sklearn.ensemble import RandomForestClassifier\n",
        "\n",
        "# 타깃 컬럼 지정\n",
        "target_col = \"withdrawal\"\n",
        "feature_cols = [c for c in train.columns if c != target_col]\n",
        "\n",
        "X_train = train[feature_cols]\n",
        "y_train = train[target_col]\n",
        "\n",
        "# 모델 학습\n",
        "rf = RandomForestClassifier(\n",
        "    n_estimators=500,\n",
        "    max_features=\"sqrt\",\n",
        "    class_weight=\"balanced\",   # 클래스 불균형 고려\n",
        "    n_jobs=-1,\n",
        "    random_state=42\n",
        ")\n",
        "rf.fit(X_train, y_train)\n",
        "\n",
        "# 변수 중요도 (Gini 기반)\n",
        "importances = pd.Series(rf.feature_importances_, index=feature_cols)\\\n",
        "                .sort_values(ascending=False)\n",
        "\n",
        "print(importances)\n",
        "\n",
        "# 시각화 (상위 20개)\n",
        "import matplotlib.pyplot as plt\n",
        "topn = 20\n",
        "importances.head(topn).sort_values().plot.barh(figsize=(6, 8))\n",
        "plt.title(\"RandomForest Feature Importance (Top 20)\")\n",
        "plt.xlabel(\"Importance\")\n",
        "plt.tight_layout()\n",
        "plt.show()"
      ],
      "metadata": {
        "colab": {
          "base_uri": "https://localhost:8080/",
          "height": 684
        },
        "id": "Dy-YDbXo3K5H",
        "outputId": "4fc8853c-b853-4af8-ae4f-42f117847d7e"
      },
      "execution_count": null,
      "outputs": [
        {
          "output_type": "stream",
          "name": "stdout",
          "text": [
            "interested_company          0.074792\n",
            "onedayclass_topic           0.070705\n",
            "school1                     0.068472\n",
            "desired_certificate         0.062385\n",
            "re_registration             0.060357\n",
            "desired_job                 0.047847\n",
            "major_field                 0.047806\n",
            "class1                      0.045162\n",
            "expected_domain             0.044134\n",
            "desired_job_except_data     0.043571\n",
            "inflow_route                0.041931\n",
            "time_input                  0.040581\n",
            "major1_1                    0.031189\n",
            "major1_2                    0.028508\n",
            "whyBDA                      0.028354\n",
            "incumbents_company_level    0.026713\n",
            "what_to_gain                0.023179\n",
            "incumbents_lecture          0.020849\n",
            "incumbents_lecture_scale    0.020801\n",
            "hope_for_group              0.019508\n",
            "contest_participitation     0.019341\n",
            "incumbents_lecture_type     0.018617\n",
            "completed_semester          0.018580\n",
            "desired_career_path         0.015153\n",
            "certificate_acquisition     0.013855\n",
            "incumbents_level            0.013661\n",
            "certificate_study_period    0.012021\n",
            "project_type                0.011786\n",
            "major type                  0.011613\n",
            "major_data                  0.010740\n",
            "job                         0.007224\n",
            "nationality                 0.000567\n",
            "contest_award               0.000000\n",
            "idea_contest                0.000000\n",
            "dtype: float64\n"
          ]
        },
        {
          "output_type": "display_data",
          "data": {
            "text/plain": [
              "<Figure size 600x800 with 1 Axes>"
            ],
            "image/png": "[encoded data removed]"
          },
          "metadata": {}
        }
      ]
    },
    {
      "cell_type": "markdown",
      "source": [
        "## 4-1. 데이터 분할"
      ],
      "metadata": {
        "id": "FBHTnu_m4-VY"
      }
    },
    {
      "cell_type": "code",
      "source": [
        "# 중요도 기준 상위 20개 피처 추출\n",
        "top20_features = importances.head(20).index.tolist()\n",
        "print(\"선택된 피처:\", top20_features)\n",
        "\n",
        "# train, test에서 해당 피처만 사용\n",
        "X_train_top20 = train[top20_features]\n",
        "y_train = train[target_col]\n",
        "\n",
        "X_test = test[top20_features]   # test에도 동일 적용"
      ],
      "metadata": {
        "id": "8ZBe8gdN5ARG",
        "colab": {
          "base_uri": "https://localhost:8080/"
        },
        "outputId": "b99d9a65-7b16-4cde-e64c-63f3012f5a3e"
      },
      "execution_count": null,
      "outputs": [
        {
          "output_type": "stream",
          "name": "stdout",
          "text": [
            "선택된 피처: ['interested_company', 'onedayclass_topic', 'school1', 'desired_certificate', 're_registration', 'desired_job', 'major_field', 'class1', 'expected_domain', 'desired_job_except_data', 'inflow_route', 'time_input', 'major1_1', 'major1_2', 'whyBDA', 'incumbents_company_level', 'what_to_gain', 'incumbents_lecture', 'incumbents_lecture_scale', 'hope_for_group']\n"
          ]
        }
      ]
    },
    {
      "cell_type": "code",
      "source": [
        "# 스케일링(필요시)\n",
        "from sklearn.preprocessing import StandardScaler\n",
        "\n",
        "scaler = StandardScaler()\n",
        "X_train_scaled = scaler.fit_transform(X_train_top20)\n",
        "X_test_scaled = scaler.transform(X_test)"
      ],
      "metadata": {
        "id": "Nve7TfmLJ3cX"
      },
      "execution_count": null,
      "outputs": []
    },
    {
      "cell_type": "code",
      "source": [
        "from sklearn.model_selection import train_test_split\n",
        "\n",
        "# 학습/검증 분리\n",
        "X_train, X_valid, y_train, y_valid = train_test_split(\n",
        "    X_train_top20, y_train, test_size=0.2, random_state=42, stratify=y_train\n",
        "    # 클래스 불균형 고려 stratify\n",
        ")"
      ],
      "metadata": {
        "id": "sVjuBIrm7NBx"
      },
      "execution_count": null,
      "outputs": []
    },
    {
      "cell_type": "markdown",
      "source": [
        "## (1) 단일 모델: CatBoost, LightGBM + cb와 lgbm voting 시도\n",
        "\n",
        "3가지 모델 중 Catboost > Voting(cat, lgbm, xgb) > LGBM > voting(cat, lgbm, logistic) 순으로 리더보드 점수가 좋았음\n",
        "\n",
        "validation으로 확인한 f1-score는 voting, cat, lgbm 순으로 높았음\n",
        "\n",
        "보팅에서 어떤 조합이든 매우 과적합이 발생함\n",
        "\n",
        "catboost는 피처 선별 안 했을 때 public 점수가 잘 나왔음\n",
        "\n"
      ],
      "metadata": {
        "id": "juOdY4IzIKPh"
      }
    },
    {
      "cell_type": "code",
      "source": [
        "!pip install catboost"
      ],
      "metadata": {
        "colab": {
          "base_uri": "https://localhost:8080/"
        },
        "id": "iQyyRFFCzNTT",
        "outputId": "d73df182-b64b-489e-ea6f-d71e35be7d29"
      },
      "execution_count": null,
      "outputs": [
        {
          "output_type": "stream",
          "name": "stdout",
          "text": [
            "Collecting catboost\n",
            "  Downloading catboost-1.2.8-cp312-cp312-manylinux2014_x86_64.whl.metadata (1.2 kB)\n",
            "Requirement already satisfied: graphviz in /usr/local/lib/python3.12/dist-packages (from catboost) (0.21)\n",
            "Requirement already satisfied: matplotlib in /usr/local/lib/python3.12/dist-packages (from catboost) (3.10.0)\n",
            "Requirement already satisfied: numpy<3.0,>=1.16.0 in /usr/local/lib/python3.12/dist-packages (from catboost) (2.0.2)\n",
            "Requirement already satisfied: pandas>=0.24 in /usr/local/lib/python3.12/dist-packages (from catboost) (2.2.2)\n",
            "Requirement already satisfied: scipy in /usr/local/lib/python3.12/dist-packages (from catboost) (1.16.2)\n",
            "Requirement already satisfied: plotly in /usr/local/lib/python3.12/dist-packages (from catboost) (5.24.1)\n",
            "Requirement already satisfied: six in /usr/local/lib/python3.12/dist-packages (from catboost) (1.17.0)\n",
            "Requirement already satisfied: python-dateutil>=2.8.2 in /usr/local/lib/python3.12/dist-packages (from pandas>=0.24->catboost) (2.9.0.post0)\n",
            "Requirement already satisfied: pytz>=2020.1 in /usr/local/lib/python3.12/dist-packages (from pandas>=0.24->catboost) (2025.2)\n",
            "Requirement already satisfied: tzdata>=2022.7 in /usr/local/lib/python3.12/dist-packages (from pandas>=0.24->catboost) (2025.2)\n",
            "Requirement already satisfied: contourpy>=1.0.1 in /usr/local/lib/python3.12/dist-packages (from matplotlib->catboost) (1.3.3)\n",
            "Requirement already satisfied: cycler>=0.10 in /usr/local/lib/python3.12/dist-packages (from matplotlib->catboost) (0.12.1)\n",
            "Requirement already satisfied: fonttools>=4.22.0 in /usr/local/lib/python3.12/dist-packages (from matplotlib->catboost) (4.60.0)\n",
            "Requirement already satisfied: kiwisolver>=1.3.1 in /usr/local/lib/python3.12/dist-packages (from matplotlib->catboost) (1.4.9)\n",
            "Requirement already satisfied: packaging>=20.0 in /usr/local/lib/python3.12/dist-packages (from matplotlib->catboost) (25.0)\n",
            "Requirement already satisfied: pillow>=8 in /usr/local/lib/python3.12/dist-packages (from matplotlib->catboost) (11.3.0)\n",
            "Requirement already satisfied: pyparsing>=2.3.1 in /usr/local/lib/python3.12/dist-packages (from matplotlib->catboost) (3.2.4)\n",
            "Requirement already satisfied: tenacity>=6.2.0 in /usr/local/lib/python3.12/dist-packages (from plotly->catboost) (8.5.0)\n",
            "Downloading catboost-1.2.8-cp312-cp312-manylinux2014_x86_64.whl (99.2 MB)\n",
            "\u001b[2K   \u001b[90m━━━━━━━━━━━━━━━━━━━━━━━━━━━━━━━━━━━━━━━━\u001b[0m \u001b[32m99.2/99.2 MB\u001b[0m \u001b[31m8.3 MB/s\u001b[0m eta \u001b[36m0:00:00\u001b[0m\n",
            "\u001b[?25hInstalling collected packages: catboost\n",
            "Successfully installed catboost-1.2.8\n"
          ]
        }
      ]
    },
    {
      "cell_type": "code",
      "source": [
        "X_train = train.drop(['withdrawal'], axis = 1)\n",
        "y_train = train['withdrawal']"
      ],
      "metadata": {
        "id": "pJdykKyN5SU-"
      },
      "execution_count": null,
      "outputs": []
    },
    {
      "cell_type": "code",
      "source": [
        "X_test = test"
      ],
      "metadata": {
        "id": "AMTLJ8AS5g1w"
      },
      "execution_count": null,
      "outputs": []
    },
    {
      "cell_type": "code",
      "source": [
        "from catboost import CatBoostClassifier, Pool\n",
        "from sklearn.metrics import f1_score, accuracy_score\n",
        "from sklearn.model_selection import StratifiedKFold\n",
        "\n",
        "X_oof = X_train.copy()\n",
        "y_oof = y_train.copy()\n",
        "\n",
        "# 범주형 컬럼 인덱스\n",
        "cat_idx = [X_oof.columns.get_loc(col) for col in label_cols if col in X_oof.columns]\n",
        "\n",
        "# y분포의 불균형을 고려해, stratifiedkfold 사용\n",
        "kf = StratifiedKFold(n_splits=5, shuffle=True, random_state=42)\n",
        "oof_preds = np.zeros(len(X_oof))\n",
        "\n",
        "for fold, (train_idx, val_idx) in enumerate(kf.split(X_oof, y_oof), 1):\n",
        "    print(f\"Fold {fold}\")\n",
        "\n",
        "    X_tr, X_val_fold = X_oof.iloc[train_idx], X_oof.iloc[val_idx]\n",
        "    y_tr, y_val_fold = y_oof.iloc[train_idx], y_oof.iloc[val_idx]\n",
        "\n",
        "    train_pool = Pool(X_tr, y_tr, cat_features=cat_idx)\n",
        "    val_pool   = Pool(X_val_fold, y_val_fold, cat_features=cat_idx)\n",
        "\n",
        "    cb = CatBoostClassifier(\n",
        "        iterations=1500,\n",
        "        learning_rate=0.05,\n",
        "        depth=6,\n",
        "        eval_metric='F1',\n",
        "        random_seed=42,\n",
        "        verbose=100,\n",
        "        grow_policy='Depthwise',\n",
        "        early_stopping_rounds=100\n",
        "        #loss_function = 'Logloss'\n",
        "    )\n",
        "\n",
        "    cb.fit(train_pool, eval_set=val_pool, use_best_model=True)\n",
        "\n",
        "    # 예측\n",
        "    oof_preds[val_idx] = cb.predict(val_pool)\n",
        "\n",
        "# 계산\n",
        "f1 = f1_score(y_oof, oof_preds)\n",
        "print(f\"OOF F1 Score: {f1:.4f}\")\n",
        "\n",
        "accuracy = accuracy_score(y_oof, oof_preds)\n",
        "print(f\"OOF Accuracy Score: {accuracy:.4f}\")"
      ],
      "metadata": {
        "colab": {
          "base_uri": "https://localhost:8080/"
        },
        "id": "af7eJk6l38iC",
        "outputId": "20c5d20e-23e0-4fe4-a749-7c20c8f26ec4"
      },
      "execution_count": null,
      "outputs": [
        {
          "output_type": "stream",
          "name": "stdout",
          "text": [
            "Fold 1\n",
            "0:\tlearn: 0.8131267\ttest: 0.8086643\tbest: 0.8086643 (0)\ttotal: 40.8ms\tremaining: 1m 1s\n",
            "100:\tlearn: 0.8780952\ttest: 0.8100358\tbest: 0.8197880 (62)\ttotal: 1.38s\tremaining: 19.1s\n",
            "Stopped by overfitting detector  (100 iterations wait)\n",
            "\n",
            "bestTest = 0.8197879859\n",
            "bestIteration = 62\n",
            "\n",
            "Shrink model to first 63 iterations.\n",
            "Fold 2\n",
            "0:\tlearn: 0.8200000\ttest: 0.8158845\tbest: 0.8158845 (0)\ttotal: 18.4ms\tremaining: 27.5s\n",
            "100:\tlearn: 0.8842105\ttest: 0.8156028\tbest: 0.8201439 (1)\ttotal: 1.42s\tremaining: 19.7s\n",
            "Stopped by overfitting detector  (100 iterations wait)\n",
            "\n",
            "bestTest = 0.8201438849\n",
            "bestIteration = 1\n",
            "\n",
            "Shrink model to first 2 iterations.\n",
            "Fold 3\n",
            "0:\tlearn: 0.8167442\ttest: 0.7938931\tbest: 0.7938931 (0)\ttotal: 9.34ms\tremaining: 14s\n",
            "100:\tlearn: 0.8842105\ttest: 0.8057554\tbest: 0.8185053 (51)\ttotal: 669ms\tremaining: 9.27s\n",
            "Stopped by overfitting detector  (100 iterations wait)\n",
            "\n",
            "bestTest = 0.8185053381\n",
            "bestIteration = 51\n",
            "\n",
            "Shrink model to first 52 iterations.\n",
            "Fold 4\n",
            "0:\tlearn: 0.8232044\ttest: 0.7925926\tbest: 0.7925926 (0)\ttotal: 10.5ms\tremaining: 15.7s\n",
            "100:\tlearn: 0.8925460\ttest: 0.8028674\tbest: 0.8156028 (6)\ttotal: 689ms\tremaining: 9.54s\n",
            "Stopped by overfitting detector  (100 iterations wait)\n",
            "\n",
            "bestTest = 0.8156028369\n",
            "bestIteration = 6\n",
            "\n",
            "Shrink model to first 7 iterations.\n",
            "Fold 5\n",
            "0:\tlearn: 0.8156028\ttest: 0.8156028\tbest: 0.8156028 (0)\ttotal: 7.34ms\tremaining: 11s\n",
            "100:\tlearn: 0.8746411\ttest: 0.8185053\tbest: 0.8226950 (70)\ttotal: 885ms\tremaining: 12.3s\n",
            "200:\tlearn: 0.9663158\ttest: 0.8231047\tbest: 0.8243728 (169)\ttotal: 2.73s\tremaining: 17.7s\n",
            "300:\tlearn: 0.9903122\ttest: 0.8102190\tbest: 0.8260870 (213)\ttotal: 3.61s\tremaining: 14.4s\n",
            "Stopped by overfitting detector  (100 iterations wait)\n",
            "\n",
            "bestTest = 0.8260869565\n",
            "bestIteration = 213\n",
            "\n",
            "Shrink model to first 214 iterations.\n",
            "OOF F1 Score: 0.8200\n",
            "OOF Accuracy Score: 0.6986\n"
          ]
        }
      ]
    },
    {
      "cell_type": "code",
      "source": [
        "oof_preds[val_idx]"
      ],
      "metadata": {
        "id": "1GBY0bHG_jPM",
        "colab": {
          "base_uri": "https://localhost:8080/"
        },
        "outputId": "8820e96d-8958-4daa-8f2e-5ed96833a8e1"
      },
      "execution_count": null,
      "outputs": [
        {
          "output_type": "execute_result",
          "data": {
            "text/plain": [
              "array([1., 1., 1., 1., 1., 1., 1., 1., 1., 1., 1., 1., 1., 1., 1., 1., 1.,\n",
              "       1., 1., 1., 1., 1., 1., 1., 1., 1., 1., 1., 1., 1., 1., 0., 1., 1.,\n",
              "       1., 1., 1., 1., 1., 1., 1., 1., 1., 1., 1., 0., 1., 1., 1., 1., 1.,\n",
              "       1., 1., 1., 1., 1., 1., 1., 1., 1., 1., 1., 1., 1., 1., 1., 1., 1.,\n",
              "       1., 1., 1., 1., 1., 1., 1., 1., 1., 1., 1., 1., 1., 1., 1., 1., 0.,\n",
              "       1., 1., 1., 1., 1., 1., 1., 1., 0., 1., 1., 1., 1., 1., 1., 1., 1.,\n",
              "       1., 0., 1., 1., 1., 1., 1., 1., 1., 1., 1., 1., 1., 1., 1., 1., 1.,\n",
              "       1., 1., 1., 0., 1., 1., 1., 1., 1., 1., 1., 1., 1., 1., 1., 1., 1.,\n",
              "       1., 1., 1., 1., 1., 1., 1., 1., 1., 1., 1., 1., 1., 1., 1., 1., 1.,\n",
              "       1., 1., 1., 0., 1., 1., 1., 1., 1., 1., 1., 1., 1., 1.])"
            ]
          },
          "metadata": {},
          "execution_count": 90
        }
      ]
    },
    {
      "cell_type": "code",
      "source": [
        "cb_submission = pd.read_csv('sample_submission.csv')\n",
        "\n",
        "test_preds = cb.predict(X_test)\n",
        "\n",
        "cb_submission['withdrawal'] = test_preds\n",
        "\n",
        "cb_submission.to_csv(\"cb_final.csv\", index=False)"
      ],
      "metadata": {
        "id": "g1fp2odeJi7k"
      },
      "execution_count": null,
      "outputs": []
    },
    {
      "cell_type": "markdown",
      "source": [
        "## (2) Stacking\n",
        "\n",
        "최고점수 0.645\n",
        "\n",
        "* 전반적으로 스태킹 조합 성능이 높지 않았음.\n",
        "\n",
        "* 랜덤포레스트 상위20 피처 선택 후, RF + LGBM + SVC → meta: LR 로 조합한 모델."
      ],
      "metadata": {
        "id": "FgTsZ3F2uIhh"
      }
    },
    {
      "cell_type": "code",
      "source": [
        "import numpy as np\n",
        "from sklearn.model_selection import StratifiedKFold\n",
        "from sklearn.linear_model import LogisticRegression\n",
        "from sklearn.ensemble import RandomForestClassifier, GradientBoostingClassifier\n",
        "from sklearn.metrics import accuracy_score\n",
        "from sklearn.preprocessing import StandardScaler\n",
        "from sklearn.svm import SVC\n",
        "from xgboost import XGBClassifier\n",
        "from lightgbm import LGBMClassifier"
      ],
      "metadata": {
        "id": "g39d8HhYyxPI"
      },
      "execution_count": null,
      "outputs": []
    },
    {
      "cell_type": "markdown",
      "source": [
        "* 상위20개 피처만 사용해보기"
      ],
      "metadata": {
        "id": "KFHRhJi4FChu"
      }
    },
    {
      "cell_type": "code",
      "source": [
        "# 전체 unique class 목록 확보\n",
        "classes = sorted(y_train.unique())\n",
        "\n",
        "le = LabelEncoder()\n",
        "y_train_encoded = le.fit_transform(y_train)"
      ],
      "metadata": {
        "id": "ndsUfvMAFEmh"
      },
      "execution_count": null,
      "outputs": []
    },
    {
      "cell_type": "code",
      "source": [
        "from sklearn.model_selection import train_test_split\n",
        "\n",
        "# 학습/검증 분리\n",
        "X_train_20, X_valid_20, y_train_20, y_valid_20 = train_test_split(\n",
        "    X_train_top20, y_train, test_size=0.2, random_state=42, stratify=y\n",
        "    # 클래스 불균형 고려 stratify\n",
        ")"
      ],
      "metadata": {
        "id": "Ns8doYTyFEmi"
      },
      "execution_count": null,
      "outputs": []
    },
    {
      "cell_type": "code",
      "source": [
        "# 피처 스케일링\n",
        "from sklearn.preprocessing import StandardScaler\n",
        "\n",
        "scaler = StandardScaler()\n",
        "X_train_20_scaled = scaler.fit_transform(X_train_20)\n",
        "X_valid_20_scaled = scaler.transform(X_valid_20)\n",
        "X_test_top20_scaled = scaler.transform(X_test_top20)"
      ],
      "metadata": {
        "id": "GfoXtxgxKbak"
      },
      "execution_count": null,
      "outputs": []
    },
    {
      "cell_type": "code",
      "source": [
        "#개별 ML 모델 생성\n",
        "base_rf_3=RandomForestClassifier(random_state=42)\n",
        "base_xgb_3=XGBClassifier(random_state=42)\n",
        "base_lgbm_3=LGBMClassifier(random_state=42,verbose=-1)\n",
        "base_svc_3=SVC(random_state=42)\n",
        "base_lr_3=LogisticRegression(random_state=42)\n",
        "\n",
        "#스태킹으로 만들어진 데이터 세트를 학습, 예측할 최종 모델\n",
        "lr_final_3=LogisticRegression(random_state=42)\n",
        "\n",
        "base_rf_3.fit(X_train_20_scaled, y_train_20)\n",
        "base_xgb_3.fit(X_train_20_scaled, y_train_20)\n",
        "base_lgbm_3.fit(X_train_20_scaled, y_train_20)\n",
        "base_svc_3.fit(X_train_20_scaled, y_train_20)\n",
        "base_lr_3.fit(X_train_20_scaled, y_train_20)"
      ],
      "metadata": {
        "colab": {
          "base_uri": "https://localhost:8080/",
          "height": 80
        },
        "outputId": "29ac19d7-5885-41b7-caf5-70bd3c8ab098",
        "id": "eHdVYGLPFEmi"
      },
      "execution_count": null,
      "outputs": [
        {
          "output_type": "execute_result",
          "data": {
            "text/plain": [
              "LogisticRegression(random_state=42)"
            ],
            "text/html": [
              "<style>#sk-container-id-8 {\n",
              "  /* Definition of color scheme common for light and dark mode */\n",
              "  --sklearn-color-text: #000;\n",
              "  --sklearn-color-text-muted: #666;\n",
              "  --sklearn-color-line: gray;\n",
              "  /* Definition of color scheme for unfitted estimators */\n",
              "  --sklearn-color-unfitted-level-0: #fff5e6;\n",
              "  --sklearn-color-unfitted-level-1: #f6e4d2;\n",
              "  --sklearn-color-unfitted-level-2: #ffe0b3;\n",
              "  --sklearn-color-unfitted-level-3: chocolate;\n",
              "  /* Definition of color scheme for fitted estimators */\n",
              "  --sklearn-color-fitted-level-0: #f0f8ff;\n",
              "  --sklearn-color-fitted-level-1: #d4ebff;\n",
              "  --sklearn-color-fitted-level-2: #b3dbfd;\n",
              "  --sklearn-color-fitted-level-3: cornflowerblue;\n",
              "\n",
              "  /* Specific color for light theme */\n",
              "  --sklearn-color-text-on-default-background: var(--sg-text-color, var(--theme-code-foreground, var(--jp-content-font-color1, black)));\n",
              "  --sklearn-color-background: var(--sg-background-color, var(--theme-background, var(--jp-layout-color0, white)));\n",
              "  --sklearn-color-border-box: var(--sg-text-color, var(--theme-code-foreground, var(--jp-content-font-color1, black)));\n",
              "  --sklearn-color-icon: #696969;\n",
              "\n",
              "  @media (prefers-color-scheme: dark) {\n",
              "    /* Redefinition of color scheme for dark theme */\n",
              "    --sklearn-color-text-on-default-background: var(--sg-text-color, var(--theme-code-foreground, var(--jp-content-font-color1, white)));\n",
              "    --sklearn-color-background: var(--sg-background-color, var(--theme-background, var(--jp-layout-color0, #111)));\n",
              "    --sklearn-color-border-box: var(--sg-text-color, var(--theme-code-foreground, var(--jp-content-font-color1, white)));\n",
              "    --sklearn-color-icon: #878787;\n",
              "  }\n",
              "}\n",
              "\n",
              "#sk-container-id-8 {\n",
              "  color: var(--sklearn-color-text);\n",
              "}\n",
              "\n",
              "#sk-container-id-8 pre {\n",
              "  padding: 0;\n",
              "}\n",
              "\n",
              "#sk-container-id-8 input.sk-hidden--visually {\n",
              "  border: 0;\n",
              "  clip: rect(1px 1px 1px 1px);\n",
              "  clip: rect(1px, 1px, 1px, 1px);\n",
              "  height: 1px;\n",
              "  margin: -1px;\n",
              "  overflow: hidden;\n",
              "  padding: 0;\n",
              "  position: absolute;\n",
              "  width: 1px;\n",
              "}\n",
              "\n",
              "#sk-container-id-8 div.sk-dashed-wrapped {\n",
              "  border: 1px dashed var(--sklearn-color-line);\n",
              "  margin: 0 0.4em 0.5em 0.4em;\n",
              "  box-sizing: border-box;\n",
              "  padding-bottom: 0.4em;\n",
              "  background-color: var(--sklearn-color-background);\n",
              "}\n",
              "\n",
              "#sk-container-id-8 div.sk-container {\n",
              "  /* jupyter's `normalize.less` sets `[hidden] { display: none; }`\n",
              "     but bootstrap.min.css set `[hidden] { display: none !important; }`\n",
              "     so we also need the `!important` here to be able to override the\n",
              "     default hidden behavior on the sphinx rendered scikit-learn.org.\n",
              "     See: https://github.com/scikit-learn/scikit-learn/issues/21755 */\n",
              "  display: inline-block !important;\n",
              "  position: relative;\n",
              "}\n",
              "\n",
              "#sk-container-id-8 div.sk-text-repr-fallback {\n",
              "  display: none;\n",
              "}\n",
              "\n",
              "div.sk-parallel-item,\n",
              "div.sk-serial,\n",
              "div.sk-item {\n",
              "  /* draw centered vertical line to link estimators */\n",
              "  background-image: linear-gradient(var(--sklearn-color-text-on-default-background), var(--sklearn-color-text-on-default-background));\n",
              "  background-size: 2px 100%;\n",
              "  background-repeat: no-repeat;\n",
              "  background-position: center center;\n",
              "}\n",
              "\n",
              "/* Parallel-specific style estimator block */\n",
              "\n",
              "#sk-container-id-8 div.sk-parallel-item::after {\n",
              "  content: \"\";\n",
              "  width: 100%;\n",
              "  border-bottom: 2px solid var(--sklearn-color-text-on-default-background);\n",
              "  flex-grow: 1;\n",
              "}\n",
              "\n",
              "#sk-container-id-8 div.sk-parallel {\n",
              "  display: flex;\n",
              "  align-items: stretch;\n",
              "  justify-content: center;\n",
              "  background-color: var(--sklearn-color-background);\n",
              "  position: relative;\n",
              "}\n",
              "\n",
              "#sk-container-id-8 div.sk-parallel-item {\n",
              "  display: flex;\n",
              "  flex-direction: column;\n",
              "}\n",
              "\n",
              "#sk-container-id-8 div.sk-parallel-item:first-child::after {\n",
              "  align-self: flex-end;\n",
              "  width: 50%;\n",
              "}\n",
              "\n",
              "#sk-container-id-8 div.sk-parallel-item:last-child::after {\n",
              "  align-self: flex-start;\n",
              "  width: 50%;\n",
              "}\n",
              "\n",
              "#sk-container-id-8 div.sk-parallel-item:only-child::after {\n",
              "  width: 0;\n",
              "}\n",
              "\n",
              "/* Serial-specific style estimator block */\n",
              "\n",
              "#sk-container-id-8 div.sk-serial {\n",
              "  display: flex;\n",
              "  flex-direction: column;\n",
              "  align-items: center;\n",
              "  background-color: var(--sklearn-color-background);\n",
              "  padding-right: 1em;\n",
              "  padding-left: 1em;\n",
              "}\n",
              "\n",
              "\n",
              "/* Toggleable style: style used for estimator/Pipeline/ColumnTransformer box that is\n",
              "clickable and can be expanded/collapsed.\n",
              "- Pipeline and ColumnTransformer use this feature and define the default style\n",
              "- Estimators will overwrite some part of the style using the `sk-estimator` class\n",
              "*/\n",
              "\n",
              "/* Pipeline and ColumnTransformer style (default) */\n",
              "\n",
              "#sk-container-id-8 div.sk-toggleable {\n",
              "  /* Default theme specific background. It is overwritten whether we have a\n",
              "  specific estimator or a Pipeline/ColumnTransformer */\n",
              "  background-color: var(--sklearn-color-background);\n",
              "}\n",
              "\n",
              "/* Toggleable label */\n",
              "#sk-container-id-8 label.sk-toggleable__label {\n",
              "  cursor: pointer;\n",
              "  display: flex;\n",
              "  width: 100%;\n",
              "  margin-bottom: 0;\n",
              "  padding: 0.5em;\n",
              "  box-sizing: border-box;\n",
              "  text-align: center;\n",
              "  align-items: start;\n",
              "  justify-content: space-between;\n",
              "  gap: 0.5em;\n",
              "}\n",
              "\n",
              "#sk-container-id-8 label.sk-toggleable__label .caption {\n",
              "  font-size: 0.6rem;\n",
              "  font-weight: lighter;\n",
              "  color: var(--sklearn-color-text-muted);\n",
              "}\n",
              "\n",
              "#sk-container-id-8 label.sk-toggleable__label-arrow:before {\n",
              "  /* Arrow on the left of the label */\n",
              "  content: \"▸\";\n",
              "  float: left;\n",
              "  margin-right: 0.25em;\n",
              "  color: var(--sklearn-color-icon);\n",
              "}\n",
              "\n",
              "#sk-container-id-8 label.sk-toggleable__label-arrow:hover:before {\n",
              "  color: var(--sklearn-color-text);\n",
              "}\n",
              "\n",
              "/* Toggleable content - dropdown */\n",
              "\n",
              "#sk-container-id-8 div.sk-toggleable__content {\n",
              "  max-height: 0;\n",
              "  max-width: 0;\n",
              "  overflow: hidden;\n",
              "  text-align: left;\n",
              "  /* unfitted */\n",
              "  background-color: var(--sklearn-color-unfitted-level-0);\n",
              "}\n",
              "\n",
              "#sk-container-id-8 div.sk-toggleable__content.fitted {\n",
              "  /* fitted */\n",
              "  background-color: var(--sklearn-color-fitted-level-0);\n",
              "}\n",
              "\n",
              "#sk-container-id-8 div.sk-toggleable__content pre {\n",
              "  margin: 0.2em;\n",
              "  border-radius: 0.25em;\n",
              "  color: var(--sklearn-color-text);\n",
              "  /* unfitted */\n",
              "  background-color: var(--sklearn-color-unfitted-level-0);\n",
              "}\n",
              "\n",
              "#sk-container-id-8 div.sk-toggleable__content.fitted pre {\n",
              "  /* unfitted */\n",
              "  background-color: var(--sklearn-color-fitted-level-0);\n",
              "}\n",
              "\n",
              "#sk-container-id-8 input.sk-toggleable__control:checked~div.sk-toggleable__content {\n",
              "  /* Expand drop-down */\n",
              "  max-height: 200px;\n",
              "  max-width: 100%;\n",
              "  overflow: auto;\n",
              "}\n",
              "\n",
              "#sk-container-id-8 input.sk-toggleable__control:checked~label.sk-toggleable__label-arrow:before {\n",
              "  content: \"▾\";\n",
              "}\n",
              "\n",
              "/* Pipeline/ColumnTransformer-specific style */\n",
              "\n",
              "#sk-container-id-8 div.sk-label input.sk-toggleable__control:checked~label.sk-toggleable__label {\n",
              "  color: var(--sklearn-color-text);\n",
              "  background-color: var(--sklearn-color-unfitted-level-2);\n",
              "}\n",
              "\n",
              "#sk-container-id-8 div.sk-label.fitted input.sk-toggleable__control:checked~label.sk-toggleable__label {\n",
              "  background-color: var(--sklearn-color-fitted-level-2);\n",
              "}\n",
              "\n",
              "/* Estimator-specific style */\n",
              "\n",
              "/* Colorize estimator box */\n",
              "#sk-container-id-8 div.sk-estimator input.sk-toggleable__control:checked~label.sk-toggleable__label {\n",
              "  /* unfitted */\n",
              "  background-color: var(--sklearn-color-unfitted-level-2);\n",
              "}\n",
              "\n",
              "#sk-container-id-8 div.sk-estimator.fitted input.sk-toggleable__control:checked~label.sk-toggleable__label {\n",
              "  /* fitted */\n",
              "  background-color: var(--sklearn-color-fitted-level-2);\n",
              "}\n",
              "\n",
              "#sk-container-id-8 div.sk-label label.sk-toggleable__label,\n",
              "#sk-container-id-8 div.sk-label label {\n",
              "  /* The background is the default theme color */\n",
              "  color: var(--sklearn-color-text-on-default-background);\n",
              "}\n",
              "\n",
              "/* On hover, darken the color of the background */\n",
              "#sk-container-id-8 div.sk-label:hover label.sk-toggleable__label {\n",
              "  color: var(--sklearn-color-text);\n",
              "  background-color: var(--sklearn-color-unfitted-level-2);\n",
              "}\n",
              "\n",
              "/* Label box, darken color on hover, fitted */\n",
              "#sk-container-id-8 div.sk-label.fitted:hover label.sk-toggleable__label.fitted {\n",
              "  color: var(--sklearn-color-text);\n",
              "  background-color: var(--sklearn-color-fitted-level-2);\n",
              "}\n",
              "\n",
              "/* Estimator label */\n",
              "\n",
              "#sk-container-id-8 div.sk-label label {\n",
              "  font-family: monospace;\n",
              "  font-weight: bold;\n",
              "  display: inline-block;\n",
              "  line-height: 1.2em;\n",
              "}\n",
              "\n",
              "#sk-container-id-8 div.sk-label-container {\n",
              "  text-align: center;\n",
              "}\n",
              "\n",
              "/* Estimator-specific */\n",
              "#sk-container-id-8 div.sk-estimator {\n",
              "  font-family: monospace;\n",
              "  border: 1px dotted var(--sklearn-color-border-box);\n",
              "  border-radius: 0.25em;\n",
              "  box-sizing: border-box;\n",
              "  margin-bottom: 0.5em;\n",
              "  /* unfitted */\n",
              "  background-color: var(--sklearn-color-unfitted-level-0);\n",
              "}\n",
              "\n",
              "#sk-container-id-8 div.sk-estimator.fitted {\n",
              "  /* fitted */\n",
              "  background-color: var(--sklearn-color-fitted-level-0);\n",
              "}\n",
              "\n",
              "/* on hover */\n",
              "#sk-container-id-8 div.sk-estimator:hover {\n",
              "  /* unfitted */\n",
              "  background-color: var(--sklearn-color-unfitted-level-2);\n",
              "}\n",
              "\n",
              "#sk-container-id-8 div.sk-estimator.fitted:hover {\n",
              "  /* fitted */\n",
              "  background-color: var(--sklearn-color-fitted-level-2);\n",
              "}\n",
              "\n",
              "/* Specification for estimator info (e.g. \"i\" and \"?\") */\n",
              "\n",
              "/* Common style for \"i\" and \"?\" */\n",
              "\n",
              ".sk-estimator-doc-link,\n",
              "a:link.sk-estimator-doc-link,\n",
              "a:visited.sk-estimator-doc-link {\n",
              "  float: right;\n",
              "  font-size: smaller;\n",
              "  line-height: 1em;\n",
              "  font-family: monospace;\n",
              "  background-color: var(--sklearn-color-background);\n",
              "  border-radius: 1em;\n",
              "  height: 1em;\n",
              "  width: 1em;\n",
              "  text-decoration: none !important;\n",
              "  margin-left: 0.5em;\n",
              "  text-align: center;\n",
              "  /* unfitted */\n",
              "  border: var(--sklearn-color-unfitted-level-1) 1pt solid;\n",
              "  color: var(--sklearn-color-unfitted-level-1);\n",
              "}\n",
              "\n",
              ".sk-estimator-doc-link.fitted,\n",
              "a:link.sk-estimator-doc-link.fitted,\n",
              "a:visited.sk-estimator-doc-link.fitted {\n",
              "  /* fitted */\n",
              "  border: var(--sklearn-color-fitted-level-1) 1pt solid;\n",
              "  color: var(--sklearn-color-fitted-level-1);\n",
              "}\n",
              "\n",
              "/* On hover */\n",
              "div.sk-estimator:hover .sk-estimator-doc-link:hover,\n",
              ".sk-estimator-doc-link:hover,\n",
              "div.sk-label-container:hover .sk-estimator-doc-link:hover,\n",
              ".sk-estimator-doc-link:hover {\n",
              "  /* unfitted */\n",
              "  background-color: var(--sklearn-color-unfitted-level-3);\n",
              "  color: var(--sklearn-color-background);\n",
              "  text-decoration: none;\n",
              "}\n",
              "\n",
              "div.sk-estimator.fitted:hover .sk-estimator-doc-link.fitted:hover,\n",
              ".sk-estimator-doc-link.fitted:hover,\n",
              "div.sk-label-container:hover .sk-estimator-doc-link.fitted:hover,\n",
              ".sk-estimator-doc-link.fitted:hover {\n",
              "  /* fitted */\n",
              "  background-color: var(--sklearn-color-fitted-level-3);\n",
              "  color: var(--sklearn-color-background);\n",
              "  text-decoration: none;\n",
              "}\n",
              "\n",
              "/* Span, style for the box shown on hovering the info icon */\n",
              ".sk-estimator-doc-link span {\n",
              "  display: none;\n",
              "  z-index: 9999;\n",
              "  position: relative;\n",
              "  font-weight: normal;\n",
              "  right: .2ex;\n",
              "  padding: .5ex;\n",
              "  margin: .5ex;\n",
              "  width: min-content;\n",
              "  min-width: 20ex;\n",
              "  max-width: 50ex;\n",
              "  color: var(--sklearn-color-text);\n",
              "  box-shadow: 2pt 2pt 4pt #999;\n",
              "  /* unfitted */\n",
              "  background: var(--sklearn-color-unfitted-level-0);\n",
              "  border: .5pt solid var(--sklearn-color-unfitted-level-3);\n",
              "}\n",
              "\n",
              ".sk-estimator-doc-link.fitted span {\n",
              "  /* fitted */\n",
              "  background: var(--sklearn-color-fitted-level-0);\n",
              "  border: var(--sklearn-color-fitted-level-3);\n",
              "}\n",
              "\n",
              ".sk-estimator-doc-link:hover span {\n",
              "  display: block;\n",
              "}\n",
              "\n",
              "/* \"?\"-specific style due to the `<a>` HTML tag */\n",
              "\n",
              "#sk-container-id-8 a.estimator_doc_link {\n",
              "  float: right;\n",
              "  font-size: 1rem;\n",
              "  line-height: 1em;\n",
              "  font-family: monospace;\n",
              "  background-color: var(--sklearn-color-background);\n",
              "  border-radius: 1rem;\n",
              "  height: 1rem;\n",
              "  width: 1rem;\n",
              "  text-decoration: none;\n",
              "  /* unfitted */\n",
              "  color: var(--sklearn-color-unfitted-level-1);\n",
              "  border: var(--sklearn-color-unfitted-level-1) 1pt solid;\n",
              "}\n",
              "\n",
              "#sk-container-id-8 a.estimator_doc_link.fitted {\n",
              "  /* fitted */\n",
              "  border: var(--sklearn-color-fitted-level-1) 1pt solid;\n",
              "  color: var(--sklearn-color-fitted-level-1);\n",
              "}\n",
              "\n",
              "/* On hover */\n",
              "#sk-container-id-8 a.estimator_doc_link:hover {\n",
              "  /* unfitted */\n",
              "  background-color: var(--sklearn-color-unfitted-level-3);\n",
              "  color: var(--sklearn-color-background);\n",
              "  text-decoration: none;\n",
              "}\n",
              "\n",
              "#sk-container-id-8 a.estimator_doc_link.fitted:hover {\n",
              "  /* fitted */\n",
              "  background-color: var(--sklearn-color-fitted-level-3);\n",
              "}\n",
              "</style><div id=\"sk-container-id-8\" class=\"sk-top-container\"><div class=\"sk-text-repr-fallback\"><pre>LogisticRegression(random_state=42)</pre><b>In a Jupyter environment, please rerun this cell to show the HTML representation or trust the notebook. <br />On GitHub, the HTML representation is unable to render, please try loading this page with nbviewer.org.</b></div><div class=\"sk-container\" hidden><div class=\"sk-item\"><div class=\"sk-estimator fitted sk-toggleable\"><input class=\"sk-toggleable__control sk-hidden--visually\" id=\"sk-estimator-id-8\" type=\"checkbox\" checked><label for=\"sk-estimator-id-8\" class=\"sk-toggleable__label fitted sk-toggleable__label-arrow\"><div><div>LogisticRegression</div></div><div><a class=\"sk-estimator-doc-link fitted\" rel=\"noreferrer\" target=\"_blank\" href=\"https://scikit-learn.org/1.6/modules/generated/sklearn.linear_model.LogisticRegression.html\">?<span>Documentation for LogisticRegression</span></a><span class=\"sk-estimator-doc-link fitted\">i<span>Fitted</span></span></div></label><div class=\"sk-toggleable__content fitted\"><pre>LogisticRegression(random_state=42)</pre></div> </div></div></div></div>"
            ]
          },
          "metadata": {},
          "execution_count": 120
        }
      ]
    },
    {
      "cell_type": "code",
      "source": [
        "from sklearn.neighbors import KNeighborsClassifier\n",
        "from catboost import CatBoostClassifier"
      ],
      "metadata": {
        "id": "DbkBQndZIKyM"
      },
      "execution_count": null,
      "outputs": []
    },
    {
      "cell_type": "code",
      "source": [
        "# 추가 base 모델 학습\n",
        "\n",
        "base_knn_3=KNeighborsClassifier()\n",
        "base_cb_3=CatBoostClassifier(random_state=42,verbose=0)\n",
        "\n",
        "base_knn_3.fit(X_train_20, y_train_20)\n",
        "base_cb_3.fit(X_train_20, y_train_20)"
      ],
      "metadata": {
        "colab": {
          "base_uri": "https://localhost:8080/"
        },
        "id": "KMrTOQl4IK0q",
        "outputId": "3ce42e9b-67b7-4d70-d856-92f5003a7559"
      },
      "execution_count": null,
      "outputs": [
        {
          "output_type": "execute_result",
          "data": {
            "text/plain": [
              "<catboost.core.CatBoostClassifier at 0x79e7f8d3eff0>"
            ]
          },
          "metadata": {},
          "execution_count": 107
        }
      ]
    },
    {
      "cell_type": "code",
      "source": [
        "base_knn_3_scaled=KNeighborsClassifier()\n",
        "base_cb_3_scaled=CatBoostClassifier(random_state=42,verbose=0)\n",
        "\n",
        "base_knn_3_scaled.fit(X_train_20_scaled, y_train_20)\n",
        "base_cb_3_scaled.fit(X_train_20_scaled, y_train_20)"
      ],
      "metadata": {
        "colab": {
          "base_uri": "https://localhost:8080/"
        },
        "id": "fCg7B5pwL0Bh",
        "outputId": "75c8ba7d-e0ac-4101-db65-3df0f7da5cc4"
      },
      "execution_count": null,
      "outputs": [
        {
          "output_type": "execute_result",
          "data": {
            "text/plain": [
              "<catboost.core.CatBoostClassifier at 0x79e7f46eef60>"
            ]
          },
          "metadata": {},
          "execution_count": 123
        }
      ]
    },
    {
      "cell_type": "code",
      "source": [
        "# <조합> RF + LGBM + SVC → meta: LR\n",
        "\n",
        "from sklearn.ensemble import StackingClassifier\n",
        "from sklearn.model_selection import cross_val_score\n",
        "\n",
        "stacking_clf_20 = StackingClassifier(\n",
        "    estimators=[\n",
        "        ('rf', base_rf_3),\n",
        "        ('lgbm', base_lgbm_3),\n",
        "        ('svc', base_svc_3)\n",
        "    ],\n",
        "    final_estimator=lr_final_3,\n",
        "    cv=5,\n",
        "    n_jobs=-1\n",
        ")\n",
        "\n",
        "stacking_scores_20 = cross_val_score(stacking_clf_20, X_train_20_scaled, y_train_20, cv=5, scoring='f1')\n",
        "print(\"\\n평균 정확도:\", stacking_scores_20.mean())"
      ],
      "metadata": {
        "colab": {
          "base_uri": "https://localhost:8080/"
        },
        "id": "MMPtitf4GBYY",
        "outputId": "964e94ed-2094-4328-a588-7121b7e79fcf"
      },
      "execution_count": null,
      "outputs": [
        {
          "output_type": "stream",
          "name": "stdout",
          "text": [
            "\n",
            "평균 정확도: 0.8146318559179784\n"
          ]
        }
      ]
    },
    {
      "cell_type": "markdown",
      "source": [
        "## 배깅\n",
        "\n",
        "결과) 0.646\n",
        "\n",
        "* 전반적으로 스태킹과 비슷하게 높은 성능을 보이지 않음.\n",
        "\n",
        "\n",
        "\n",
        "\n",
        "1. 의사결정트리 중요도 확인"
      ],
      "metadata": {
        "id": "Hx3Sg0dlgqZt"
      }
    },
    {
      "cell_type": "code",
      "source": [
        "from sklearn.inspection import permutation_importance\n",
        "from sklearn.metrics import f1_score\n",
        "from sklearn.tree import DecisionTreeClassifier\n",
        "\n",
        "# 타깃 컬럼 지정\n",
        "target_col = \"withdrawal\"\n",
        "feature_cols = [c for c in train.columns if c != target_col]\n",
        "\n",
        "X_train = train[feature_cols]\n",
        "y_train = train[target_col]\n",
        "\n",
        "# 모델 학습\n",
        "dt = DecisionTreeClassifier(\n",
        "    class_weight=\"balanced\",   # 클래스 불균형 고려\n",
        "    random_state=42\n",
        ")\n",
        "dt.fit(X_train, y_train)\n",
        "\n",
        "# 변수 중요도 (Gini 기반)\n",
        "importances = pd.Series(dt.feature_importances_, index=feature_cols)\\\n",
        "                .sort_values(ascending=False)\n",
        "\n",
        "print(importances)\n",
        "\n",
        "# 시각화 (상위 20개)\n",
        "import matplotlib.pyplot as plt\n",
        "topn = 20\n",
        "importances.head(topn).sort_values().plot.barh(figsize=(6, 8))\n",
        "plt.title(\"DecisionTree Feature Importance (Top 20)\")\n",
        "plt.xlabel(\"Importance\")\n",
        "plt.tight_layout()\n",
        "plt.show()"
      ],
      "metadata": {
        "colab": {
          "base_uri": "https://localhost:8080/",
          "height": 1000
        },
        "id": "8kLQBZzpMUSh",
        "outputId": "fc60598c-8126-42d4-b4ec-5b72939df004"
      },
      "execution_count": null,
      "outputs": [
        {
          "output_type": "stream",
          "name": "stdout",
          "text": [
            "interested_company          1.115469e-01\n",
            "re_registration             1.070590e-01\n",
            "school1                     7.086089e-02\n",
            "major_field                 6.184239e-02\n",
            "onedayclass_topic           5.912761e-02\n",
            "expected_domain             5.815388e-02\n",
            "whyBDA                      5.226454e-02\n",
            "desired_job                 5.103555e-02\n",
            "desired_certificate         4.020449e-02\n",
            "time_input                  3.856079e-02\n",
            "class1                      3.765855e-02\n",
            "what_to_gain                3.606498e-02\n",
            "desired_job_except_data     3.591291e-02\n",
            "completed_semester          3.273726e-02\n",
            "major1_1                    2.700188e-02\n",
            "major1_2                    2.263654e-02\n",
            "contest_participitation     2.257543e-02\n",
            "incumbents_lecture          2.213593e-02\n",
            "inflow_route                2.047706e-02\n",
            "incumbents_company_level    1.875154e-02\n",
            "desired_career_path         1.860481e-02\n",
            "incumbents_lecture_type     1.210024e-02\n",
            "certificate_acquisition     9.953213e-03\n",
            "incumbents_lecture_scale    9.495991e-03\n",
            "certificate_study_period    8.761943e-03\n",
            "major_data                  8.154172e-03\n",
            "hope_for_group              4.407641e-03\n",
            "incumbents_level            1.913876e-03\n",
            "project_type                2.063383e-17\n",
            "major type                  1.047090e-17\n",
            "contest_award               0.000000e+00\n",
            "job                         0.000000e+00\n",
            "nationality                 0.000000e+00\n",
            "idea_contest                0.000000e+00\n",
            "dtype: float64\n"
          ]
        },
        {
          "output_type": "display_data",
          "data": {
            "text/plain": [
              "<Figure size 600x800 with 1 Axes>"
            ],
            "image/png": "[encoded data removed]"
          },
          "metadata": {}
        }
      ]
    },
    {
      "cell_type": "markdown",
      "source": [
        "* 데이터 분할"
      ],
      "metadata": {
        "id": "J8UNEDnPg0rX"
      }
    },
    {
      "cell_type": "code",
      "source": [
        "X = train.drop('withdrawal', axis=1)\n",
        "y = train['withdrawal']\n",
        "X_test = test.copy()"
      ],
      "metadata": {
        "id": "dL0JCZwENIHa"
      },
      "execution_count": null,
      "outputs": []
    },
    {
      "cell_type": "code",
      "source": [
        "# 모든 피처 포함\n",
        "from sklearn.model_selection import train_test_split\n",
        "\n",
        "# 학습/검증 분리\n",
        "X_train, X_valid, y_train, y_valid = train_test_split(\n",
        "    X, y, test_size=0.2, random_state=42, stratify=y\n",
        "    # 클래스 불균형 고려 stratify\n",
        ")"
      ],
      "metadata": {
        "id": "ot0VLiGMNzBX"
      },
      "execution_count": null,
      "outputs": []
    },
    {
      "cell_type": "markdown",
      "source": [
        "\n",
        "\n",
        "---\n",
        "\n"
      ],
      "metadata": {
        "id": "0xFkpiLpiaTj"
      }
    },
    {
      "cell_type": "code",
      "source": [
        "from sklearn.ensemble import BaggingClassifier\n",
        "from sklearn.tree import DecisionTreeClassifier\n",
        "from sklearn.linear_model import LogisticRegression\n",
        "from sklearn.naive_bayes import CategoricalNB\n",
        "from sklearn.svm import SVC\n",
        "from sklearn.neighbors import KNeighborsClassifier\n",
        "from sklearn.ensemble import RandomForestClassifier"
      ],
      "metadata": {
        "id": "69mXOb0ux0UG"
      },
      "execution_count": null,
      "outputs": []
    },
    {
      "cell_type": "code",
      "source": [
        "# 기본 모델 후보들\n",
        "dt = DecisionTreeClassifier()\n",
        "lr = LogisticRegression()\n",
        "nb = CategoricalNB()\n",
        "svm = SVC()\n",
        "knn = KNeighborsClassifier()"
      ],
      "metadata": {
        "id": "weAOzSe0NT6h"
      },
      "execution_count": null,
      "outputs": []
    },
    {
      "cell_type": "code",
      "source": [
        "# 의사결정 트리\n",
        "bag_dt = BaggingClassifier(\n",
        "    DecisionTreeClassifier(), n_estimators=100, bootstrap=True, n_jobs=-1, oob_score=True)\n",
        "bag_dt.fit(X_train, y_train)\n",
        "y_pred = bag_dt.predict(X_valid)\n",
        "bag_dt.oob_score_"
      ],
      "metadata": {
        "id": "kWo5wN211dYS",
        "colab": {
          "base_uri": "https://localhost:8080/"
        },
        "outputId": "eb273b57-6675-43a7-f97a-2c38da4c8886"
      },
      "execution_count": null,
      "outputs": [
        {
          "output_type": "execute_result",
          "data": {
            "text/plain": [
              "0.6519138755980861"
            ]
          },
          "metadata": {},
          "execution_count": 54
        }
      ]
    },
    {
      "cell_type": "markdown",
      "source": [
        "\n",
        "\n",
        "---\n",
        "\n",
        "\n",
        "* 하이퍼 파라미터 튜닝"
      ],
      "metadata": {
        "id": "5tzoUYKGiew3"
      }
    },
    {
      "cell_type": "code",
      "source": [
        "!pip install optuna"
      ],
      "metadata": {
        "colab": {
          "base_uri": "https://localhost:8080/"
        },
        "id": "3VZEvD0gPzy6",
        "outputId": "2496c662-31d2-4779-d011-87c2629b1382"
      },
      "execution_count": null,
      "outputs": [
        {
          "output_type": "stream",
          "name": "stdout",
          "text": [
            "Collecting optuna\n",
            "  Downloading optuna-4.5.0-py3-none-any.whl.metadata (17 kB)\n",
            "Requirement already satisfied: alembic>=1.5.0 in /usr/local/lib/python3.12/dist-packages (from optuna) (1.16.5)\n",
            "Collecting colorlog (from optuna)\n",
            "  Downloading colorlog-6.9.0-py3-none-any.whl.metadata (10 kB)\n",
            "Requirement already satisfied: numpy in /usr/local/lib/python3.12/dist-packages (from optuna) (2.0.2)\n",
            "Requirement already satisfied: packaging>=20.0 in /usr/local/lib/python3.12/dist-packages (from optuna) (25.0)\n",
            "Requirement already satisfied: sqlalchemy>=1.4.2 in /usr/local/lib/python3.12/dist-packages (from optuna) (2.0.43)\n",
            "Requirement already satisfied: tqdm in /usr/local/lib/python3.12/dist-packages (from optuna) (4.67.1)\n",
            "Requirement already satisfied: PyYAML in /usr/local/lib/python3.12/dist-packages (from optuna) (6.0.2)\n",
            "Requirement already satisfied: Mako in /usr/local/lib/python3.12/dist-packages (from alembic>=1.5.0->optuna) (1.3.10)\n",
            "Requirement already satisfied: typing-extensions>=4.12 in /usr/local/lib/python3.12/dist-packages (from alembic>=1.5.0->optuna) (4.15.0)\n",
            "Requirement already satisfied: greenlet>=1 in /usr/local/lib/python3.12/dist-packages (from sqlalchemy>=1.4.2->optuna) (3.2.4)\n",
            "Requirement already satisfied: MarkupSafe>=0.9.2 in /usr/local/lib/python3.12/dist-packages (from Mako->alembic>=1.5.0->optuna) (3.0.2)\n",
            "Downloading optuna-4.5.0-py3-none-any.whl (400 kB)\n",
            "\u001b[2K   \u001b[90m━━━━━━━━━━━━━━━━━━━━━━━━━━━━━━━━━━━━━━━━\u001b[0m \u001b[32m400.9/400.9 kB\u001b[0m \u001b[31m14.3 MB/s\u001b[0m eta \u001b[36m0:00:00\u001b[0m\n",
            "\u001b[?25hDownloading colorlog-6.9.0-py3-none-any.whl (11 kB)\n",
            "Installing collected packages: colorlog, optuna\n",
            "Successfully installed colorlog-6.9.0 optuna-4.5.0\n"
          ]
        }
      ]
    },
    {
      "cell_type": "code",
      "source": [
        "## 하이퍼 파라미터 튜닝\n",
        "import optuna\n",
        "from sklearn.datasets import make_classification\n",
        "from sklearn.model_selection import cross_val_score, StratifiedKFold\n",
        "from sklearn.tree import DecisionTreeClassifier\n",
        "from sklearn.ensemble import BaggingClassifier\n",
        "from sklearn.metrics import accuracy_score\n",
        "from sklearn.model_selection import train_test_split\n",
        "\n",
        "# 예시 데이터 (학습자 철회 여부 데이터셋으로 교체)\n",
        "X, y = make_classification(n_samples=1045, n_features=20,\n",
        "                           n_informative=10, n_redundant=5,\n",
        "                           random_state=42)\n",
        "\n",
        "X_train, X_valid, y_train, y_valid = train_test_split(\n",
        "    X, y, test_size=0.2, stratify=y, random_state=42\n",
        ")\n",
        "\n",
        "def objective(trial):\n",
        "    # Bagging 하이퍼파라미터 탐색 공간\n",
        "    n_estimators = trial.suggest_int(\"n_estimators\", 10, 200)\n",
        "    max_samples = trial.suggest_float(\"max_samples\", 0.5, 1.0)\n",
        "    max_features = trial.suggest_float(\"max_features\", 0.5, 1.0)\n",
        "    bootstrap = trial.suggest_categorical(\"bootstrap\", [True, False])\n",
        "\n",
        "    # Base learner (Decision Tree)\n",
        "    max_depth = trial.suggest_int(\"max_depth\", 2, 20)\n",
        "    min_samples_split = trial.suggest_int(\"min_samples_split\", 2, 20)\n",
        "    min_samples_leaf = trial.suggest_int(\"min_samples_leaf\", 1, 10)\n",
        "\n",
        "    base_estimator = DecisionTreeClassifier(\n",
        "        max_depth=max_depth,\n",
        "        min_samples_split=min_samples_split,\n",
        "        min_samples_leaf=min_samples_leaf,\n",
        "        random_state=42\n",
        "    )\n",
        "\n",
        "    model = BaggingClassifier(\n",
        "        base_estimator,\n",
        "        n_estimators=n_estimators,\n",
        "        max_samples=max_samples,\n",
        "        max_features=max_features,\n",
        "        bootstrap=bootstrap,\n",
        "        random_state=42,\n",
        "        n_jobs=-1\n",
        "    )\n",
        "\n",
        "    # 교차검증 (Stratified K-Fold 사용 권장)\n",
        "    cv = StratifiedKFold(n_splits=5, shuffle=True, random_state=42)\n",
        "    score = cross_val_score(model, X_train, y_train, cv=cv,\n",
        "                            scoring=\"accuracy\", n_jobs=-1).mean()\n",
        "    return score\n",
        "\n",
        "# Optuna 실행\n",
        "study = optuna.create_study(direction=\"maximize\")\n",
        "study.optimize(objective, n_trials=50)\n",
        "\n",
        "print(\"Best hyperparameters:\", study.best_trial.params)\n",
        "print(\"Best CV accuracy:\", study.best_value)"
      ],
      "metadata": {
        "colab": {
          "base_uri": "https://localhost:8080/"
        },
        "id": "ZhYSBDTiPPW9",
        "outputId": "0b6d532c-3ea4-485a-94c0-821811c24e80"
      },
      "execution_count": null,
      "outputs": [
        {
          "output_type": "stream",
          "name": "stderr",
          "text": [
            "[I 2025-09-25 14:23:17,133] A new study created in memory with name: no-name-fbb04b8a-7bce-4e13-8e53-463f6c92acca\n",
            "[I 2025-09-25 14:23:27,197] Trial 0 finished with value: 0.8839820359281438 and parameters: {'n_estimators': 150, 'max_samples': 0.7190625584022341, 'max_features': 0.906504296232277, 'bootstrap': False, 'max_depth': 5, 'min_samples_split': 11, 'min_samples_leaf': 2}. Best is trial 0 with value: 0.8839820359281438.\n",
            "[I 2025-09-25 14:23:28,720] Trial 1 finished with value: 0.870815511833476 and parameters: {'n_estimators': 44, 'max_samples': 0.605551486655195, 'max_features': 0.611921568706296, 'bootstrap': False, 'max_depth': 5, 'min_samples_split': 2, 'min_samples_leaf': 4}. Best is trial 0 with value: 0.8839820359281438.\n",
            "[I 2025-09-25 14:23:37,378] Trial 2 finished with value: 0.8959580838323353 and parameters: {'n_estimators': 198, 'max_samples': 0.9720138833686506, 'max_features': 0.7799604319397797, 'bootstrap': True, 'max_depth': 7, 'min_samples_split': 14, 'min_samples_leaf': 4}. Best is trial 2 with value: 0.8959580838323353.\n",
            "[I 2025-09-25 14:23:39,163] Trial 3 finished with value: 0.8337610493299115 and parameters: {'n_estimators': 62, 'max_samples': 0.6072960751674139, 'max_features': 0.989805433431421, 'bootstrap': True, 'max_depth': 3, 'min_samples_split': 3, 'min_samples_leaf': 1}. Best is trial 2 with value: 0.8959580838323353.\n",
            "[I 2025-09-25 14:23:42,505] Trial 4 finished with value: 0.8851867693185058 and parameters: {'n_estimators': 102, 'max_samples': 0.8698712856457413, 'max_features': 0.9352646310505561, 'bootstrap': True, 'max_depth': 19, 'min_samples_split': 10, 'min_samples_leaf': 7}. Best is trial 2 with value: 0.8959580838323353.\n",
            "[I 2025-09-25 14:23:46,636] Trial 5 finished with value: 0.8839891645280866 and parameters: {'n_estimators': 142, 'max_samples': 0.7740495638273165, 'max_features': 0.9089436373433338, 'bootstrap': True, 'max_depth': 17, 'min_samples_split': 10, 'min_samples_leaf': 9}. Best is trial 2 with value: 0.8959580838323353.\n",
            "[I 2025-09-25 14:23:49,826] Trial 6 finished with value: 0.8839891645280866 and parameters: {'n_estimators': 113, 'max_samples': 0.7564681131784357, 'max_features': 0.6428398260886661, 'bootstrap': True, 'max_depth': 8, 'min_samples_split': 4, 'min_samples_leaf': 10}. Best is trial 2 with value: 0.8959580838323353.\n",
            "[I 2025-09-25 14:23:55,694] Trial 7 finished with value: 0.8875605930995153 and parameters: {'n_estimators': 165, 'max_samples': 0.6602906927324445, 'max_features': 0.6382931076377398, 'bootstrap': False, 'max_depth': 6, 'min_samples_split': 16, 'min_samples_leaf': 2}. Best is trial 2 with value: 0.8959580838323353.\n",
            "[I 2025-09-25 14:23:56,225] Trial 8 finished with value: 0.8743726832050186 and parameters: {'n_estimators': 13, 'max_samples': 0.7249799731538054, 'max_features': 0.6790309478925328, 'bootstrap': False, 'max_depth': 18, 'min_samples_split': 8, 'min_samples_leaf': 4}. Best is trial 2 with value: 0.8959580838323353.\n",
            "[I 2025-09-25 14:24:03,712] Trial 9 finished with value: 0.8899558026803536 and parameters: {'n_estimators': 193, 'max_samples': 0.7679801823477093, 'max_features': 0.8318054839446322, 'bootstrap': False, 'max_depth': 13, 'min_samples_split': 15, 'min_samples_leaf': 8}. Best is trial 2 with value: 0.8959580838323353.\n",
            "[I 2025-09-25 14:24:10,181] Trial 10 finished with value: 0.8923438836612488 and parameters: {'n_estimators': 195, 'max_samples': 0.9816761475554454, 'max_features': 0.5153459354637155, 'bootstrap': True, 'max_depth': 11, 'min_samples_split': 20, 'min_samples_leaf': 5}. Best is trial 2 with value: 0.8959580838323353.\n",
            "[I 2025-09-25 14:24:15,119] Trial 11 finished with value: 0.8911534074707728 and parameters: {'n_estimators': 199, 'max_samples': 0.9755855216468409, 'max_features': 0.501669526908602, 'bootstrap': True, 'max_depth': 11, 'min_samples_split': 20, 'min_samples_leaf': 5}. Best is trial 2 with value: 0.8959580838323353.\n",
            "[I 2025-09-25 14:24:23,651] Trial 12 finished with value: 0.8935557456515539 and parameters: {'n_estimators': 173, 'max_samples': 0.9921860728983597, 'max_features': 0.8147054010016608, 'bootstrap': True, 'max_depth': 10, 'min_samples_split': 20, 'min_samples_leaf': 5}. Best is trial 2 with value: 0.8959580838323353.\n",
            "[I 2025-09-25 14:24:28,566] Trial 13 finished with value: 0.8935628742514969 and parameters: {'n_estimators': 168, 'max_samples': 0.8910470319861501, 'max_features': 0.7867950160254781, 'bootstrap': True, 'max_depth': 8, 'min_samples_split': 15, 'min_samples_leaf': 7}. Best is trial 2 with value: 0.8959580838323353.\n",
            "[I 2025-09-25 14:24:30,669] Trial 14 finished with value: 0.8050327915597377 and parameters: {'n_estimators': 115, 'max_samples': 0.8831663524251899, 'max_features': 0.7420465499472506, 'bootstrap': True, 'max_depth': 2, 'min_samples_split': 14, 'min_samples_leaf': 7}. Best is trial 2 with value: 0.8959580838323353.\n",
            "[I 2025-09-25 14:24:36,394] Trial 15 finished with value: 0.8851938979184488 and parameters: {'n_estimators': 136, 'max_samples': 0.9029513347367285, 'max_features': 0.7804612470813023, 'bootstrap': True, 'max_depth': 14, 'min_samples_split': 17, 'min_samples_leaf': 7}. Best is trial 2 with value: 0.8959580838323353.\n",
            "[I 2025-09-25 14:24:40,341] Trial 16 finished with value: 0.8887724550898204 and parameters: {'n_estimators': 172, 'max_samples': 0.5036134817187157, 'max_features': 0.722905347942702, 'bootstrap': True, 'max_depth': 8, 'min_samples_split': 12, 'min_samples_leaf': 6}. Best is trial 2 with value: 0.8959580838323353.\n",
            "[I 2025-09-25 14:24:43,231] Trial 17 finished with value: 0.8995295124037639 and parameters: {'n_estimators': 85, 'max_samples': 0.9220005113817703, 'max_features': 0.8373952718374029, 'bootstrap': True, 'max_depth': 8, 'min_samples_split': 7, 'min_samples_leaf': 3}. Best is trial 17 with value: 0.8995295124037639.\n",
            "[I 2025-09-25 14:24:46,108] Trial 18 finished with value: 0.9055175363558596 and parameters: {'n_estimators': 83, 'max_samples': 0.8258099029017986, 'max_features': 0.8614372604478638, 'bootstrap': True, 'max_depth': 15, 'min_samples_split': 6, 'min_samples_leaf': 3}. Best is trial 18 with value: 0.9055175363558596.\n",
            "[I 2025-09-25 14:24:51,503] Trial 19 finished with value: 0.9043199315654405 and parameters: {'n_estimators': 82, 'max_samples': 0.8354606946858332, 'max_features': 0.8604509497827332, 'bootstrap': True, 'max_depth': 15, 'min_samples_split': 6, 'min_samples_leaf': 3}. Best is trial 18 with value: 0.9055175363558596.\n",
            "[I 2025-09-25 14:24:53,981] Trial 20 finished with value: 0.9079270031365839 and parameters: {'n_estimators': 66, 'max_samples': 0.8317899991679782, 'max_features': 0.8770685804087832, 'bootstrap': True, 'max_depth': 15, 'min_samples_split': 6, 'min_samples_leaf': 1}. Best is trial 20 with value: 0.9079270031365839.\n",
            "[I 2025-09-25 14:24:56,557] Trial 21 finished with value: 0.9127245508982036 and parameters: {'n_estimators': 69, 'max_samples': 0.8277418457466778, 'max_features': 0.8682741019221507, 'bootstrap': True, 'max_depth': 15, 'min_samples_split': 6, 'min_samples_leaf': 1}. Best is trial 21 with value: 0.9127245508982036.\n",
            "[I 2025-09-25 14:24:58,655] Trial 22 finished with value: 0.9043413173652695 and parameters: {'n_estimators': 51, 'max_samples': 0.8231122830027303, 'max_features': 0.9982781089055326, 'bootstrap': True, 'max_depth': 16, 'min_samples_split': 5, 'min_samples_leaf': 1}. Best is trial 21 with value: 0.9127245508982036.\n",
            "[I 2025-09-25 14:24:59,605] Trial 23 finished with value: 0.8959652124322783 and parameters: {'n_estimators': 25, 'max_samples': 0.8329845481845027, 'max_features': 0.8856187193969586, 'bootstrap': True, 'max_depth': 14, 'min_samples_split': 7, 'min_samples_leaf': 2}. Best is trial 21 with value: 0.9127245508982036.\n",
            "[I 2025-09-25 14:25:03,308] Trial 24 finished with value: 0.9019318505845453 and parameters: {'n_estimators': 72, 'max_samples': 0.8095630979132103, 'max_features': 0.9555329101228082, 'bootstrap': True, 'max_depth': 20, 'min_samples_split': 8, 'min_samples_leaf': 1}. Best is trial 21 with value: 0.9127245508982036.\n",
            "[I 2025-09-25 14:25:07,885] Trial 25 finished with value: 0.8983461648132305 and parameters: {'n_estimators': 94, 'max_samples': 0.9329938668638046, 'max_features': 0.8660257575233584, 'bootstrap': True, 'max_depth': 13, 'min_samples_split': 5, 'min_samples_leaf': 3}. Best is trial 21 with value: 0.9127245508982036.\n",
            "[I 2025-09-25 14:25:09,971] Trial 26 finished with value: 0.8971271742229826 and parameters: {'n_estimators': 42, 'max_samples': 0.7967001585038035, 'max_features': 0.9415723171792026, 'bootstrap': False, 'max_depth': 16, 'min_samples_split': 2, 'min_samples_leaf': 2}. Best is trial 21 with value: 0.9127245508982036.\n",
            "[I 2025-09-25 14:25:11,956] Trial 27 finished with value: 0.9067008839463929 and parameters: {'n_estimators': 62, 'max_samples': 0.6957840689215264, 'max_features': 0.8134760571568058, 'bootstrap': True, 'max_depth': 13, 'min_samples_split': 9, 'min_samples_leaf': 1}. Best is trial 21 with value: 0.9127245508982036.\n",
            "[I 2025-09-25 14:25:13,873] Trial 28 finished with value: 0.9019175933846594 and parameters: {'n_estimators': 65, 'max_samples': 0.6736799950095703, 'max_features': 0.7174550215010989, 'bootstrap': True, 'max_depth': 12, 'min_samples_split': 9, 'min_samples_leaf': 1}. Best is trial 21 with value: 0.9127245508982036.\n",
            "[I 2025-09-25 14:25:15,356] Trial 29 finished with value: 0.8875748502994012 and parameters: {'n_estimators': 35, 'max_samples': 0.7027920797457973, 'max_features': 0.897953547227798, 'bootstrap': False, 'max_depth': 17, 'min_samples_split': 11, 'min_samples_leaf': 2}. Best is trial 21 with value: 0.9127245508982036.\n",
            "[I 2025-09-25 14:25:17,911] Trial 30 finished with value: 0.9007199885942402 and parameters: {'n_estimators': 57, 'max_samples': 0.6223427296225386, 'max_features': 0.8129136733085073, 'bootstrap': True, 'max_depth': 10, 'min_samples_split': 12, 'min_samples_leaf': 1}. Best is trial 21 with value: 0.9127245508982036.\n",
            "[I 2025-09-25 14:25:22,464] Trial 31 finished with value: 0.8959509552323924 and parameters: {'n_estimators': 76, 'max_samples': 0.7235326723013642, 'max_features': 0.8630554099303365, 'bootstrap': True, 'max_depth': 15, 'min_samples_split': 6, 'min_samples_leaf': 3}. Best is trial 21 with value: 0.9127245508982036.\n",
            "[I 2025-09-25 14:25:29,041] Trial 32 finished with value: 0.9043270601653836 and parameters: {'n_estimators': 92, 'max_samples': 0.8467370326277183, 'max_features': 0.9119947358575514, 'bootstrap': True, 'max_depth': 13, 'min_samples_split': 4, 'min_samples_leaf': 2}. Best is trial 21 with value: 0.9127245508982036.\n",
            "[I 2025-09-25 14:25:37,939] Trial 33 finished with value: 0.900734245794126 and parameters: {'n_estimators': 123, 'max_samples': 0.7865318100948491, 'max_features': 0.7981435862268663, 'bootstrap': True, 'max_depth': 15, 'min_samples_split': 8, 'min_samples_leaf': 1}. Best is trial 21 with value: 0.9127245508982036.\n",
            "[I 2025-09-25 14:25:42,849] Trial 34 finished with value: 0.9067222697462218 and parameters: {'n_estimators': 69, 'max_samples': 0.8527470250037529, 'max_features': 0.8442601012607269, 'bootstrap': True, 'max_depth': 18, 'min_samples_split': 5, 'min_samples_leaf': 2}. Best is trial 21 with value: 0.9127245508982036.\n",
            "[I 2025-09-25 14:25:47,297] Trial 35 finished with value: 0.8935700028514398 and parameters: {'n_estimators': 49, 'max_samples': 0.8557906620264043, 'max_features': 0.7568884135480966, 'bootstrap': True, 'max_depth': 19, 'min_samples_split': 3, 'min_samples_leaf': 2}. Best is trial 21 with value: 0.9127245508982036.\n",
            "[I 2025-09-25 14:25:56,971] Trial 36 finished with value: 0.872013116623895 and parameters: {'n_estimators': 66, 'max_samples': 0.9502229965925744, 'max_features': 0.9679563726575321, 'bootstrap': False, 'max_depth': 17, 'min_samples_split': 9, 'min_samples_leaf': 1}. Best is trial 21 with value: 0.9127245508982036.\n",
            "[I 2025-09-25 14:25:59,385] Trial 37 finished with value: 0.8959366980325065 and parameters: {'n_estimators': 41, 'max_samples': 0.5607426093013518, 'max_features': 0.8340510865888741, 'bootstrap': True, 'max_depth': 18, 'min_samples_split': 4, 'min_samples_leaf': 1}. Best is trial 21 with value: 0.9127245508982036.\n",
            "[I 2025-09-25 14:26:02,088] Trial 38 finished with value: 0.8899558026803536 and parameters: {'n_estimators': 28, 'max_samples': 0.6907995638858768, 'max_features': 0.9168028790911005, 'bootstrap': True, 'max_depth': 20, 'min_samples_split': 2, 'min_samples_leaf': 4}. Best is trial 21 with value: 0.9127245508982036.\n",
            "[I 2025-09-25 14:26:08,570] Trial 39 finished with value: 0.9079127459366981 and parameters: {'n_estimators': 101, 'max_samples': 0.7336964235407833, 'max_features': 0.8806945984107132, 'bootstrap': True, 'max_depth': 18, 'min_samples_split': 7, 'min_samples_leaf': 2}. Best is trial 21 with value: 0.9127245508982036.\n",
            "[I 2025-09-25 14:26:15,522] Trial 40 finished with value: 0.8983319076133448 and parameters: {'n_estimators': 103, 'max_samples': 0.7296244708226263, 'max_features': 0.884928437971944, 'bootstrap': False, 'max_depth': 18, 'min_samples_split': 7, 'min_samples_leaf': 4}. Best is trial 21 with value: 0.9127245508982036.\n",
            "[I 2025-09-25 14:26:20,318] Trial 41 finished with value: 0.8971485600228114 and parameters: {'n_estimators': 60, 'max_samples': 0.7481290670531676, 'max_features': 0.8440604317755064, 'bootstrap': True, 'max_depth': 16, 'min_samples_split': 5, 'min_samples_leaf': 2}. Best is trial 21 with value: 0.9127245508982036.\n",
            "[I 2025-09-25 14:26:23,146] Trial 42 finished with value: 0.9007342457941261 and parameters: {'n_estimators': 73, 'max_samples': 0.6545177705523957, 'max_features': 0.9284444589504435, 'bootstrap': True, 'max_depth': 19, 'min_samples_split': 9, 'min_samples_leaf': 1}. Best is trial 21 with value: 0.9127245508982036.\n",
            "[I 2025-09-25 14:26:26,372] Trial 43 finished with value: 0.8947533504419731 and parameters: {'n_estimators': 97, 'max_samples': 0.7621027523561209, 'max_features': 0.8116464965307538, 'bootstrap': True, 'max_depth': 14, 'min_samples_split': 7, 'min_samples_leaf': 2}. Best is trial 21 with value: 0.9127245508982036.\n",
            "[I 2025-09-25 14:26:32,775] Trial 44 finished with value: 0.8935628742514969 and parameters: {'n_estimators': 113, 'max_samples': 0.8601230619934949, 'max_features': 0.7653988897691868, 'bootstrap': True, 'max_depth': 17, 'min_samples_split': 10, 'min_samples_leaf': 3}. Best is trial 21 with value: 0.9127245508982036.\n",
            "[I 2025-09-25 14:26:35,657] Trial 45 finished with value: 0.886370116909039 and parameters: {'n_estimators': 55, 'max_samples': 0.7954238957631795, 'max_features': 0.5467687258774107, 'bootstrap': True, 'max_depth': 12, 'min_samples_split': 3, 'min_samples_leaf': 2}. Best is trial 21 with value: 0.9127245508982036.\n",
            "[I 2025-09-25 14:26:36,691] Trial 46 finished with value: 0.8864057599087539 and parameters: {'n_estimators': 16, 'max_samples': 0.7464398560829494, 'max_features': 0.8885918193174839, 'bootstrap': True, 'max_depth': 18, 'min_samples_split': 6, 'min_samples_leaf': 1}. Best is trial 21 with value: 0.9127245508982036.\n",
            "[I 2025-09-25 14:26:44,992] Trial 47 finished with value: 0.8995366410037068 and parameters: {'n_estimators': 124, 'max_samples': 0.8735312638886523, 'max_features': 0.9626894181468032, 'bootstrap': True, 'max_depth': 16, 'min_samples_split': 5, 'min_samples_leaf': 2}. Best is trial 21 with value: 0.9127245508982036.\n",
            "[I 2025-09-25 14:26:50,723] Trial 48 finished with value: 0.878008269175934 and parameters: {'n_estimators': 88, 'max_samples': 0.6481215237697311, 'max_features': 0.8478489067640942, 'bootstrap': False, 'max_depth': 12, 'min_samples_split': 8, 'min_samples_leaf': 10}. Best is trial 21 with value: 0.9127245508982036.\n",
            "[I 2025-09-25 14:26:53,550] Trial 49 finished with value: 0.8827915597376675 and parameters: {'n_estimators': 77, 'max_samples': 0.693323365124508, 'max_features': 0.822743926992358, 'bootstrap': True, 'max_depth': 19, 'min_samples_split': 10, 'min_samples_leaf': 8}. Best is trial 21 with value: 0.9127245508982036.\n"
          ]
        },
        {
          "output_type": "stream",
          "name": "stdout",
          "text": [
            "Best hyperparameters: {'n_estimators': 69, 'max_samples': 0.8277418457466778, 'max_features': 0.8682741019221507, 'bootstrap': True, 'max_depth': 15, 'min_samples_split': 6, 'min_samples_leaf': 1}\n",
            "Best CV accuracy: 0.9127245508982036\n"
          ]
        }
      ]
    },
    {
      "cell_type": "code",
      "source": [
        "# 하이퍼 파라미터 튜닝 후 학습\n",
        "from sklearn.metrics import accuracy_score, classification_report\n",
        "best_params = study.best_trial.params\n",
        "# 최적 트리 설정\n",
        "best_dt = DecisionTreeClassifier(\n",
        "    max_depth=best_params[\"max_depth\"],\n",
        "    min_samples_split=best_params[\"min_samples_split\"],\n",
        "    min_samples_leaf=best_params[\"min_samples_leaf\"],\n",
        "    random_state=42\n",
        ")\n",
        "\n",
        "\n",
        "# 최적 BaggingClassifier 설정\n",
        "best_dt_model = BaggingClassifier(\n",
        "    best_dt,\n",
        "    n_estimators=best_params[\"n_estimators\"],\n",
        "    max_samples=best_params[\"max_samples\"],\n",
        "    max_features=best_params[\"max_features\"],\n",
        "    bootstrap=best_params[\"bootstrap\"],\n",
        "    random_state=42,\n",
        "    n_jobs=-1\n",
        ")\n",
        "\n",
        "# 최종 학습 (train 전체 데이터 사용)\n",
        "best_dt_model.fit(X_train, y_train)\n",
        "\n",
        "# 검증 성능 확인\n",
        "y_pred = best_dt_model.predict(X_valid)\n",
        "print(\"Validation Accuracy:\", accuracy_score(y_valid, y_pred))\n",
        "print(classification_report(y_valid, y_pred))"
      ],
      "metadata": {
        "colab": {
          "base_uri": "https://localhost:8080/"
        },
        "id": "Gl04N-TkYqo-",
        "outputId": "6ba9f090-c561-423f-8c2a-a73ec3143282"
      },
      "execution_count": null,
      "outputs": [
        {
          "output_type": "stream",
          "name": "stdout",
          "text": [
            "Validation Accuracy: 0.6842105263157895\n",
            "              precision    recall  f1-score   support\n",
            "\n",
            "           0       0.47      0.14      0.21        65\n",
            "           1       0.71      0.93      0.80       144\n",
            "\n",
            "    accuracy                           0.68       209\n",
            "   macro avg       0.59      0.53      0.51       209\n",
            "weighted avg       0.63      0.68      0.62       209\n",
            "\n"
          ]
        }
      ]
    },
    {
      "cell_type": "markdown",
      "source": [
        "## (3) 앙상블"
      ],
      "metadata": {
        "id": "4XBdxdLJ6XXk"
      }
    },
    {
      "cell_type": "markdown",
      "source": [
        "## voting\n",
        "- 리더보드 점수: 0.57999\n",
        "- 앙상블 보팅 모델은 적합한 모델이 아님을 알 수 있었음\n",
        "- XGboost, Random Forest, Logistic Regression 모델 조합의 리더보드 점수가 제일 높았음"
      ],
      "metadata": {
        "id": "MPsgvAgm6Xxm"
      }
    },
    {
      "cell_type": "markdown",
      "source": [
        "##**XGboost, Random Forest, Logistic Regression**"
      ],
      "metadata": {
        "id": "-019qKGNcFir"
      }
    },
    {
      "cell_type": "code",
      "source": [
        "from sklearn.linear_model import LogisticRegression\n",
        "from sklearn.ensemble import RandomForestClassifier, VotingClassifier\n",
        "from sklearn.metrics import accuracy_score, classification_report, confusion_matrix, roc_auc_score\n",
        "from xgboost import XGBClassifier\n",
        "\n",
        "# 개별 모델 정의\n",
        "clf1 = LogisticRegression(\n",
        "    max_iter=2000,       # 학습 안정화\n",
        "    solver='lbfgs',      # 다중 클래스 지원, 안정적\n",
        "    penalty='l2',        # L2 규제\n",
        "    C=0.5,               # 규제 강도 (작을수록 규제가 강함, 과적합 방지)\n",
        "    random_state=42\n",
        ")\n",
        "clf2 = RandomForestClassifier(\n",
        "    n_estimators=500,       # 트리 개수 증가\n",
        "    max_depth=15,           # 트리 최대 깊이 제한\n",
        "    min_samples_split=10,   # 분할 최소 샘플 수\n",
        "    min_samples_leaf=4,     # 리프 노드 최소 샘플 수\n",
        "    max_features='sqrt',    # 특성 선택 방식\n",
        "    bootstrap=True,         # 배깅 적용\n",
        "    random_state=42,\n",
        "    n_jobs=-1               # 병렬 처리\n",
        ")\n",
        "clf3 = XGBClassifier(\n",
        "    n_estimators=1000,        # 충분히 크게\n",
        "    learning_rate=0.03,       # 낮추고 트리 개수 늘려서 안정적 학습\n",
        "    max_depth=6,              # 트리 깊이 제한\n",
        "    subsample=0.8,            # 데이터 샘플링 비율\n",
        "    colsample_bytree=0.8,     # 피처 샘플링 비율\n",
        "    gamma=1,                  # 분할 최소 손실 감소\n",
        "    reg_alpha=0.1,            # L1 규제\n",
        "    reg_lambda=1.0,           # L2 규제\n",
        "    random_state=42,\n",
        "    use_label_encoder=False,\n",
        "    eval_metric='logloss',\n",
        "    n_jobs=-1\n",
        ")"
      ],
      "metadata": {
        "id": "kVeyhawKhioy"
      },
      "execution_count": null,
      "outputs": []
    },
    {
      "cell_type": "markdown",
      "source": [
        "**(1) 하드 보팅**"
      ],
      "metadata": {
        "id": "de0l6rJpcWPC"
      }
    },
    {
      "cell_type": "code",
      "source": [
        "hard_voting_clf = VotingClassifier(\n",
        "    estimators=[('lr', clf1), ('rf', clf2), ('xgb', clf3)],\n",
        "    voting='hard'\n",
        ")\n",
        "\n",
        "hard_voting_clf.fit(X_train, y_train)\n",
        "y_pred_hard = hard_voting_clf.predict(X_valid)"
      ],
      "metadata": {
        "id": "1L08-EcnhlQ5"
      },
      "execution_count": null,
      "outputs": []
    },
    {
      "cell_type": "markdown",
      "source": [
        "**(2) 소프트 보팅**"
      ],
      "metadata": {
        "id": "fvCogrBuce1h"
      }
    },
    {
      "cell_type": "code",
      "source": [
        "soft_voting_clf = VotingClassifier(\n",
        "    estimators=[('lr', clf1), ('rf', clf2), ('xgb', clf3)],\n",
        "    voting='soft'\n",
        ")\n",
        "\n",
        "soft_voting_clf.fit(X_train, y_train)\n",
        "y_pred_soft = soft_voting_clf.predict(X_valid)"
      ],
      "metadata": {
        "id": "RUjCcbxIhoh0"
      },
      "execution_count": null,
      "outputs": []
    },
    {
      "cell_type": "code",
      "source": [
        "print(\"=== Hard Voting ===\")\n",
        "print(\"Accuracy:\", accuracy_score(y_valid, y_pred_hard))\n",
        "print(\"Confusion Matrix:\\n\", confusion_matrix(y_valid, y_pred_hard))\n",
        "print(classification_report(y_valid, y_pred_hard))\n",
        "\n",
        "print(\"\\n=== Soft Voting ===\")\n",
        "print(\"Accuracy:\", accuracy_score(y_valid, y_pred_soft))\n",
        "print(\"Confusion Matrix:\\n\", confusion_matrix(y_valid, y_pred_soft))\n",
        "print(classification_report(y_valid, y_pred_soft))"
      ],
      "metadata": {
        "colab": {
          "base_uri": "https://localhost:8080/"
        },
        "id": "a4GQJM6uhpCl",
        "outputId": "84a17617-e5e2-4d34-987a-ccf272d9cf68"
      },
      "execution_count": null,
      "outputs": [
        {
          "output_type": "stream",
          "name": "stdout",
          "text": [
            "=== Hard Voting ===\n",
            "Accuracy: 0.6985645933014354\n",
            "Confusion Matrix:\n",
            " [[  4  61]\n",
            " [  2 142]]\n",
            "              precision    recall  f1-score   support\n",
            "\n",
            "           0       0.67      0.06      0.11        65\n",
            "           1       0.70      0.99      0.82       144\n",
            "\n",
            "    accuracy                           0.70       209\n",
            "   macro avg       0.68      0.52      0.47       209\n",
            "weighted avg       0.69      0.70      0.60       209\n",
            "\n",
            "\n",
            "=== Soft Voting ===\n",
            "Accuracy: 0.7033492822966507\n",
            "Confusion Matrix:\n",
            " [[  6  59]\n",
            " [  3 141]]\n",
            "              precision    recall  f1-score   support\n",
            "\n",
            "           0       0.67      0.09      0.16        65\n",
            "           1       0.70      0.98      0.82       144\n",
            "\n",
            "    accuracy                           0.70       209\n",
            "   macro avg       0.69      0.54      0.49       209\n",
            "weighted avg       0.69      0.70      0.62       209\n",
            "\n"
          ]
        }
      ]
    },
    {
      "cell_type": "code",
      "source": [
        "from sklearn.ensemble import VotingClassifier\n",
        "import pandas as pd\n",
        "\n",
        "# 보팅 모델 정의 (Hard/Soft 둘 다 가능)\n",
        "soft_voting_clf = VotingClassifier(\n",
        "    estimators=[('lr', clf1), ('rf', clf2), ('xgb', clf3)],\n",
        "    voting='soft',   # 'hard'도 가능, 하지만 확률 기반 soft가 보통 성능이 좋음\n",
        "    n_jobs=-1\n",
        ")\n",
        "\n",
        "# 전체 train 데이터로 학습\n",
        "soft_voting_clf.fit(X, y)\n",
        "\n",
        "# test 데이터 불러오기 (대회에서 제공된 test.csv 전처리 완료본)\n",
        "X_test = test[top20_features]\n",
        "\n",
        "# 예측\n",
        "y_test_pred = soft_voting_clf.predict(X_test)\n",
        "\n",
        "# sample_submission 불러오기\n",
        "submission = pd.read_csv(\"sample_submission.csv\")\n",
        "\n",
        "# 두 번째 컬럼에 예측값 채우기\n",
        "submission.iloc[:, 1] = y_test_pred\n",
        "\n",
        "# 저장\n",
        "submission.to_csv(\"submission.csv\", index=False)\n",
        "print(\"✅ submission.csv 저장 완료!\")"
      ],
      "metadata": {
        "id": "9z09Yz3k7t4S"
      },
      "execution_count": null,
      "outputs": []
    },
    {
      "cell_type": "markdown",
      "source": [
        "## (4) RandomForest 최적화\n",
        "\n",
        "- RandomForest, LogisticRegrssion을 이용하여 단일 모델 성능 비교\n",
        "\n",
        "- RandomForet의 성능이 더 좋음 -> RandomForest 최적화 결정\n",
        "\n",
        "- RandomForest, LogisticRegrssion, LightGBM을 이용하여 앙상블 시도\n",
        "\n",
        "- RandomForest 단일 모델보다 성능이 좋지 않음\n",
        "\n",
        "- 기타 최적화 시도: 특성 선택, 임계값 최적화, 배깅 앙상블 등 -> 성능 개선 없음\n",
        "\n",
        "✅ 최종 모델: 피처 선택 + RandomForest"
      ],
      "metadata": {
        "id": "JNuO4KsJoaTl"
      }
    },
    {
      "cell_type": "code",
      "source": [
        "y_train = train['withdrawal']\n",
        "X_train = train.drop('withdrawal', axis=1)\n",
        "X_test = test.copy()"
      ],
      "metadata": {
        "id": "6GADM5Dftm4b"
      },
      "execution_count": null,
      "outputs": []
    },
    {
      "cell_type": "code",
      "source": [
        "from sklearn.model_selection import train_test_split\n",
        "\n",
        "# 학습/검증 분리\n",
        "X_train, X_valid, y_train, y_valid = train_test_split(\n",
        "    X_train, y_train, test_size=0.2, random_state=42, stratify=y_train\n",
        "    # 클래스 불균형 고려 stratify\n",
        ")"
      ],
      "metadata": {
        "id": "KLHqw5Kj_H4h"
      },
      "execution_count": null,
      "outputs": []
    },
    {
      "cell_type": "code",
      "source": [
        "# 라이브러리 임포트\n",
        "from sklearn.model_selection import GridSearchCV, StratifiedKFold\n",
        "from sklearn.ensemble import RandomForestClassifier\n",
        "from sklearn.metrics import f1_score, make_scorer\n",
        "from imblearn.pipeline import Pipeline as ImbPipeline"
      ],
      "metadata": {
        "id": "ljR1iAs0uM06"
      },
      "execution_count": null,
      "outputs": []
    },
    {
      "cell_type": "code",
      "source": [
        "# --- 1. 교차 검증 및 모델링 준비 ---\n",
        "# StratifiedKFold: 교차 검증 시 각 폴드의 클래스 비율을 원본과 동일하게 유지\n",
        "cv_strategy = StratifiedKFold(n_splits=5, shuffle=True, random_state=42)\n",
        "\n",
        "# 평가지표를 F1 Score로 설정\n",
        "f1_scorer = make_scorer(f1_score)"
      ],
      "metadata": {
        "id": "raAMPoVGuWVb"
      },
      "execution_count": null,
      "outputs": []
    },
    {
      "cell_type": "code",
      "source": [
        "# --- 2. 모델링 및 하이퍼파라미터 튜닝: Random Forest ---\n",
        "print(\"[Random Forest 모델 학습 시작]\")\n",
        "\n",
        "# Random Forest 모델 생성\n",
        "# class_weight='balanced': 클래스 불균형을 자동으로 처리\n",
        "rf_model = RandomForestClassifier(random_state=42, class_weight='balanced')\n",
        "\n",
        "# 튜닝할 하이퍼파라미터 그리드 설정\n",
        "# n_estimators: 트리의 개수\n",
        "# max_depth: 트리의 최대 깊이\n",
        "# min_samples_leaf: 리프 노드가 되기 위한 최소 샘플 수\n",
        "param_grid_rf = {\n",
        "    'n_estimators': [100, 200],\n",
        "    'max_depth': [5, 10, None], # None은 깊이 제한 없음\n",
        "    'min_samples_leaf': [1, 2, 4]\n",
        "}\n",
        "\n",
        "# GridSearchCV를 사용해 최적의 파라미터 탐색\n",
        "grid_search_rf = GridSearchCV(\n",
        "    estimator=rf_model,\n",
        "    param_grid=param_grid_rf,\n",
        "    scoring=f1_scorer,\n",
        "    cv=cv_strategy,\n",
        "    n_jobs=-1\n",
        ")\n",
        "\n",
        "# 학습 시작\n",
        "grid_search_rf.fit(X_train, y_train)\n",
        "\n",
        "# 결과 출력\n",
        "print(f\"최적 하이퍼파라미터: {grid_search_rf.best_params_}\")\n",
        "print(f\"최고 교차 검증 F1 Score: {grid_search_rf.best_score_:.4f}\")\n",
        "print(\"-\" * 30)"
      ],
      "metadata": {
        "id": "AysSPTzZubhx",
        "colab": {
          "base_uri": "https://localhost:8080/"
        },
        "outputId": "cff8112e-eb42-4fec-bec9-8271a5331b9b"
      },
      "execution_count": null,
      "outputs": [
        {
          "output_type": "stream",
          "name": "stdout",
          "text": [
            "[Random Forest 모델 학습 시작]\n",
            "최적 하이퍼파라미터: {'max_depth': None, 'min_samples_leaf': 1, 'n_estimators': 200}\n",
            "최고 교차 검증 F1 Score: 0.8092\n",
            "------------------------------\n"
          ]
        }
      ]
    },
    {
      "cell_type": "code",
      "source": [
        "def tune_threshold(proba, y_true):\n",
        "    ths = np.linspace(0.05, 0.5, 46)\n",
        "    best_f1 = -1\n",
        "    best_th = 0.1\n",
        "    for t in ths:\n",
        "        score = f1_score(y_true, (proba >= t).astype(int))\n",
        "        if score > best_f1:\n",
        "            best_f1 = score\n",
        "            best_th = t\n",
        "    return best_th"
      ],
      "metadata": {
        "id": "J9AxWPxkuheP"
      },
      "execution_count": null,
      "outputs": []
    },
    {
      "cell_type": "code",
      "source": [
        "# --- 공통 설정 ---\n",
        "cv_strategy = StratifiedKFold(n_splits=5, shuffle=True, random_state=42)\n",
        "f1_scorer = make_scorer(f1_score)\n",
        "\n",
        "\n",
        "# --- 1. 기준선 모델 (SMOTE 미적용 랜덤포레스트) ---\n",
        "print(\"[Step 1] 기준선 모델(Random Forest) 성능 확인\")\n",
        "\n",
        "# 이전 단계에서 찾은 최적의 파라미터를 기반으로 탐색 범위 설정\n",
        "param_grid_rf = {\n",
        "    'n_estimators': [100, 200],\n",
        "    'max_depth': [10, None],\n",
        "    'min_samples_leaf': [1, 2]\n",
        "}\n",
        "rf_model = RandomForestClassifier(random_state=42, class_weight='balanced', n_jobs=-1)\n",
        "\n",
        "grid_search_rf = GridSearchCV(\n",
        "    estimator=rf_model,\n",
        "    param_grid=param_grid_rf,\n",
        "    scoring=f1_scorer,\n",
        "    cv=cv_strategy\n",
        ")\n",
        "grid_search_rf.fit(X_train, y_train)\n",
        "baseline_f1_score = grid_search_rf.best_score_\n",
        "\n",
        "print(f\"최적 하이퍼파라미터: {grid_search_rf.best_params_}\")\n",
        "print(f\"기준선 교차 검증 F1 Score: {baseline_f1_score:.4f}\")\n",
        "print(\"-\" * 50)"
      ],
      "metadata": {
        "id": "BcD3DQsauoye",
        "colab": {
          "base_uri": "https://localhost:8080/"
        },
        "outputId": "a5980fec-e2ce-4f86-f998-c35a747181fd"
      },
      "execution_count": null,
      "outputs": [
        {
          "output_type": "stream",
          "name": "stdout",
          "text": [
            "[Step 1] 기준선 모델(Random Forest) 성능 확인\n",
            "최적 하이퍼파라미터: {'max_depth': None, 'min_samples_leaf': 1, 'n_estimators': 200}\n",
            "기준선 교차 검증 F1 Score: 0.8092\n",
            "--------------------------------------------------\n"
          ]
        }
      ]
    },
    {
      "cell_type": "code",
      "source": [
        "# --- 2: 특성 중요도 analysis and selection ---\n",
        "print(\"[Step 3] 특성 중요도 분석 및 선택\")\n",
        "\n",
        "# Step 1에서 찾은 최적의 모델을 가져옴\n",
        "best_rf_model = grid_search_rf.best_estimator_\n",
        "\n",
        "# 특성 중요도 확인\n",
        "# Use the original training data feature column names\n",
        "feature_cols = [col for col in train.columns if col != 'withdrawal']\n",
        "feature_importances = pd.Series(best_rf_model.feature_importances_, index=feature_cols)\n",
        "feature_importances = feature_importances.sort_values(ascending=False)\n",
        "\n",
        "print(\"특성 중요도 (높은 순):\")\n",
        "print(feature_importances)\n",
        "\n",
        "# 시각화\n",
        "import matplotlib.pyplot as plt\n",
        "topn = 20\n",
        "feature_importances.head(topn).sort_values().plot.barh(figsize=(6, 8))\n",
        "plt.title(\"RandomForest Feature Importance (Top 20)\")\n",
        "plt.xlabel(\"Importance\")\n",
        "plt.tight_layout()\n",
        "plt.show()\n",
        "\n",
        "# 중요도가 0.005 이상인 특성만 선택\n",
        "important_features = feature_importances[feature_importances > 0.005].index.tolist()\n",
        "\n",
        "if len(important_features) == 0: # 모든 특성의 중요도가 0.005 미만일 경우 상위 5개 선택\n",
        "    important_features = feature_importances.head(5).index.tolist()\n",
        "\n",
        "print(f\"\\n선택된 주요 특성 ({len(important_features)}개): {important_features}\")\n",
        "\n",
        "# 선택된 특성으로 새로운 데이터셋 생성\n",
        "# Use the original training data for selecting columns\n",
        "X_train_selected = X_train[important_features]\n",
        "X_valid_selected = X_valid[important_features]\n",
        "X_test_selected = test[important_features] # Use test.columns for X_test_scaled\n",
        "\n",
        "print(f\"특성 선택 후 X_train shape: {X_train_selected.shape}\")\n",
        "print(\"-\" * 50)"
      ],
      "metadata": {
        "id": "w7Bvg2kVuscP",
        "colab": {
          "base_uri": "https://localhost:8080/",
          "height": 1000
        },
        "outputId": "b0842b87-7769-4df8-fe0e-053784467527"
      },
      "execution_count": null,
      "outputs": [
        {
          "output_type": "stream",
          "name": "stdout",
          "text": [
            "[Step 3] 특성 중요도 분석 및 선택\n",
            "특성 중요도 (높은 순):\n",
            "onedayclass_topic           0.070900\n",
            "interested_company          0.070299\n",
            "school1                     0.065681\n",
            "desired_certificate         0.062484\n",
            "re_registration             0.059377\n",
            "class1                      0.049472\n",
            "major_field                 0.048562\n",
            "desired_job                 0.048236\n",
            "expected_domain             0.042661\n",
            "desired_job_except_data     0.042516\n",
            "time_input                  0.042298\n",
            "inflow_route                0.040492\n",
            "major1_1                    0.034104\n",
            "whyBDA                      0.028375\n",
            "major1_2                    0.027638\n",
            "incumbents_company_level    0.026343\n",
            "incumbents_lecture          0.021728\n",
            "what_to_gain                0.021355\n",
            "incumbents_lecture_scale    0.021036\n",
            "hope_for_group              0.020300\n",
            "contest_participitation     0.019733\n",
            "completed_semester          0.018156\n",
            "incumbents_lecture_type     0.017725\n",
            "desired_career_path         0.015126\n",
            "certificate_acquisition     0.014986\n",
            "incumbents_level            0.014823\n",
            "major type                  0.013245\n",
            "certificate_study_period    0.012376\n",
            "project_type                0.011305\n",
            "major_data                  0.010302\n",
            "job                         0.007826\n",
            "nationality                 0.000541\n",
            "contest_award               0.000000\n",
            "idea_contest                0.000000\n",
            "dtype: float64\n"
          ]
        },
        {
          "output_type": "display_data",
          "data": {
            "text/plain": [
              "<Figure size 600x800 with 1 Axes>"
            ],
            "image/png": "[encoded data removed]"
          },
          "metadata": {}
        },
        {
          "output_type": "stream",
          "name": "stdout",
          "text": [
            "\n",
            "선택된 주요 특성 (31개): ['onedayclass_topic', 'interested_company', 'school1', 'desired_certificate', 're_registration', 'class1', 'major_field', 'desired_job', 'expected_domain', 'desired_job_except_data', 'time_input', 'inflow_route', 'major1_1', 'whyBDA', 'major1_2', 'incumbents_company_level', 'incumbents_lecture', 'what_to_gain', 'incumbents_lecture_scale', 'hope_for_group', 'contest_participitation', 'completed_semester', 'incumbents_lecture_type', 'desired_career_path', 'certificate_acquisition', 'incumbents_level', 'major type', 'certificate_study_period', 'project_type', 'major_data', 'job']\n",
            "특성 선택 후 X_train shape: (836, 31)\n",
            "--------------------------------------------------\n"
          ]
        }
      ]
    },
    {
      "cell_type": "code",
      "source": [
        "# --- 3. 선택된 특성으로 모델 학습 ---\n",
        "print(\"[Step 4] 선택된 특성으로 최종 모델 재학습\")\n",
        "\n",
        "selected_rf = RandomForestClassifier(random_state=42,\n",
        "                                     class_weight='balanced',\n",
        "                                     n_jobs=-1,\n",
        "                                     max_depth=None,\n",
        "                                     min_samples_leaf=1,\n",
        "                                     n_estimators=200)\n",
        "\n",
        "selected_rf.fit(X_train_selected, y_train)\n",
        "pred = selected_rf.predict(X_valid_selected)\n",
        "\n",
        "f1 = f1_score(y_valid, pred)\n",
        "print(f\"검증 데이터 F1 Score: {f1:.4f}\")"
      ],
      "metadata": {
        "id": "u5AfiCDquv8t",
        "colab": {
          "base_uri": "https://localhost:8080/"
        },
        "outputId": "afad26af-9097-4d15-f121-ee00d87edd62"
      },
      "execution_count": null,
      "outputs": [
        {
          "output_type": "stream",
          "name": "stdout",
          "text": [
            "[Step 4] 선택된 특성으로 최종 모델 재학습\n",
            "검증 데이터 F1 Score: 0.8208\n"
          ]
        }
      ]
    },
    {
      "cell_type": "code",
      "source": [
        "final_pred = selected_rf.predict(X_test_selected)"
      ],
      "metadata": {
        "id": "fv_7-ChsvaJq"
      },
      "execution_count": null,
      "outputs": []
    },
    {
      "cell_type": "code",
      "source": [
        "sample_submission['withdrawal'] = final_pred"
      ],
      "metadata": {
        "id": "1B9XQsgivduH"
      },
      "execution_count": null,
      "outputs": []
    },
    {
      "cell_type": "code",
      "source": [
        "print(\"클래스별 개수:\")\n",
        "print(sample_submission['withdrawal'].value_counts())\n",
        "\n",
        "print(\"클래스별 비율:\")\n",
        "print(sample_submission['withdrawal'].value_counts(normalize=True))"
      ],
      "metadata": {
        "id": "mQ7dAcOZwxAM",
        "colab": {
          "base_uri": "https://localhost:8080/"
        },
        "outputId": "5c2161d5-f1fb-4816-db29-cea164a985d7"
      },
      "execution_count": null,
      "outputs": [
        {
          "output_type": "stream",
          "name": "stdout",
          "text": [
            "클래스별 개수:\n",
            "withdrawal\n",
            "1    780\n",
            "0      8\n",
            "Name: count, dtype: int64\n",
            "클래스별 비율:\n",
            "withdrawal\n",
            "1    0.989848\n",
            "0    0.010152\n",
            "Name: proportion, dtype: float64\n"
          ]
        }
      ]
    },
    {
      "cell_type": "code",
      "source": [
        "sample_submission.to_csv('submission_RF_Final.csv', index=False)"
      ],
      "metadata": {
        "id": "GPXvXFpgw0qt"
      },
      "execution_count": null,
      "outputs": []
    },
    {
      "cell_type": "markdown",
      "source": [
        "## 결론\n",
        "\n",
        "* 단일모델과 앙상블 모두 시도한 결과, 랜덤포레스트 단일 모델로 학습하는 것의 성능이 제일 좋았음.\n",
        "\n",
        "* 피처 중요도 기준으로 피처를 선별한 후, 랜덤포레스트로 학습한 알고리즘이 0.649 (프라이빗 9위) 기록."
      ],
      "metadata": {
        "id": "XhswTcRF8hGF"
      }
    }
  ]
}